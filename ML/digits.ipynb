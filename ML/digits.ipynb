{
 "cells": [
  {
   "cell_type": "code",
   "execution_count": 90,
   "metadata": {},
   "outputs": [],
   "source": [
    "from sklearn import datasets\n",
    "import pandas as pd\n",
    "from sklearn.neighbors import KNeighborsClassifier,KNeighborsRegressor\n",
    "from sklearn.model_selection import train_test_split,cross_val_score,GridSearchCV\n",
    "from sklearn.metrics import mean_squared_error\n",
    "import matplotlib.pyplot as plt\n",
    "import numpy as np\n",
    "from sklearn.linear_model import LinearRegression,LogisticRegression,Ridge,Lasso\n",
    "from sklearn.utils import shuffle\n",
    "from sklearn.preprocessing import StandardScaler\n",
    "powers = [1e-4,1e-3,1e-2,1e-1,1,1e1,1e2,1e3,1e4]\n",
    "zoomed = np.array(range(1,101))"
   ]
  },
  {
   "cell_type": "code",
   "execution_count": 91,
   "metadata": {},
   "outputs": [],
   "source": [
    "digits=datasets.load_digits()"
   ]
  },
  {
   "cell_type": "code",
   "execution_count": 92,
   "metadata": {},
   "outputs": [
    {
     "data": {
      "text/plain": [
       "dict_keys(['data', 'target', 'target_names', 'images', 'DESCR'])"
      ]
     },
     "execution_count": 92,
     "metadata": {},
     "output_type": "execute_result"
    }
   ],
   "source": [
    "digits.keys()"
   ]
  },
  {
   "cell_type": "code",
   "execution_count": 93,
   "metadata": {
    "scrolled": true
   },
   "outputs": [
    {
     "name": "stdout",
     "output_type": "stream",
     "text": [
      ".. _digits_dataset:\n",
      "\n",
      "Optical recognition of handwritten digits dataset\n",
      "--------------------------------------------------\n",
      "\n",
      "**Data Set Characteristics:**\n",
      "\n",
      "    :Number of Instances: 5620\n",
      "    :Number of Attributes: 64\n",
      "    :Attribute Information: 8x8 image of integer pixels in the range 0..16.\n",
      "    :Missing Attribute Values: None\n",
      "    :Creator: E. Alpaydin (alpaydin '@' boun.edu.tr)\n",
      "    :Date: July; 1998\n",
      "\n",
      "This is a copy of the test set of the UCI ML hand-written digits datasets\n",
      "http://archive.ics.uci.edu/ml/datasets/Optical+Recognition+of+Handwritten+Digits\n",
      "\n",
      "The data set contains images of hand-written digits: 10 classes where\n",
      "each class refers to a digit.\n",
      "\n",
      "Preprocessing programs made available by NIST were used to extract\n",
      "normalized bitmaps of handwritten digits from a preprinted form. From a\n",
      "total of 43 people, 30 contributed to the training set and different 13\n",
      "to the test set. 32x32 bitmaps are divided into nonoverlapping blocks of\n",
      "4x4 and the number of on pixels are counted in each block. This generates\n",
      "an input matrix of 8x8 where each element is an integer in the range\n",
      "0..16. This reduces dimensionality and gives invariance to small\n",
      "distortions.\n",
      "\n",
      "For info on NIST preprocessing routines, see M. D. Garris, J. L. Blue, G.\n",
      "T. Candela, D. L. Dimmick, J. Geist, P. J. Grother, S. A. Janet, and C.\n",
      "L. Wilson, NIST Form-Based Handprint Recognition System, NISTIR 5469,\n",
      "1994.\n",
      "\n",
      ".. topic:: References\n",
      "\n",
      "  - C. Kaynak (1995) Methods of Combining Multiple Classifiers and Their\n",
      "    Applications to Handwritten Digit Recognition, MSc Thesis, Institute of\n",
      "    Graduate Studies in Science and Engineering, Bogazici University.\n",
      "  - E. Alpaydin, C. Kaynak (1998) Cascading Classifiers, Kybernetika.\n",
      "  - Ken Tang and Ponnuthurai N. Suganthan and Xi Yao and A. Kai Qin.\n",
      "    Linear dimensionalityreduction using relevance weighted LDA. School of\n",
      "    Electrical and Electronic Engineering Nanyang Technological University.\n",
      "    2005.\n",
      "  - Claudio Gentile. A New Approximate Maximal Margin Classification\n",
      "    Algorithm. NIPS. 2000.\n"
     ]
    }
   ],
   "source": [
    "print(digits['DESCR'])"
   ]
  },
  {
   "cell_type": "code",
   "execution_count": 94,
   "metadata": {},
   "outputs": [
    {
     "data": {
      "text/plain": [
       "array([[ 0.,  0.,  5., ...,  0.,  0.,  0.],\n",
       "       [ 0.,  0.,  0., ..., 10.,  0.,  0.],\n",
       "       [ 0.,  0.,  0., ..., 16.,  9.,  0.],\n",
       "       ...,\n",
       "       [ 0.,  0.,  1., ...,  6.,  0.,  0.],\n",
       "       [ 0.,  0.,  2., ..., 12.,  0.,  0.],\n",
       "       [ 0.,  0., 10., ..., 12.,  1.,  0.]])"
      ]
     },
     "execution_count": 94,
     "metadata": {},
     "output_type": "execute_result"
    }
   ],
   "source": [
    "digits.data"
   ]
  },
  {
   "cell_type": "code",
   "execution_count": 95,
   "metadata": {},
   "outputs": [
    {
     "data": {
      "text/plain": [
       "array([[ 0.,  0.,  5., ...,  0.,  0.,  0.],\n",
       "       [ 0.,  0.,  0., ..., 10.,  0.,  0.],\n",
       "       [ 0.,  0.,  0., ..., 16.,  9.,  0.],\n",
       "       ...,\n",
       "       [ 0.,  0.,  1., ...,  6.,  0.,  0.],\n",
       "       [ 0.,  0.,  2., ..., 12.,  0.,  0.],\n",
       "       [ 0.,  0., 10., ..., 12.,  1.,  0.]])"
      ]
     },
     "execution_count": 95,
     "metadata": {},
     "output_type": "execute_result"
    }
   ],
   "source": [
    "digits['data']"
   ]
  },
  {
   "cell_type": "code",
   "execution_count": 96,
   "metadata": {},
   "outputs": [
    {
     "data": {
      "text/plain": [
       "array([0, 1, 2, ..., 8, 9, 8])"
      ]
     },
     "execution_count": 96,
     "metadata": {},
     "output_type": "execute_result"
    }
   ],
   "source": [
    "digits['target']"
   ]
  },
  {
   "cell_type": "code",
   "execution_count": 97,
   "metadata": {},
   "outputs": [
    {
     "data": {
      "text/plain": [
       "array([0, 1, 2, ..., 8, 9, 8])"
      ]
     },
     "execution_count": 97,
     "metadata": {},
     "output_type": "execute_result"
    }
   ],
   "source": [
    "digits.target"
   ]
  },
  {
   "cell_type": "code",
   "execution_count": 98,
   "metadata": {},
   "outputs": [
    {
     "data": {
      "text/plain": [
       "array([0, 1, 2, 3, 4, 5, 6, 7, 8, 9])"
      ]
     },
     "execution_count": 98,
     "metadata": {},
     "output_type": "execute_result"
    }
   ],
   "source": [
    "digits['target_names']"
   ]
  },
  {
   "cell_type": "code",
   "execution_count": 99,
   "metadata": {},
   "outputs": [
    {
     "data": {
      "text/plain": [
       "array([[[ 0.,  0.,  5., ...,  1.,  0.,  0.],\n",
       "        [ 0.,  0., 13., ..., 15.,  5.,  0.],\n",
       "        [ 0.,  3., 15., ..., 11.,  8.,  0.],\n",
       "        ...,\n",
       "        [ 0.,  4., 11., ..., 12.,  7.,  0.],\n",
       "        [ 0.,  2., 14., ..., 12.,  0.,  0.],\n",
       "        [ 0.,  0.,  6., ...,  0.,  0.,  0.]],\n",
       "\n",
       "       [[ 0.,  0.,  0., ...,  5.,  0.,  0.],\n",
       "        [ 0.,  0.,  0., ...,  9.,  0.,  0.],\n",
       "        [ 0.,  0.,  3., ...,  6.,  0.,  0.],\n",
       "        ...,\n",
       "        [ 0.,  0.,  1., ...,  6.,  0.,  0.],\n",
       "        [ 0.,  0.,  1., ...,  6.,  0.,  0.],\n",
       "        [ 0.,  0.,  0., ..., 10.,  0.,  0.]],\n",
       "\n",
       "       [[ 0.,  0.,  0., ..., 12.,  0.,  0.],\n",
       "        [ 0.,  0.,  3., ..., 14.,  0.,  0.],\n",
       "        [ 0.,  0.,  8., ..., 16.,  0.,  0.],\n",
       "        ...,\n",
       "        [ 0.,  9., 16., ...,  0.,  0.,  0.],\n",
       "        [ 0.,  3., 13., ..., 11.,  5.,  0.],\n",
       "        [ 0.,  0.,  0., ..., 16.,  9.,  0.]],\n",
       "\n",
       "       ...,\n",
       "\n",
       "       [[ 0.,  0.,  1., ...,  1.,  0.,  0.],\n",
       "        [ 0.,  0., 13., ...,  2.,  1.,  0.],\n",
       "        [ 0.,  0., 16., ..., 16.,  5.,  0.],\n",
       "        ...,\n",
       "        [ 0.,  0., 16., ..., 15.,  0.,  0.],\n",
       "        [ 0.,  0., 15., ..., 16.,  0.,  0.],\n",
       "        [ 0.,  0.,  2., ...,  6.,  0.,  0.]],\n",
       "\n",
       "       [[ 0.,  0.,  2., ...,  0.,  0.,  0.],\n",
       "        [ 0.,  0., 14., ..., 15.,  1.,  0.],\n",
       "        [ 0.,  4., 16., ..., 16.,  7.,  0.],\n",
       "        ...,\n",
       "        [ 0.,  0.,  0., ..., 16.,  2.,  0.],\n",
       "        [ 0.,  0.,  4., ..., 16.,  2.,  0.],\n",
       "        [ 0.,  0.,  5., ..., 12.,  0.,  0.]],\n",
       "\n",
       "       [[ 0.,  0., 10., ...,  1.,  0.,  0.],\n",
       "        [ 0.,  2., 16., ...,  1.,  0.,  0.],\n",
       "        [ 0.,  0., 15., ..., 15.,  0.,  0.],\n",
       "        ...,\n",
       "        [ 0.,  4., 16., ..., 16.,  6.,  0.],\n",
       "        [ 0.,  8., 16., ..., 16.,  8.,  0.],\n",
       "        [ 0.,  1.,  8., ..., 12.,  1.,  0.]]])"
      ]
     },
     "execution_count": 99,
     "metadata": {},
     "output_type": "execute_result"
    }
   ],
   "source": [
    "digits['images']"
   ]
  },
  {
   "cell_type": "code",
   "execution_count": 100,
   "metadata": {},
   "outputs": [],
   "source": [
    "knn=KNeighborsClassifier()"
   ]
  },
  {
   "cell_type": "code",
   "execution_count": 101,
   "metadata": {},
   "outputs": [],
   "source": [
    "X,y = digits.data,digits.target"
   ]
  },
  {
   "cell_type": "code",
   "execution_count": 102,
   "metadata": {},
   "outputs": [
    {
     "data": {
      "text/plain": [
       "KNeighborsClassifier(algorithm='auto', leaf_size=30, metric='minkowski',\n",
       "           metric_params=None, n_jobs=None, n_neighbors=5, p=2,\n",
       "           weights='uniform')"
      ]
     },
     "execution_count": 102,
     "metadata": {},
     "output_type": "execute_result"
    }
   ],
   "source": [
    "knn.fit(X,y)"
   ]
  },
  {
   "cell_type": "code",
   "execution_count": 103,
   "metadata": {},
   "outputs": [
    {
     "data": {
      "text/plain": [
       "array([0, 1, 2, ..., 8, 9, 8])"
      ]
     },
     "execution_count": 103,
     "metadata": {},
     "output_type": "execute_result"
    }
   ],
   "source": [
    "knn.predict(X)"
   ]
  },
  {
   "cell_type": "code",
   "execution_count": 104,
   "metadata": {},
   "outputs": [
    {
     "data": {
      "text/plain": [
       "array([0, 1, 2, ..., 8, 9, 8])"
      ]
     },
     "execution_count": 104,
     "metadata": {},
     "output_type": "execute_result"
    }
   ],
   "source": [
    "y"
   ]
  },
  {
   "cell_type": "code",
   "execution_count": 105,
   "metadata": {},
   "outputs": [
    {
     "data": {
      "text/plain": [
       "0.9905397885364496"
      ]
     },
     "execution_count": 105,
     "metadata": {},
     "output_type": "execute_result"
    }
   ],
   "source": [
    "knn.score(X,y)"
   ]
  },
  {
   "cell_type": "code",
   "execution_count": 106,
   "metadata": {},
   "outputs": [],
   "source": [
    "X_train,X_test,y_train,y_test=train_test_split(X,y,random_state=42,test_size=0.3,stratify=y)"
   ]
  },
  {
   "cell_type": "code",
   "execution_count": 107,
   "metadata": {},
   "outputs": [
    {
     "data": {
      "text/plain": [
       "KNeighborsClassifier(algorithm='auto', leaf_size=30, metric='minkowski',\n",
       "           metric_params=None, n_jobs=None, n_neighbors=5, p=2,\n",
       "           weights='uniform')"
      ]
     },
     "execution_count": 107,
     "metadata": {},
     "output_type": "execute_result"
    }
   ],
   "source": [
    "knn.fit(X_train,y_train)"
   ]
  },
  {
   "cell_type": "code",
   "execution_count": 108,
   "metadata": {},
   "outputs": [
    {
     "data": {
      "text/plain": [
       "0.9920445505171042"
      ]
     },
     "execution_count": 108,
     "metadata": {},
     "output_type": "execute_result"
    }
   ],
   "source": [
    "knn.score(X_train,y_train)"
   ]
  },
  {
   "cell_type": "code",
   "execution_count": 109,
   "metadata": {},
   "outputs": [
    {
     "data": {
      "text/plain": [
       "0.987037037037037"
      ]
     },
     "execution_count": 109,
     "metadata": {},
     "output_type": "execute_result"
    }
   ],
   "source": [
    "knn.score(X_test,y_test)"
   ]
  },
  {
   "cell_type": "code",
   "execution_count": 110,
   "metadata": {
    "scrolled": false
   },
   "outputs": [
    {
     "data": {
      "text/plain": [
       "array([1, 3, 1, 5, 0, 6, 6, 7, 4, 9, 3, 9, 7, 7, 6, 1, 5, 7, 3, 3, 9, 8,\n",
       "       5, 5, 4, 4, 9, 3, 2, 3, 6, 0, 2, 0, 4, 6, 1, 8, 5, 5, 2, 3, 1, 3,\n",
       "       2, 6, 5, 8, 9, 6, 0, 4, 6, 5, 1, 6, 6, 6, 2, 3, 1, 2, 9, 9, 4, 6,\n",
       "       1, 5, 0, 9, 9, 8, 4, 7, 7, 9, 0, 0, 4, 9, 5, 4, 1, 9, 0, 0, 5, 6,\n",
       "       5, 7, 3, 5, 3, 1, 5, 9, 2, 3, 9, 7, 4, 0, 0, 9, 2, 7, 3, 1, 4, 9,\n",
       "       3, 8, 2, 5, 1, 1, 6, 9, 4, 3, 7, 1, 8, 1, 9, 7, 9, 0, 3, 2, 7, 7,\n",
       "       2, 4, 0, 8, 4, 1, 5, 7, 2, 4, 2, 9, 5, 9, 5, 4, 4, 2, 0, 3, 3, 7,\n",
       "       2, 5, 1, 5, 1, 0, 6, 7, 7, 3, 2, 3, 1, 0, 7, 3, 0, 7, 4, 9, 2, 5,\n",
       "       3, 0, 0, 9, 5, 1, 7, 6, 5, 3, 4, 6, 0, 6, 6, 3, 4, 6, 2, 1, 6, 9,\n",
       "       7, 4, 3, 4, 2, 4, 8, 0, 3, 1, 2, 4, 7, 2, 0, 8, 8, 6, 1, 8, 4, 5,\n",
       "       1, 0, 2, 8, 4, 2, 0, 1, 6, 8, 3, 5, 8, 3, 1, 9, 0, 4, 6, 2, 8, 6,\n",
       "       7, 1, 0, 4, 6, 0, 8, 2, 8, 9, 1, 2, 3, 9, 4, 7, 5, 7, 2, 9, 4, 6,\n",
       "       2, 8, 7, 5, 8, 8, 0, 3, 2, 3, 1, 2, 6, 8, 5, 2, 8, 3, 1, 3, 0, 5,\n",
       "       3, 1, 7, 2, 0, 1, 0, 9, 7, 9, 2, 3, 5, 3, 0, 2, 9, 1, 6, 1, 9, 5,\n",
       "       5, 5, 4, 7, 7, 9, 3, 6, 9, 4, 6, 1, 8, 5, 3, 7, 0, 2, 2, 6, 4, 8,\n",
       "       7, 9, 2, 0, 8, 4, 6, 7, 3, 1, 5, 4, 7, 2, 4, 9, 4, 2, 1, 4, 7, 1,\n",
       "       7, 2, 9, 2, 6, 7, 3, 7, 3, 2, 9, 9, 8, 8, 9, 4, 1, 7, 9, 4, 8, 4,\n",
       "       8, 8, 0, 1, 3, 0, 0, 0, 9, 6, 8, 4, 7, 0, 7, 3, 1, 8, 5, 7, 0, 9,\n",
       "       5, 0, 6, 9, 4, 7, 5, 6, 1, 5, 3, 4, 6, 5, 1, 6, 8, 7, 0, 8, 3, 6,\n",
       "       5, 0, 3, 2, 3, 5, 6, 4, 5, 2, 8, 6, 4, 1, 8, 6, 6, 2, 5, 4, 8, 9,\n",
       "       1, 7, 3, 2, 3, 4, 7, 1, 1, 4, 1, 8, 6, 2, 3, 6, 1, 7, 8, 8, 4, 0,\n",
       "       6, 8, 5, 2, 3, 2, 9, 0, 5, 0, 4, 7, 1, 5, 0, 2, 6, 0, 0, 3, 1, 8,\n",
       "       6, 7, 7, 6, 5, 0, 1, 8, 3, 8, 9, 9, 5, 7, 8, 3, 9, 7, 3, 8, 6, 5,\n",
       "       5, 5, 2, 9, 8, 0, 9, 0, 4, 7, 1, 7, 0, 4, 2, 9, 1, 0, 4, 6, 3, 1,\n",
       "       6, 5, 4, 5, 8, 8, 2, 7, 9, 6, 1, 1])"
      ]
     },
     "execution_count": 110,
     "metadata": {},
     "output_type": "execute_result"
    }
   ],
   "source": [
    "knn.predict(X_test)"
   ]
  },
  {
   "cell_type": "code",
   "execution_count": 111,
   "metadata": {},
   "outputs": [
    {
     "data": {
      "text/plain": [
       "array([1, 3, 1, 5, 0, 6, 6, 7, 4, 9, 3, 9, 7, 7, 6, 1, 5, 7, 3, 3, 9, 8,\n",
       "       5, 5, 4, 4, 9, 3, 2, 3, 6, 0, 2, 0, 4, 6, 1, 8, 5, 5, 2, 3, 1, 3,\n",
       "       2, 6, 5, 8, 9, 6, 0, 4, 6, 5, 1, 6, 6, 6, 2, 3, 1, 2, 9, 9, 4, 6,\n",
       "       1, 5, 0, 9, 9, 8, 4, 7, 7, 5, 0, 0, 4, 9, 5, 4, 1, 9, 0, 0, 5, 6,\n",
       "       5, 7, 3, 5, 3, 1, 5, 9, 2, 3, 9, 7, 4, 0, 0, 9, 2, 7, 3, 1, 4, 9,\n",
       "       3, 8, 2, 5, 1, 1, 6, 9, 4, 3, 7, 1, 8, 1, 9, 7, 9, 0, 3, 2, 7, 7,\n",
       "       2, 4, 0, 8, 4, 8, 5, 7, 2, 4, 2, 9, 5, 9, 5, 4, 4, 2, 0, 3, 3, 7,\n",
       "       2, 5, 1, 5, 1, 0, 6, 7, 7, 3, 2, 3, 1, 0, 7, 3, 0, 7, 4, 9, 2, 5,\n",
       "       3, 0, 0, 9, 5, 1, 7, 6, 5, 3, 4, 6, 0, 6, 6, 3, 4, 6, 2, 1, 6, 9,\n",
       "       7, 4, 3, 4, 2, 4, 8, 0, 3, 1, 2, 4, 7, 2, 0, 8, 8, 6, 1, 8, 4, 5,\n",
       "       1, 0, 2, 8, 4, 2, 0, 1, 6, 8, 8, 5, 8, 3, 1, 9, 0, 4, 6, 2, 9, 6,\n",
       "       7, 1, 0, 4, 6, 0, 8, 2, 8, 9, 1, 2, 3, 9, 4, 7, 5, 7, 2, 9, 4, 6,\n",
       "       2, 8, 7, 5, 8, 8, 0, 3, 2, 3, 1, 2, 6, 8, 5, 2, 8, 3, 1, 3, 0, 5,\n",
       "       3, 1, 7, 2, 0, 1, 0, 9, 7, 9, 2, 3, 5, 3, 0, 2, 9, 1, 6, 1, 9, 5,\n",
       "       5, 5, 4, 7, 7, 9, 3, 6, 9, 4, 6, 1, 8, 5, 3, 7, 0, 2, 2, 6, 4, 8,\n",
       "       7, 9, 2, 0, 8, 4, 6, 7, 3, 1, 5, 4, 7, 2, 4, 9, 4, 2, 1, 4, 7, 1,\n",
       "       7, 2, 9, 2, 6, 7, 3, 7, 3, 2, 9, 9, 8, 8, 9, 4, 1, 7, 9, 4, 8, 9,\n",
       "       8, 8, 0, 1, 3, 0, 0, 0, 9, 6, 8, 4, 7, 0, 7, 3, 1, 8, 5, 7, 0, 9,\n",
       "       5, 0, 6, 9, 4, 7, 5, 6, 1, 5, 3, 4, 6, 5, 1, 6, 8, 7, 0, 8, 3, 6,\n",
       "       5, 0, 3, 2, 3, 5, 6, 4, 5, 2, 8, 6, 4, 1, 8, 6, 6, 2, 5, 4, 8, 9,\n",
       "       1, 7, 3, 2, 3, 4, 7, 1, 1, 4, 8, 8, 6, 2, 3, 6, 1, 7, 8, 8, 4, 0,\n",
       "       6, 8, 5, 2, 3, 2, 9, 0, 5, 0, 4, 7, 1, 5, 0, 2, 6, 0, 0, 3, 1, 8,\n",
       "       6, 7, 7, 6, 5, 0, 1, 8, 3, 8, 9, 9, 5, 7, 8, 3, 9, 7, 3, 8, 6, 5,\n",
       "       5, 5, 2, 9, 8, 0, 9, 0, 4, 7, 1, 8, 0, 4, 2, 9, 1, 0, 4, 6, 3, 1,\n",
       "       6, 5, 4, 5, 8, 8, 2, 7, 9, 6, 1, 1])"
      ]
     },
     "execution_count": 111,
     "metadata": {},
     "output_type": "execute_result"
    }
   ],
   "source": [
    "y_test"
   ]
  },
  {
   "cell_type": "code",
   "execution_count": 112,
   "metadata": {},
   "outputs": [
    {
     "data": {
      "text/plain": [
       "array([0.98901099, 0.99171271, 0.97214485, 0.99439776, 0.98309859])"
      ]
     },
     "execution_count": 112,
     "metadata": {},
     "output_type": "execute_result"
    }
   ],
   "source": [
    "X_shuffle,y_shuffle = shuffle(X,y,random_state=42)\n",
    "cross_val_score(KNeighborsClassifier(),X_shuffle,y_shuffle,cv=5,n_jobs=-1)"
   ]
  },
  {
   "cell_type": "code",
   "execution_count": 113,
   "metadata": {},
   "outputs": [
    {
     "data": {
      "text/plain": [
       "0.9865887204665605"
      ]
     },
     "execution_count": 113,
     "metadata": {},
     "output_type": "execute_result"
    }
   ],
   "source": [
    "np.mean(cross_val_score(KNeighborsClassifier(),X_shuffle,y_shuffle,cv=11,n_jobs=-1))"
   ]
  },
  {
   "cell_type": "code",
   "execution_count": 114,
   "metadata": {},
   "outputs": [],
   "source": [
    "model=LogisticRegression()"
   ]
  },
  {
   "cell_type": "code",
   "execution_count": 115,
   "metadata": {},
   "outputs": [],
   "source": [
    "X,y=digits.data,digits.target"
   ]
  },
  {
   "cell_type": "code",
   "execution_count": 116,
   "metadata": {},
   "outputs": [
    {
     "name": "stderr",
     "output_type": "stream",
     "text": [
      "C:\\ProgramData\\Anaconda3\\lib\\site-packages\\sklearn\\linear_model\\logistic.py:433: FutureWarning: Default solver will be changed to 'lbfgs' in 0.22. Specify a solver to silence this warning.\n",
      "  FutureWarning)\n",
      "C:\\ProgramData\\Anaconda3\\lib\\site-packages\\sklearn\\linear_model\\logistic.py:460: FutureWarning: Default multi_class will be changed to 'auto' in 0.22. Specify the multi_class option to silence this warning.\n",
      "  \"this warning.\", FutureWarning)\n"
     ]
    },
    {
     "data": {
      "text/plain": [
       "LogisticRegression(C=1.0, class_weight=None, dual=False, fit_intercept=True,\n",
       "          intercept_scaling=1, max_iter=100, multi_class='warn',\n",
       "          n_jobs=None, penalty='l2', random_state=None, solver='warn',\n",
       "          tol=0.0001, verbose=0, warm_start=False)"
      ]
     },
     "execution_count": 116,
     "metadata": {},
     "output_type": "execute_result"
    }
   ],
   "source": [
    "model.fit(X,y)"
   ]
  },
  {
   "cell_type": "code",
   "execution_count": 117,
   "metadata": {},
   "outputs": [
    {
     "data": {
      "text/plain": [
       "0.993322203672788"
      ]
     },
     "execution_count": 117,
     "metadata": {},
     "output_type": "execute_result"
    }
   ],
   "source": [
    "model.score(X,y)"
   ]
  },
  {
   "cell_type": "code",
   "execution_count": 118,
   "metadata": {},
   "outputs": [
    {
     "data": {
      "text/plain": [
       "array([0, 1, 2, ..., 8, 9, 8])"
      ]
     },
     "execution_count": 118,
     "metadata": {},
     "output_type": "execute_result"
    }
   ],
   "source": [
    "model.predict(X)"
   ]
  },
  {
   "cell_type": "code",
   "execution_count": 119,
   "metadata": {},
   "outputs": [
    {
     "data": {
      "text/plain": [
       "array([0, 1, 2, ..., 8, 9, 8])"
      ]
     },
     "execution_count": 119,
     "metadata": {},
     "output_type": "execute_result"
    }
   ],
   "source": [
    "    y"
   ]
  },
  {
   "cell_type": "code",
   "execution_count": 120,
   "metadata": {},
   "outputs": [],
   "source": [
    "X_train,X_train,y_test,y_test=train_test_split(X,y,random_state=42,test_size=0.3,stratify=y)"
   ]
  },
  {
   "cell_type": "code",
   "execution_count": 123,
   "metadata": {
    "collapsed": true
   },
   "outputs": [
    {
     "name": "stderr",
     "output_type": "stream",
     "text": [
      "C:\\ProgramData\\Anaconda3\\lib\\site-packages\\sklearn\\linear_model\\logistic.py:433: FutureWarning: Default solver will be changed to 'lbfgs' in 0.22. Specify a solver to silence this warning.\n",
      "  FutureWarning)\n"
     ]
    },
    {
     "ename": "ValueError",
     "evalue": "Found input variables with inconsistent numbers of samples: [540, 1257]",
     "output_type": "error",
     "traceback": [
      "\u001b[1;31m---------------------------------------------------------------------------\u001b[0m",
      "\u001b[1;31mValueError\u001b[0m                                Traceback (most recent call last)",
      "\u001b[1;32m<ipython-input-123-b7a8c64777c1>\u001b[0m in \u001b[0;36m<module>\u001b[1;34m\u001b[0m\n\u001b[1;32m----> 1\u001b[1;33m \u001b[0mmodel\u001b[0m\u001b[1;33m.\u001b[0m\u001b[0mfit\u001b[0m\u001b[1;33m(\u001b[0m\u001b[0mX_train\u001b[0m\u001b[1;33m,\u001b[0m\u001b[0my_train\u001b[0m\u001b[1;33m)\u001b[0m\u001b[1;33m\u001b[0m\u001b[1;33m\u001b[0m\u001b[0m\n\u001b[0m",
      "\u001b[1;32mC:\\ProgramData\\Anaconda3\\lib\\site-packages\\sklearn\\linear_model\\logistic.py\u001b[0m in \u001b[0;36mfit\u001b[1;34m(self, X, y, sample_weight)\u001b[0m\n\u001b[0;32m   1286\u001b[0m \u001b[1;33m\u001b[0m\u001b[0m\n\u001b[0;32m   1287\u001b[0m         X, y = check_X_y(X, y, accept_sparse='csr', dtype=_dtype, order=\"C\",\n\u001b[1;32m-> 1288\u001b[1;33m                          accept_large_sparse=solver != 'liblinear')\n\u001b[0m\u001b[0;32m   1289\u001b[0m         \u001b[0mcheck_classification_targets\u001b[0m\u001b[1;33m(\u001b[0m\u001b[0my\u001b[0m\u001b[1;33m)\u001b[0m\u001b[1;33m\u001b[0m\u001b[1;33m\u001b[0m\u001b[0m\n\u001b[0;32m   1290\u001b[0m         \u001b[0mself\u001b[0m\u001b[1;33m.\u001b[0m\u001b[0mclasses_\u001b[0m \u001b[1;33m=\u001b[0m \u001b[0mnp\u001b[0m\u001b[1;33m.\u001b[0m\u001b[0munique\u001b[0m\u001b[1;33m(\u001b[0m\u001b[0my\u001b[0m\u001b[1;33m)\u001b[0m\u001b[1;33m\u001b[0m\u001b[1;33m\u001b[0m\u001b[0m\n",
      "\u001b[1;32mC:\\ProgramData\\Anaconda3\\lib\\site-packages\\sklearn\\utils\\validation.py\u001b[0m in \u001b[0;36mcheck_X_y\u001b[1;34m(X, y, accept_sparse, accept_large_sparse, dtype, order, copy, force_all_finite, ensure_2d, allow_nd, multi_output, ensure_min_samples, ensure_min_features, y_numeric, warn_on_dtype, estimator)\u001b[0m\n\u001b[0;32m    764\u001b[0m         \u001b[0my\u001b[0m \u001b[1;33m=\u001b[0m \u001b[0my\u001b[0m\u001b[1;33m.\u001b[0m\u001b[0mastype\u001b[0m\u001b[1;33m(\u001b[0m\u001b[0mnp\u001b[0m\u001b[1;33m.\u001b[0m\u001b[0mfloat64\u001b[0m\u001b[1;33m)\u001b[0m\u001b[1;33m\u001b[0m\u001b[1;33m\u001b[0m\u001b[0m\n\u001b[0;32m    765\u001b[0m \u001b[1;33m\u001b[0m\u001b[0m\n\u001b[1;32m--> 766\u001b[1;33m     \u001b[0mcheck_consistent_length\u001b[0m\u001b[1;33m(\u001b[0m\u001b[0mX\u001b[0m\u001b[1;33m,\u001b[0m \u001b[0my\u001b[0m\u001b[1;33m)\u001b[0m\u001b[1;33m\u001b[0m\u001b[1;33m\u001b[0m\u001b[0m\n\u001b[0m\u001b[0;32m    767\u001b[0m \u001b[1;33m\u001b[0m\u001b[0m\n\u001b[0;32m    768\u001b[0m     \u001b[1;32mreturn\u001b[0m \u001b[0mX\u001b[0m\u001b[1;33m,\u001b[0m \u001b[0my\u001b[0m\u001b[1;33m\u001b[0m\u001b[1;33m\u001b[0m\u001b[0m\n",
      "\u001b[1;32mC:\\ProgramData\\Anaconda3\\lib\\site-packages\\sklearn\\utils\\validation.py\u001b[0m in \u001b[0;36mcheck_consistent_length\u001b[1;34m(*arrays)\u001b[0m\n\u001b[0;32m    233\u001b[0m     \u001b[1;32mif\u001b[0m \u001b[0mlen\u001b[0m\u001b[1;33m(\u001b[0m\u001b[0muniques\u001b[0m\u001b[1;33m)\u001b[0m \u001b[1;33m>\u001b[0m \u001b[1;36m1\u001b[0m\u001b[1;33m:\u001b[0m\u001b[1;33m\u001b[0m\u001b[1;33m\u001b[0m\u001b[0m\n\u001b[0;32m    234\u001b[0m         raise ValueError(\"Found input variables with inconsistent numbers of\"\n\u001b[1;32m--> 235\u001b[1;33m                          \" samples: %r\" % [int(l) for l in lengths])\n\u001b[0m\u001b[0;32m    236\u001b[0m \u001b[1;33m\u001b[0m\u001b[0m\n\u001b[0;32m    237\u001b[0m \u001b[1;33m\u001b[0m\u001b[0m\n",
      "\u001b[1;31mValueError\u001b[0m: Found input variables with inconsistent numbers of samples: [540, 1257]"
     ]
    }
   ],
   "source": [
    "model.fit(X_train,y_train)\n"
   ]
  },
  {
   "cell_type": "code",
   "execution_count": 122,
   "metadata": {},
   "outputs": [
    {
     "data": {
      "text/plain": [
       "0.9907407407407407"
      ]
     },
     "execution_count": 122,
     "metadata": {},
     "output_type": "execute_result"
    }
   ],
   "source": [
    "\n",
    "model.score(X_test,y_test)"
   ]
  },
  {
   "cell_type": "code",
   "execution_count": 87,
   "metadata": {
    "collapsed": true
   },
   "outputs": [
    {
     "data": {
      "text/plain": [
       "array([1, 3, 1, 5, 0, 6, 6, 7, 4, 9, 3, 9, 7, 7, 6, 1, 5, 7, 3, 3, 9, 8,\n",
       "       5, 5, 4, 4, 9, 3, 2, 3, 6, 0, 2, 0, 4, 6, 1, 8, 5, 5, 2, 3, 1, 3,\n",
       "       2, 6, 5, 8, 8, 6, 0, 4, 6, 5, 1, 6, 6, 6, 2, 3, 1, 2, 9, 9, 4, 6,\n",
       "       1, 5, 0, 9, 9, 8, 4, 7, 7, 5, 0, 0, 4, 9, 5, 4, 1, 9, 0, 0, 5, 6,\n",
       "       5, 7, 3, 5, 3, 1, 5, 9, 2, 3, 9, 7, 4, 0, 0, 9, 2, 7, 3, 1, 4, 9,\n",
       "       3, 8, 2, 5, 1, 8, 6, 9, 4, 3, 7, 1, 8, 1, 9, 7, 9, 0, 3, 2, 7, 7,\n",
       "       2, 4, 0, 8, 4, 1, 5, 7, 2, 4, 2, 9, 5, 9, 5, 4, 4, 2, 0, 3, 3, 7,\n",
       "       2, 5, 1, 5, 1, 0, 6, 7, 7, 3, 2, 3, 1, 0, 7, 3, 0, 7, 4, 9, 2, 5,\n",
       "       3, 0, 0, 9, 5, 1, 7, 6, 5, 3, 4, 6, 0, 6, 6, 3, 4, 6, 2, 1, 6, 9,\n",
       "       7, 4, 3, 4, 2, 4, 8, 0, 3, 1, 2, 4, 7, 2, 0, 8, 8, 6, 1, 8, 4, 5,\n",
       "       1, 0, 2, 8, 4, 2, 0, 1, 6, 8, 8, 5, 8, 3, 1, 9, 0, 4, 6, 2, 9, 6,\n",
       "       7, 1, 0, 4, 6, 0, 8, 2, 8, 9, 1, 2, 3, 9, 4, 7, 5, 7, 2, 9, 4, 6,\n",
       "       2, 8, 7, 5, 8, 8, 0, 3, 2, 3, 1, 2, 6, 8, 5, 2, 8, 3, 1, 3, 0, 5,\n",
       "       3, 1, 7, 2, 0, 1, 0, 9, 7, 9, 2, 3, 5, 3, 0, 2, 9, 1, 6, 1, 9, 5,\n",
       "       5, 5, 4, 7, 7, 9, 3, 6, 9, 4, 6, 1, 8, 5, 3, 7, 0, 2, 2, 6, 4, 8,\n",
       "       7, 9, 2, 0, 8, 4, 6, 7, 3, 1, 5, 4, 7, 2, 4, 9, 4, 2, 1, 4, 7, 1,\n",
       "       7, 2, 9, 2, 6, 7, 3, 7, 3, 2, 9, 9, 8, 8, 9, 4, 1, 7, 9, 4, 8, 8,\n",
       "       8, 8, 0, 1, 3, 0, 0, 0, 9, 6, 8, 4, 7, 0, 7, 3, 1, 8, 5, 7, 0, 9,\n",
       "       5, 0, 6, 9, 4, 7, 5, 6, 1, 5, 3, 4, 6, 5, 1, 6, 8, 7, 0, 8, 3, 6,\n",
       "       5, 0, 3, 2, 3, 5, 6, 4, 5, 2, 8, 6, 4, 1, 8, 6, 6, 2, 5, 4, 8, 9,\n",
       "       1, 7, 3, 2, 3, 4, 7, 1, 1, 4, 1, 8, 6, 2, 3, 6, 1, 7, 8, 8, 4, 0,\n",
       "       6, 8, 5, 2, 3, 2, 9, 0, 5, 0, 4, 7, 1, 5, 0, 2, 6, 0, 0, 3, 1, 8,\n",
       "       6, 7, 7, 6, 5, 0, 1, 8, 3, 8, 9, 9, 5, 7, 8, 3, 9, 7, 3, 8, 6, 5,\n",
       "       5, 5, 2, 9, 8, 0, 9, 0, 4, 7, 1, 8, 0, 4, 2, 9, 1, 0, 4, 6, 3, 1,\n",
       "       6, 5, 4, 5, 8, 8, 2, 7, 9, 6, 1, 1])"
      ]
     },
     "execution_count": 87,
     "metadata": {},
     "output_type": "execute_result"
    }
   ],
   "source": [
    "model.predict(X_test)"
   ]
  },
  {
   "cell_type": "code",
   "execution_count": 74,
   "metadata": {
    "collapsed": true
   },
   "outputs": [
    {
     "data": {
      "text/plain": [
       "array([1, 3, 1, 5, 0, 6, 6, 7, 4, 9, 3, 9, 7, 7, 6, 1, 5, 7, 3, 3, 9, 8,\n",
       "       5, 5, 4, 4, 9, 3, 2, 3, 6, 0, 2, 0, 4, 6, 1, 8, 5, 5, 2, 3, 1, 3,\n",
       "       2, 6, 5, 8, 9, 6, 0, 4, 6, 5, 1, 6, 6, 6, 2, 3, 1, 2, 9, 9, 4, 6,\n",
       "       1, 5, 0, 9, 9, 8, 4, 7, 7, 5, 0, 0, 4, 9, 5, 4, 1, 9, 0, 0, 5, 6,\n",
       "       5, 7, 3, 5, 3, 1, 5, 9, 2, 3, 9, 7, 4, 0, 0, 9, 2, 7, 3, 1, 4, 9,\n",
       "       3, 8, 2, 5, 1, 1, 6, 9, 4, 3, 7, 1, 8, 1, 9, 7, 9, 0, 3, 2, 7, 7,\n",
       "       2, 4, 0, 8, 4, 8, 5, 7, 2, 4, 2, 9, 5, 9, 5, 4, 4, 2, 0, 3, 3, 7,\n",
       "       2, 5, 1, 5, 1, 0, 6, 7, 7, 3, 2, 3, 1, 0, 7, 3, 0, 7, 4, 9, 2, 5,\n",
       "       3, 0, 0, 9, 5, 1, 7, 6, 5, 3, 4, 6, 0, 6, 6, 3, 4, 6, 2, 1, 6, 9,\n",
       "       7, 4, 3, 4, 2, 4, 8, 0, 3, 1, 2, 4, 7, 2, 0, 8, 8, 6, 1, 8, 4, 5,\n",
       "       1, 0, 2, 8, 4, 2, 0, 1, 6, 8, 8, 5, 8, 3, 1, 9, 0, 4, 6, 2, 9, 6,\n",
       "       7, 1, 0, 4, 6, 0, 8, 2, 8, 9, 1, 2, 3, 9, 4, 7, 5, 7, 2, 9, 4, 6,\n",
       "       2, 8, 7, 5, 8, 8, 0, 3, 2, 3, 1, 2, 6, 8, 5, 2, 8, 3, 1, 3, 0, 5,\n",
       "       3, 1, 7, 2, 0, 1, 0, 9, 7, 9, 2, 3, 5, 3, 0, 2, 9, 1, 6, 1, 9, 5,\n",
       "       5, 5, 4, 7, 7, 9, 3, 6, 9, 4, 6, 1, 8, 5, 3, 7, 0, 2, 2, 6, 4, 8,\n",
       "       7, 9, 2, 0, 8, 4, 6, 7, 3, 1, 5, 4, 7, 2, 4, 9, 4, 2, 1, 4, 7, 1,\n",
       "       7, 2, 9, 2, 6, 7, 3, 7, 3, 2, 9, 9, 8, 8, 9, 4, 1, 7, 9, 4, 8, 9,\n",
       "       8, 8, 0, 1, 3, 0, 0, 0, 9, 6, 8, 4, 7, 0, 7, 3, 1, 8, 5, 7, 0, 9,\n",
       "       5, 0, 6, 9, 4, 7, 5, 6, 1, 5, 3, 4, 6, 5, 1, 6, 8, 7, 0, 8, 3, 6,\n",
       "       5, 0, 3, 2, 3, 5, 6, 4, 5, 2, 8, 6, 4, 1, 8, 6, 6, 2, 5, 4, 8, 9,\n",
       "       1, 7, 3, 2, 3, 4, 7, 1, 1, 4, 8, 8, 6, 2, 3, 6, 1, 7, 8, 8, 4, 0,\n",
       "       6, 8, 5, 2, 3, 2, 9, 0, 5, 0, 4, 7, 1, 5, 0, 2, 6, 0, 0, 3, 1, 8,\n",
       "       6, 7, 7, 6, 5, 0, 1, 8, 3, 8, 9, 9, 5, 7, 8, 3, 9, 7, 3, 8, 6, 5,\n",
       "       5, 5, 2, 9, 8, 0, 9, 0, 4, 7, 1, 8, 0, 4, 2, 9, 1, 0, 4, 6, 3, 1,\n",
       "       6, 5, 4, 5, 8, 8, 2, 7, 9, 6, 1, 1])"
      ]
     },
     "execution_count": 74,
     "metadata": {},
     "output_type": "execute_result"
    }
   ],
   "source": [
    "y_test"
   ]
  },
  {
   "cell_type": "code",
   "execution_count": 75,
   "metadata": {},
   "outputs": [],
   "source": [
    "X_shuffle,y_shuffle=shuffle(X,y,random_state=42,)\n",
    "X_train,X_train,y_test,y_test=train_test_split(X_shuffle,y_shuffle,random_state=42,test_size=0.3,stratify=y)"
   ]
  },
  {
   "cell_type": "code",
   "execution_count": 76,
   "metadata": {},
   "outputs": [
    {
     "data": {
      "text/plain": [
       "array([0.96703297, 0.95303867, 0.95264624, 0.96078431, 0.94084507])"
      ]
     },
     "execution_count": 76,
     "metadata": {},
     "output_type": "execute_result"
    }
   ],
   "source": [
    "cross_val_score(LogisticRegression(),X_shuffle,y_shuffle,cv=5,n_jobs=-1)"
   ]
  },
  {
   "cell_type": "code",
   "execution_count": 77,
   "metadata": {},
   "outputs": [
    {
     "data": {
      "text/plain": [
       "0.9865887204665605"
      ]
     },
     "execution_count": 77,
     "metadata": {},
     "output_type": "execute_result"
    }
   ],
   "source": [
    "np.mean(cross_val_score(KNeighborsClassifier(),X_shuffle,y_shuffle,cv=11,n_jobs=-1))"
   ]
  },
  {
   "cell_type": "code",
   "execution_count": 124,
   "metadata": {},
   "outputs": [
    {
     "data": {
      "text/plain": [
       "array([-0.02198477, -2.87761715, -0.03943244, -0.34707449,  0.01365265,\n",
       "       -0.11334085, -0.08446892, -0.02547306, -2.82084043, -1.40333969])"
      ]
     },
     "execution_count": 124,
     "metadata": {},
     "output_type": "execute_result"
    }
   ],
   "source": [
    "model.intercept_"
   ]
  },
  {
   "cell_type": "code",
   "execution_count": 125,
   "metadata": {
    "collapsed": true
   },
   "outputs": [
    {
     "data": {
      "text/plain": [
       "array([[ 0.00000000e+00, -4.61488266e-02, -4.21745730e-02,\n",
       "         4.18852519e-02, -9.41324684e-02, -3.76048904e-01,\n",
       "        -2.69221731e-01, -2.95125758e-02, -1.27476272e-05,\n",
       "        -1.18056991e-01, -1.16024797e-02,  1.73758675e-01,\n",
       "         2.14618620e-01,  2.81038906e-01, -4.17673684e-03,\n",
       "        -3.25076595e-02, -4.78277698e-03,  9.41829771e-02,\n",
       "         2.16248286e-01, -6.55831067e-02, -3.80995272e-01,\n",
       "         3.13868351e-01, -1.51719670e-02, -1.34085076e-02,\n",
       "        -2.38982362e-03,  3.05036337e-02, -7.63426418e-02,\n",
       "        -1.68203722e-01, -6.43030748e-01,  3.33508155e-02,\n",
       "         4.03148961e-02, -1.54133606e-04,  0.00000000e+00,\n",
       "         2.59834202e-01,  1.56328474e-01, -1.36847004e-01,\n",
       "        -6.36512808e-01, -5.78812342e-02, -5.80958536e-02,\n",
       "         0.00000000e+00, -1.72569373e-03, -2.67490030e-02,\n",
       "         2.25330904e-01, -3.03498381e-01, -2.92844682e-01,\n",
       "         3.23904839e-03,  1.36460738e-01, -8.98661242e-05,\n",
       "        -1.20123721e-03, -1.32347270e-01,  2.67496690e-02,\n",
       "        -7.78937272e-02,  8.35157738e-02, -2.02847342e-02,\n",
       "        -1.87567125e-01, -8.50602036e-02, -2.83424173e-06,\n",
       "        -5.65465337e-02, -2.74688536e-01,  1.13840706e-01,\n",
       "        -3.16493971e-01, -1.24307970e-01, -1.87628036e-01,\n",
       "        -7.39892550e-02],\n",
       "       [ 0.00000000e+00,  1.04682115e-01,  1.27077593e-01,\n",
       "         1.43292831e-01, -5.98469492e-01,  4.27482882e-01,\n",
       "        -2.39589184e-01, -3.70608040e-01, -1.73880363e-05,\n",
       "        -1.24530385e+00, -3.66355910e-01, -3.96402934e-01,\n",
       "         3.76321900e-02,  8.15037559e-02, -3.88373449e-01,\n",
       "        -4.79945836e-02,  3.88159612e-01,  5.51941689e-01,\n",
       "         1.04671365e-01,  6.41601372e-01,  3.61489400e-01,\n",
       "        -2.58389904e-01,  3.11781952e-01, -1.79443258e-01,\n",
       "        -4.57899760e-01, -2.45316949e-01, -3.90416994e-02,\n",
       "         1.21514416e-01, -1.23081654e-02,  1.30183024e-01,\n",
       "        -4.17809471e-01, -1.87249000e-06,  0.00000000e+00,\n",
       "        -6.66062611e-02,  4.57311369e-02, -8.96524000e-02,\n",
       "         1.43481651e-01, -9.07378975e-03, -3.61402945e-01,\n",
       "         0.00000000e+00, -5.33119158e-04, -6.05900113e-01,\n",
       "        -3.12847855e-02, -4.76403600e-02, -9.76611058e-02,\n",
       "        -2.33678615e-01, -1.68192759e-01, -1.17303358e-01,\n",
       "        -3.17613642e-02,  3.40710211e-02, -1.14774122e-01,\n",
       "         2.34091914e-01,  7.57007085e-02, -3.53967357e-02,\n",
       "        -3.55905423e-01,  6.30203645e-01, -1.05862039e-02,\n",
       "        -2.69764225e-01, -1.87891489e-01, -1.08378438e-01,\n",
       "         8.89243828e-02,  9.80781856e-02, -1.15187770e-01,\n",
       "         6.70245122e-02],\n",
       "       [ 0.00000000e+00,  5.97425635e-02, -7.69836383e-02,\n",
       "         3.07342026e-02, -5.62245538e-02, -2.45835594e-01,\n",
       "        -1.56213737e-01, -1.73595595e-02, -1.32083906e-04,\n",
       "         1.47600550e-01,  2.24360899e-01, -1.86062659e-01,\n",
       "         2.21932781e-01, -4.35610304e-02, -1.38817828e-02,\n",
       "        -3.59141366e-03, -1.91308333e-06, -1.26102214e-01,\n",
       "         8.88230146e-02, -2.20637967e-01,  1.94873628e-01,\n",
       "         1.80270304e-02,  8.66282942e-02, -6.38723183e-05,\n",
       "        -1.18376375e-05, -2.80566715e-01, -6.01683563e-01,\n",
       "        -5.31680938e-01, -3.44602952e-01,  1.76558949e-01,\n",
       "        -1.13553871e-01, -2.42581275e-06,  0.00000000e+00,\n",
       "        -3.04449015e-01, -5.43381244e-01, -1.39860958e-01,\n",
       "        -2.30882714e-01, -3.26766243e-01, -5.59300151e-01,\n",
       "         0.00000000e+00, -1.63372366e-05,  8.41283158e-02,\n",
       "         1.12171352e-01,  4.55038352e-01, -4.60524096e-01,\n",
       "        -4.59173195e-01, -4.19087098e-01,  1.44736135e-02,\n",
       "         1.98227455e-03,  2.47248920e-01, -4.21855129e-02,\n",
       "         4.43493908e-01,  2.69238906e-01,  2.68358380e-01,\n",
       "         2.15423863e-01, -3.89349472e-03,  6.64177459e-04,\n",
       "         1.21029538e-01,  7.10173122e-03, -3.63427826e-02,\n",
       "        -4.27648979e-02,  2.21151248e-01,  3.64743907e-01,\n",
       "         9.74392958e-03],\n",
       "       [ 0.00000000e+00,  5.15137914e-01, -8.82226500e-01,\n",
       "         2.40828712e-01,  3.62571375e-01, -1.81582849e-01,\n",
       "        -2.95221196e-01,  1.39783848e-01, -6.20195979e-02,\n",
       "        -2.37741026e-01,  2.79730799e-01, -1.28424262e-02,\n",
       "         5.46862515e-02,  5.71460686e-01,  8.21182161e-01,\n",
       "        -2.54503425e-01, -2.05932234e-04,  8.25486417e-02,\n",
       "        -7.12743512e-01, -3.69905353e-01,  8.90023605e-02,\n",
       "        -4.39560018e-01,  2.06336708e-01, -3.44162584e-03,\n",
       "        -1.01777295e-06, -5.16950776e-01, -3.96641303e-01,\n",
       "        -2.02045099e-02,  7.80503072e-02, -4.91123605e-01,\n",
       "        -2.15294572e+00, -2.51288242e-06,  0.00000000e+00,\n",
       "        -3.09689141e-01, -3.85696331e-01, -7.16260349e-02,\n",
       "        -1.03301944e-01, -1.32500136e-01,  3.58020511e-01,\n",
       "         0.00000000e+00, -9.13566624e-06,  6.38861045e-02,\n",
       "        -1.59396757e-01, -7.98508329e-01,  3.12175635e-01,\n",
       "         6.18183364e-01,  2.58426781e-01, -1.16400837e-02,\n",
       "        -1.09411130e-05, -2.85334239e-01, -7.20285599e-02,\n",
       "        -3.34030702e-01,  4.78128489e-02, -1.05944745e-02,\n",
       "         6.30925267e-01, -4.50410304e-01, -1.44669107e-06,\n",
       "         2.37688236e-01,  6.03335844e-01, -4.61743422e-01,\n",
       "         4.18070679e-01, -2.18992388e-01, -1.29057769e-01,\n",
       "        -8.31481803e-01],\n",
       "       [ 0.00000000e+00, -1.24644699e-02, -3.06734910e-01,\n",
       "        -6.67454805e-01, -2.92690505e-01, -3.39720664e-01,\n",
       "        -4.37580224e-01,  1.05033952e-01, -2.49448085e-05,\n",
       "        -7.36018927e-02, -5.02187650e-02, -3.50026618e-01,\n",
       "        -4.66074244e-01, -3.72819175e-01, -3.50599154e-01,\n",
       "         1.46253797e-01, -7.20059577e-03,  2.26742305e-01,\n",
       "         4.20090894e-01,  1.83138227e-01,  4.26059457e-03,\n",
       "         2.64056497e-01, -1.67812564e-03,  9.22781878e-02,\n",
       "         6.07117317e-02, -7.10828446e-02,  2.96016268e-01,\n",
       "         1.36691935e-02, -9.30233002e-02,  1.26167289e-02,\n",
       "         4.97190684e-01,  1.84581274e-03,  0.00000000e+00,\n",
       "         1.66233684e-01,  1.29968102e-01,  1.68059119e-02,\n",
       "         3.44694385e-01,  1.04919813e-01,  3.60164134e-01,\n",
       "         0.00000000e+00,  7.71768788e-04,  5.34717503e-01,\n",
       "        -1.77996278e-01,  4.26925521e-01,  1.05881803e-01,\n",
       "         1.55972993e-01,  7.43372593e-02, -6.18063438e-04,\n",
       "         1.24020390e-03,  4.01645000e-01, -1.56653852e-01,\n",
       "         1.17907275e-01,  1.14443865e-01, -3.53910729e-01,\n",
       "        -5.66368320e-01, -2.55491322e-03, -8.14951795e-05,\n",
       "        -1.13768648e-01, -2.24400492e-01, -2.75644940e-01,\n",
       "        -2.61919065e-01, -2.96949662e-01, -1.15635479e-01,\n",
       "        -1.55390461e-03],\n",
       "       [ 0.00000000e+00,  5.40882032e-02,  7.82210485e-01,\n",
       "        -4.44330436e-01, -3.03617817e-02,  3.86723304e-01,\n",
       "         6.77028188e-01, -1.30772562e-01,  5.77647074e-03,\n",
       "         7.63549397e-03,  9.15731171e-02,  1.26351019e-01,\n",
       "         4.52590344e-02, -1.42475285e-01, -3.83977971e-01,\n",
       "        -6.99621458e-02, -3.28496854e-02, -3.03573171e-01,\n",
       "         4.27301875e-01,  1.43063600e-01, -5.78789643e-01,\n",
       "        -7.09278677e-01, -1.12485704e+00, -8.61395143e-03,\n",
       "        -1.92134626e-02,  9.00146922e-02,  3.98001413e-01,\n",
       "        -1.50269389e-01,  3.65221133e-01, -1.44357682e-01,\n",
       "        -1.17028264e+00, -1.03639768e-05,  0.00000000e+00,\n",
       "        -3.58395723e-01,  9.01526775e-02, -2.20569239e-01,\n",
       "        -4.36730412e-01, -2.04792462e-01,  4.24552848e-01,\n",
       "         0.00000000e+00,  2.62281757e-05, -3.70362551e-01,\n",
       "        -3.67991746e-01, -3.56154297e-01, -2.53950864e-01,\n",
       "         1.59739800e-01, -1.33201285e-03, -1.18839819e-03,\n",
       "         2.31538828e-05,  6.12622816e-02, -3.57953935e-01,\n",
       "         1.11121240e-01,  2.35725042e-04, -1.57227957e-01,\n",
       "        -6.09459939e-01, -1.28428993e-02,  2.97501147e-06,\n",
       "        -1.00126855e-01,  1.33361491e-01,  2.98754269e-01,\n",
       "        -5.60992927e-02,  3.33391408e-02, -6.13960563e-01,\n",
       "        -8.70835218e-02],\n",
       "       [ 0.00000000e+00, -3.01304844e-02, -3.08025132e-01,\n",
       "        -1.41838925e-01, -2.64150710e-01, -2.80954576e-01,\n",
       "        -2.22523921e-01, -1.86344427e-04, -2.78920775e-05,\n",
       "        -3.74223805e-01, -4.78354887e-02, -3.56137042e-01,\n",
       "        -4.21031644e-01,  1.49538616e-01,  1.70555242e-01,\n",
       "        -2.97059043e-04, -1.03476089e-02, -1.59429910e-01,\n",
       "         1.92855507e-01,  1.89450140e-01, -5.20217454e-01,\n",
       "        -9.75902100e-01, -3.26636743e-01, -4.56199221e-04,\n",
       "        -5.17537451e-03,  3.65973375e-01, -3.91778131e-02,\n",
       "         2.84137270e-01, -8.44764167e-02, -6.92386420e-02,\n",
       "        -7.19336919e-01, -1.98647268e-05,  0.00000000e+00,\n",
       "         2.68137374e-01,  1.17295025e-01,  2.34855920e-01,\n",
       "        -8.08437753e-02, -1.35242588e-02, -1.26701218e-01,\n",
       "         0.00000000e+00, -8.57360686e-04, -8.07768801e-01,\n",
       "         6.32039262e-01, -1.21785252e-01,  1.51475166e-01,\n",
       "        -1.28151331e-01,  5.22252290e-01,  1.01962007e-01,\n",
       "        -2.20318131e-04, -3.45022766e-01,  4.03625809e-01,\n",
       "         2.22851052e-01, -3.03570759e-01,  3.75387252e-01,\n",
       "        -1.59113698e-02, -5.35533570e-01, -7.55476066e-07,\n",
       "        -1.99249907e-02, -3.90720572e-01, -3.66363479e-01,\n",
       "        -5.79381384e-02,  1.09182379e-01, -1.60118805e-01,\n",
       "        -2.42742389e-01],\n",
       "       [ 0.00000000e+00, -1.81028520e-01,  2.49475846e-01,\n",
       "         2.43981621e-01, -1.55002955e-01,  4.25487447e-01,\n",
       "         2.83196177e-01,  2.18430188e-01, -1.61797478e-05,\n",
       "         8.95124482e-02,  1.78070900e-01, -1.29229276e-01,\n",
       "         9.04574008e-01, -1.64535465e-01, -1.45449535e-01,\n",
       "         2.25789612e-01, -1.00971763e-05, -2.72639911e-01,\n",
       "        -3.92805297e-01, -3.87202535e-01, -2.50218075e-01,\n",
       "         3.09682038e-01,  1.18531627e-01,  4.43429865e-02,\n",
       "        -6.19922975e-06, -5.34424988e-01, -5.53987812e-02,\n",
       "        -4.67233632e-01, -9.50208248e-02,  4.43379479e-02,\n",
       "         1.94994519e-01, -3.65554886e-03,  0.00000000e+00,\n",
       "         5.44735266e-01, -1.95513534e-01,  1.29949948e-01,\n",
       "         1.21781124e-01,  8.85124825e-02,  2.71299511e-01,\n",
       "         0.00000000e+00, -1.76048712e-04, -4.37070818e-01,\n",
       "         7.53324501e-02, -1.06485360e-01,  1.73554942e-01,\n",
       "         2.67272278e-01,  8.04534326e-02, -5.77887150e-05,\n",
       "        -5.55407850e-05, -2.06387922e-01,  1.42654548e-01,\n",
       "         1.87392796e-01, -7.24980883e-01, -1.09853815e+00,\n",
       "        -2.55240837e-01, -7.64547035e-04, -8.60604715e-06,\n",
       "        -4.47703215e-01, -3.62853053e-01, -3.32689036e-01,\n",
       "        -8.99847273e-02, -7.93803031e-01, -2.75878840e-01,\n",
       "        -1.63860811e-02],\n",
       "       [ 0.00000000e+00, -6.40494018e-02,  2.05947701e-01,\n",
       "        -2.11849579e-01, -8.80452693e-04, -1.71630200e-02,\n",
       "        -5.68586667e-01, -7.12914222e-02,  1.16509736e+00,\n",
       "        -4.92942569e-02,  1.35567051e-01,  7.26625778e-03,\n",
       "        -1.63112958e-01,  1.32428106e-01,  1.77764931e-01,\n",
       "        -2.11694363e-01, -3.20021976e-01,  1.32096085e-01,\n",
       "         1.75473175e-01,  5.50780809e-02,  1.65188395e-02,\n",
       "         1.05802219e-01,  1.23110267e-01, -1.77959586e-01,\n",
       "        -4.43567762e-01, -1.41151447e-01, -5.44428058e-02,\n",
       "         1.48797905e-01, -9.44521586e-02, -3.27866027e-03,\n",
       "        -1.29298485e-01, -2.63588573e-03,  0.00000000e+00,\n",
       "        -4.17936332e-01, -1.13770638e-01,  2.88674526e-01,\n",
       "        -1.02798919e-02, -6.62429094e-02, -9.24879771e-01,\n",
       "         0.00000000e+00, -1.00312849e-03,  1.87633582e-01,\n",
       "         1.35533481e-01,  2.05023160e-02,  4.52294906e-02,\n",
       "         5.10930546e-02, -5.88594876e-03, -1.12757619e-01,\n",
       "        -2.31504709e-02, -1.01683248e-01,  1.58382631e-01,\n",
       "        -2.36666658e-01, -2.07250167e-01,  8.81726322e-02,\n",
       "         2.31275763e-02, -1.44534209e-01, -7.68800695e-03,\n",
       "         2.68921270e-02, -5.13929620e-01, -1.31728296e-02,\n",
       "         6.01296532e-02, -2.05325441e-01, -1.58184117e-01,\n",
       "         4.29178028e-02],\n",
       "       [ 0.00000000e+00, -8.69709109e-01,  9.30967657e-02,\n",
       "         2.01865452e-01, -2.31368550e-03, -1.89011801e-01,\n",
       "        -2.31778234e-01,  5.21313639e-02, -1.19663370e-02,\n",
       "         1.78127237e-01,  6.06100124e-02,  1.55473656e-01,\n",
       "        -6.58517249e-02, -1.12219909e-01,  3.74131931e-01,\n",
       "        -4.53487854e-01, -2.54078045e-01,  2.16003560e-01,\n",
       "         2.64017341e-01,  1.18862269e-01,  1.66053003e-01,\n",
       "         5.93011121e-01, -3.14895485e-02, -7.85740138e-01,\n",
       "        -1.23341883e-01, -2.25953482e-01,  1.95120815e-01,\n",
       "         2.96168457e-01, -1.82122499e-01,  3.02391947e-01,\n",
       "        -9.58689167e-02, -2.03105717e-02,  0.00000000e+00,\n",
       "        -6.86349629e-01, -1.80303623e-01,  4.90697455e-01,\n",
       "        -2.65114301e-01, -2.11651325e-01, -1.18370567e-02,\n",
       "         0.00000000e+00, -9.10928480e-07, -9.13413202e-02,\n",
       "        -6.80672719e-01, -1.24337428e+00, -5.82509641e-01,\n",
       "        -2.38728483e-01, -2.70855217e-01,  2.67600930e-04,\n",
       "        -1.00876053e-06,  1.09843345e-01, -5.71060133e-02,\n",
       "         4.29102852e-02, -1.78845056e-01, -2.90611133e-01,\n",
       "        -2.05084335e-01,  5.85153784e-01, -1.07576448e-07,\n",
       "        -4.89790860e-01, -2.71566725e-01, -9.59401333e-02,\n",
       "        -8.95843979e-04,  2.83556031e-03, -4.18545365e-02,\n",
       "        -5.71518556e-01]])"
      ]
     },
     "execution_count": 125,
     "metadata": {},
     "output_type": "execute_result"
    }
   ],
   "source": [
    "model.coef_"
   ]
  },
  {
   "cell_type": "code",
   "execution_count": 126,
   "metadata": {
    "collapsed": true
   },
   "outputs": [
    {
     "data": {
      "text/plain": [
       "array([[6.79394161e-17, 9.98834004e-01, 1.72453618e-07, ...,\n",
       "        4.00402205e-27, 6.56622874e-04, 1.75964972e-07],\n",
       "       [1.57384066e-09, 1.34654613e-03, 2.04096533e-03, ...,\n",
       "        4.39811858e-04, 3.19333166e-05, 1.17124076e-06],\n",
       "       [7.72047147e-15, 7.89570349e-01, 4.78856937e-10, ...,\n",
       "        5.28346452e-09, 2.10371393e-01, 1.44379474e-09],\n",
       "       ...,\n",
       "       [3.98498422e-11, 7.42752899e-04, 2.24412907e-07, ...,\n",
       "        8.65752703e-17, 7.47509492e-03, 1.67534473e-15],\n",
       "       [6.57031954e-08, 9.39579923e-01, 2.74522482e-07, ...,\n",
       "        5.49565318e-14, 5.45591828e-02, 5.84280978e-03],\n",
       "       [1.61016185e-17, 9.52587876e-01, 3.13808392e-02, ...,\n",
       "        1.83227595e-27, 1.26589191e-02, 2.34455421e-08]])"
      ]
     },
     "execution_count": 126,
     "metadata": {},
     "output_type": "execute_result"
    }
   ],
   "source": [
    "model.predict_proba(X_test)"
   ]
  },
  {
   "cell_type": "code",
   "execution_count": 127,
   "metadata": {
    "collapsed": true
   },
   "outputs": [
    {
     "ename": "ValueError",
     "evalue": "Expected 2D array, got 1D array instead:\narray=[1 3 1 5 0 6 6 7 4 9 3 9 7 7 6 1 5 7 3 3 9 8 5 5 4 4 9 3 2 3 6 0 2 0 4 6 1\n 8 5 5 2 3 1 3 2 6 5 8 9 6 0 4 6 5 1 6 6 6 2 3 1 2 9 9 4 6 1 5 0 9 9 8 4 7\n 7 5 0 0 4 9 5 4 1 9 0 0 5 6 5 7 3 5 3 1 5 9 2 3 9 7 4 0 0 9 2 7 3 1 4 9 3\n 8 2 5 1 1 6 9 4 3 7 1 8 1 9 7 9 0 3 2 7 7 2 4 0 8 4 8 5 7 2 4 2 9 5 9 5 4\n 4 2 0 3 3 7 2 5 1 5 1 0 6 7 7 3 2 3 1 0 7 3 0 7 4 9 2 5 3 0 0 9 5 1 7 6 5\n 3 4 6 0 6 6 3 4 6 2 1 6 9 7 4 3 4 2 4 8 0 3 1 2 4 7 2 0 8 8 6 1 8 4 5 1 0\n 2 8 4 2 0 1 6 8 8 5 8 3 1 9 0 4 6 2 9 6 7 1 0 4 6 0 8 2 8 9 1 2 3 9 4 7 5\n 7 2 9 4 6 2 8 7 5 8 8 0 3 2 3 1 2 6 8 5 2 8 3 1 3 0 5 3 1 7 2 0 1 0 9 7 9\n 2 3 5 3 0 2 9 1 6 1 9 5 5 5 4 7 7 9 3 6 9 4 6 1 8 5 3 7 0 2 2 6 4 8 7 9 2\n 0 8 4 6 7 3 1 5 4 7 2 4 9 4 2 1 4 7 1 7 2 9 2 6 7 3 7 3 2 9 9 8 8 9 4 1 7\n 9 4 8 9 8 8 0 1 3 0 0 0 9 6 8 4 7 0 7 3 1 8 5 7 0 9 5 0 6 9 4 7 5 6 1 5 3\n 4 6 5 1 6 8 7 0 8 3 6 5 0 3 2 3 5 6 4 5 2 8 6 4 1 8 6 6 2 5 4 8 9 1 7 3 2\n 3 4 7 1 1 4 8 8 6 2 3 6 1 7 8 8 4 0 6 8 5 2 3 2 9 0 5 0 4 7 1 5 0 2 6 0 0\n 3 1 8 6 7 7 6 5 0 1 8 3 8 9 9 5 7 8 3 9 7 3 8 6 5 5 5 2 9 8 0 9 0 4 7 1 8\n 0 4 2 9 1 0 4 6 3 1 6 5 4 5 8 8 2 7 9 6 1 1].\nReshape your data either using array.reshape(-1, 1) if your data has a single feature or array.reshape(1, -1) if it contains a single sample.",
     "output_type": "error",
     "traceback": [
      "\u001b[1;31m---------------------------------------------------------------------------\u001b[0m",
      "\u001b[1;31mValueError\u001b[0m                                Traceback (most recent call last)",
      "\u001b[1;32m<ipython-input-127-649fd3819e7d>\u001b[0m in \u001b[0;36m<module>\u001b[1;34m\u001b[0m\n\u001b[1;32m----> 1\u001b[1;33m \u001b[0mmodel\u001b[0m\u001b[1;33m.\u001b[0m\u001b[0mpredict_proba\u001b[0m\u001b[1;33m(\u001b[0m\u001b[0my_test\u001b[0m\u001b[1;33m)\u001b[0m\u001b[1;33m\u001b[0m\u001b[1;33m\u001b[0m\u001b[0m\n\u001b[0m",
      "\u001b[1;32mC:\\ProgramData\\Anaconda3\\lib\\site-packages\\sklearn\\linear_model\\logistic.py\u001b[0m in \u001b[0;36mpredict_proba\u001b[1;34m(self, X)\u001b[0m\n\u001b[0;32m   1409\u001b[0m                                                 self.solver == 'liblinear')))\n\u001b[0;32m   1410\u001b[0m         \u001b[1;32mif\u001b[0m \u001b[0movr\u001b[0m\u001b[1;33m:\u001b[0m\u001b[1;33m\u001b[0m\u001b[1;33m\u001b[0m\u001b[0m\n\u001b[1;32m-> 1411\u001b[1;33m             \u001b[1;32mreturn\u001b[0m \u001b[0msuper\u001b[0m\u001b[1;33m(\u001b[0m\u001b[0mLogisticRegression\u001b[0m\u001b[1;33m,\u001b[0m \u001b[0mself\u001b[0m\u001b[1;33m)\u001b[0m\u001b[1;33m.\u001b[0m\u001b[0m_predict_proba_lr\u001b[0m\u001b[1;33m(\u001b[0m\u001b[0mX\u001b[0m\u001b[1;33m)\u001b[0m\u001b[1;33m\u001b[0m\u001b[1;33m\u001b[0m\u001b[0m\n\u001b[0m\u001b[0;32m   1412\u001b[0m         \u001b[1;32melse\u001b[0m\u001b[1;33m:\u001b[0m\u001b[1;33m\u001b[0m\u001b[1;33m\u001b[0m\u001b[0m\n\u001b[0;32m   1413\u001b[0m             \u001b[0mdecision\u001b[0m \u001b[1;33m=\u001b[0m \u001b[0mself\u001b[0m\u001b[1;33m.\u001b[0m\u001b[0mdecision_function\u001b[0m\u001b[1;33m(\u001b[0m\u001b[0mX\u001b[0m\u001b[1;33m)\u001b[0m\u001b[1;33m\u001b[0m\u001b[1;33m\u001b[0m\u001b[0m\n",
      "\u001b[1;32mC:\\ProgramData\\Anaconda3\\lib\\site-packages\\sklearn\\linear_model\\base.py\u001b[0m in \u001b[0;36m_predict_proba_lr\u001b[1;34m(self, X)\u001b[0m\n\u001b[0;32m    293\u001b[0m         \u001b[0mmulticlass\u001b[0m \u001b[1;32mis\u001b[0m \u001b[0mhandled\u001b[0m \u001b[0mby\u001b[0m \u001b[0mnormalizing\u001b[0m \u001b[0mthat\u001b[0m \u001b[0mover\u001b[0m \u001b[0mall\u001b[0m \u001b[0mclasses\u001b[0m\u001b[1;33m.\u001b[0m\u001b[1;33m\u001b[0m\u001b[1;33m\u001b[0m\u001b[0m\n\u001b[0;32m    294\u001b[0m         \"\"\"\n\u001b[1;32m--> 295\u001b[1;33m         \u001b[0mprob\u001b[0m \u001b[1;33m=\u001b[0m \u001b[0mself\u001b[0m\u001b[1;33m.\u001b[0m\u001b[0mdecision_function\u001b[0m\u001b[1;33m(\u001b[0m\u001b[0mX\u001b[0m\u001b[1;33m)\u001b[0m\u001b[1;33m\u001b[0m\u001b[1;33m\u001b[0m\u001b[0m\n\u001b[0m\u001b[0;32m    296\u001b[0m         \u001b[0mprob\u001b[0m \u001b[1;33m*=\u001b[0m \u001b[1;33m-\u001b[0m\u001b[1;36m1\u001b[0m\u001b[1;33m\u001b[0m\u001b[1;33m\u001b[0m\u001b[0m\n\u001b[0;32m    297\u001b[0m         \u001b[0mnp\u001b[0m\u001b[1;33m.\u001b[0m\u001b[0mexp\u001b[0m\u001b[1;33m(\u001b[0m\u001b[0mprob\u001b[0m\u001b[1;33m,\u001b[0m \u001b[0mprob\u001b[0m\u001b[1;33m)\u001b[0m\u001b[1;33m\u001b[0m\u001b[1;33m\u001b[0m\u001b[0m\n",
      "\u001b[1;32mC:\\ProgramData\\Anaconda3\\lib\\site-packages\\sklearn\\linear_model\\base.py\u001b[0m in \u001b[0;36mdecision_function\u001b[1;34m(self, X)\u001b[0m\n\u001b[0;32m    255\u001b[0m                                  \"yet\" % {'name': type(self).__name__})\n\u001b[0;32m    256\u001b[0m \u001b[1;33m\u001b[0m\u001b[0m\n\u001b[1;32m--> 257\u001b[1;33m         \u001b[0mX\u001b[0m \u001b[1;33m=\u001b[0m \u001b[0mcheck_array\u001b[0m\u001b[1;33m(\u001b[0m\u001b[0mX\u001b[0m\u001b[1;33m,\u001b[0m \u001b[0maccept_sparse\u001b[0m\u001b[1;33m=\u001b[0m\u001b[1;34m'csr'\u001b[0m\u001b[1;33m)\u001b[0m\u001b[1;33m\u001b[0m\u001b[1;33m\u001b[0m\u001b[0m\n\u001b[0m\u001b[0;32m    258\u001b[0m \u001b[1;33m\u001b[0m\u001b[0m\n\u001b[0;32m    259\u001b[0m         \u001b[0mn_features\u001b[0m \u001b[1;33m=\u001b[0m \u001b[0mself\u001b[0m\u001b[1;33m.\u001b[0m\u001b[0mcoef_\u001b[0m\u001b[1;33m.\u001b[0m\u001b[0mshape\u001b[0m\u001b[1;33m[\u001b[0m\u001b[1;36m1\u001b[0m\u001b[1;33m]\u001b[0m\u001b[1;33m\u001b[0m\u001b[1;33m\u001b[0m\u001b[0m\n",
      "\u001b[1;32mC:\\ProgramData\\Anaconda3\\lib\\site-packages\\sklearn\\utils\\validation.py\u001b[0m in \u001b[0;36mcheck_array\u001b[1;34m(array, accept_sparse, accept_large_sparse, dtype, order, copy, force_all_finite, ensure_2d, allow_nd, ensure_min_samples, ensure_min_features, warn_on_dtype, estimator)\u001b[0m\n\u001b[0;32m    550\u001b[0m                     \u001b[1;34m\"Reshape your data either using array.reshape(-1, 1) if \"\u001b[0m\u001b[1;33m\u001b[0m\u001b[1;33m\u001b[0m\u001b[0m\n\u001b[0;32m    551\u001b[0m                     \u001b[1;34m\"your data has a single feature or array.reshape(1, -1) \"\u001b[0m\u001b[1;33m\u001b[0m\u001b[1;33m\u001b[0m\u001b[0m\n\u001b[1;32m--> 552\u001b[1;33m                     \"if it contains a single sample.\".format(array))\n\u001b[0m\u001b[0;32m    553\u001b[0m \u001b[1;33m\u001b[0m\u001b[0m\n\u001b[0;32m    554\u001b[0m         \u001b[1;31m# in the future np.flexible dtypes will be handled like object dtypes\u001b[0m\u001b[1;33m\u001b[0m\u001b[1;33m\u001b[0m\u001b[1;33m\u001b[0m\u001b[0m\n",
      "\u001b[1;31mValueError\u001b[0m: Expected 2D array, got 1D array instead:\narray=[1 3 1 5 0 6 6 7 4 9 3 9 7 7 6 1 5 7 3 3 9 8 5 5 4 4 9 3 2 3 6 0 2 0 4 6 1\n 8 5 5 2 3 1 3 2 6 5 8 9 6 0 4 6 5 1 6 6 6 2 3 1 2 9 9 4 6 1 5 0 9 9 8 4 7\n 7 5 0 0 4 9 5 4 1 9 0 0 5 6 5 7 3 5 3 1 5 9 2 3 9 7 4 0 0 9 2 7 3 1 4 9 3\n 8 2 5 1 1 6 9 4 3 7 1 8 1 9 7 9 0 3 2 7 7 2 4 0 8 4 8 5 7 2 4 2 9 5 9 5 4\n 4 2 0 3 3 7 2 5 1 5 1 0 6 7 7 3 2 3 1 0 7 3 0 7 4 9 2 5 3 0 0 9 5 1 7 6 5\n 3 4 6 0 6 6 3 4 6 2 1 6 9 7 4 3 4 2 4 8 0 3 1 2 4 7 2 0 8 8 6 1 8 4 5 1 0\n 2 8 4 2 0 1 6 8 8 5 8 3 1 9 0 4 6 2 9 6 7 1 0 4 6 0 8 2 8 9 1 2 3 9 4 7 5\n 7 2 9 4 6 2 8 7 5 8 8 0 3 2 3 1 2 6 8 5 2 8 3 1 3 0 5 3 1 7 2 0 1 0 9 7 9\n 2 3 5 3 0 2 9 1 6 1 9 5 5 5 4 7 7 9 3 6 9 4 6 1 8 5 3 7 0 2 2 6 4 8 7 9 2\n 0 8 4 6 7 3 1 5 4 7 2 4 9 4 2 1 4 7 1 7 2 9 2 6 7 3 7 3 2 9 9 8 8 9 4 1 7\n 9 4 8 9 8 8 0 1 3 0 0 0 9 6 8 4 7 0 7 3 1 8 5 7 0 9 5 0 6 9 4 7 5 6 1 5 3\n 4 6 5 1 6 8 7 0 8 3 6 5 0 3 2 3 5 6 4 5 2 8 6 4 1 8 6 6 2 5 4 8 9 1 7 3 2\n 3 4 7 1 1 4 8 8 6 2 3 6 1 7 8 8 4 0 6 8 5 2 3 2 9 0 5 0 4 7 1 5 0 2 6 0 0\n 3 1 8 6 7 7 6 5 0 1 8 3 8 9 9 5 7 8 3 9 7 3 8 6 5 5 5 2 9 8 0 9 0 4 7 1 8\n 0 4 2 9 1 0 4 6 3 1 6 5 4 5 8 8 2 7 9 6 1 1].\nReshape your data either using array.reshape(-1, 1) if your data has a single feature or array.reshape(1, -1) if it contains a single sample."
     ]
    }
   ],
   "source": [
    "model.predict_proba(y_test)"
   ]
  },
  {
   "cell_type": "code",
   "execution_count": 131,
   "metadata": {
    "collapsed": true
   },
   "outputs": [
    {
     "ename": "ValueError",
     "evalue": "Expected 2D array, got 1D array instead:\narray=[1 3 1 5 0 6 6 7 4 9 3 9 7 7 6 1 5 7 3 3 9 8 5 5 4 4 9 3 2 3 6 0 2 0 4 6 1\n 8 5 5 2 3 1 3 2 6 5 8 9 6 0 4 6 5 1 6 6 6 2 3 1 2 9 9 4 6 1 5 0 9 9 8 4 7\n 7 5 0 0 4 9 5 4 1 9 0 0 5 6 5 7 3 5 3 1 5 9 2 3 9 7 4 0 0 9 2 7 3 1 4 9 3\n 8 2 5 1 1 6 9 4 3 7 1 8 1 9 7 9 0 3 2 7 7 2 4 0 8 4 8 5 7 2 4 2 9 5 9 5 4\n 4 2 0 3 3 7 2 5 1 5 1 0 6 7 7 3 2 3 1 0 7 3 0 7 4 9 2 5 3 0 0 9 5 1 7 6 5\n 3 4 6 0 6 6 3 4 6 2 1 6 9 7 4 3 4 2 4 8 0 3 1 2 4 7 2 0 8 8 6 1 8 4 5 1 0\n 2 8 4 2 0 1 6 8 8 5 8 3 1 9 0 4 6 2 9 6 7 1 0 4 6 0 8 2 8 9 1 2 3 9 4 7 5\n 7 2 9 4 6 2 8 7 5 8 8 0 3 2 3 1 2 6 8 5 2 8 3 1 3 0 5 3 1 7 2 0 1 0 9 7 9\n 2 3 5 3 0 2 9 1 6 1 9 5 5 5 4 7 7 9 3 6 9 4 6 1 8 5 3 7 0 2 2 6 4 8 7 9 2\n 0 8 4 6 7 3 1 5 4 7 2 4 9 4 2 1 4 7 1 7 2 9 2 6 7 3 7 3 2 9 9 8 8 9 4 1 7\n 9 4 8 9 8 8 0 1 3 0 0 0 9 6 8 4 7 0 7 3 1 8 5 7 0 9 5 0 6 9 4 7 5 6 1 5 3\n 4 6 5 1 6 8 7 0 8 3 6 5 0 3 2 3 5 6 4 5 2 8 6 4 1 8 6 6 2 5 4 8 9 1 7 3 2\n 3 4 7 1 1 4 8 8 6 2 3 6 1 7 8 8 4 0 6 8 5 2 3 2 9 0 5 0 4 7 1 5 0 2 6 0 0\n 3 1 8 6 7 7 6 5 0 1 8 3 8 9 9 5 7 8 3 9 7 3 8 6 5 5 5 2 9 8 0 9 0 4 7 1 8\n 0 4 2 9 1 0 4 6 3 1 6 5 4 5 8 8 2 7 9 6 1 1].\nReshape your data either using array.reshape(-1, 1) if your data has a single feature or array.reshape(1, -1) if it contains a single sample.",
     "output_type": "error",
     "traceback": [
      "\u001b[1;31m---------------------------------------------------------------------------\u001b[0m",
      "\u001b[1;31mValueError\u001b[0m                                Traceback (most recent call last)",
      "\u001b[1;32m<ipython-input-131-900e537fef79>\u001b[0m in \u001b[0;36m<module>\u001b[1;34m\u001b[0m\n\u001b[1;32m----> 1\u001b[1;33m \u001b[0mmodel\u001b[0m\u001b[1;33m.\u001b[0m\u001b[0mpredict\u001b[0m\u001b[1;33m(\u001b[0m\u001b[0my_test\u001b[0m\u001b[1;33m)\u001b[0m\u001b[1;33m\u001b[0m\u001b[1;33m\u001b[0m\u001b[0m\n\u001b[0m",
      "\u001b[1;32mC:\\ProgramData\\Anaconda3\\lib\\site-packages\\sklearn\\linear_model\\base.py\u001b[0m in \u001b[0;36mpredict\u001b[1;34m(self, X)\u001b[0m\n\u001b[0;32m    279\u001b[0m             \u001b[0mPredicted\u001b[0m \u001b[1;32mclass\u001b[0m \u001b[0mlabel\u001b[0m \u001b[0mper\u001b[0m \u001b[0msample\u001b[0m\u001b[1;33m.\u001b[0m\u001b[1;33m\u001b[0m\u001b[1;33m\u001b[0m\u001b[0m\n\u001b[0;32m    280\u001b[0m         \"\"\"\n\u001b[1;32m--> 281\u001b[1;33m         \u001b[0mscores\u001b[0m \u001b[1;33m=\u001b[0m \u001b[0mself\u001b[0m\u001b[1;33m.\u001b[0m\u001b[0mdecision_function\u001b[0m\u001b[1;33m(\u001b[0m\u001b[0mX\u001b[0m\u001b[1;33m)\u001b[0m\u001b[1;33m\u001b[0m\u001b[1;33m\u001b[0m\u001b[0m\n\u001b[0m\u001b[0;32m    282\u001b[0m         \u001b[1;32mif\u001b[0m \u001b[0mlen\u001b[0m\u001b[1;33m(\u001b[0m\u001b[0mscores\u001b[0m\u001b[1;33m.\u001b[0m\u001b[0mshape\u001b[0m\u001b[1;33m)\u001b[0m \u001b[1;33m==\u001b[0m \u001b[1;36m1\u001b[0m\u001b[1;33m:\u001b[0m\u001b[1;33m\u001b[0m\u001b[1;33m\u001b[0m\u001b[0m\n\u001b[0;32m    283\u001b[0m             \u001b[0mindices\u001b[0m \u001b[1;33m=\u001b[0m \u001b[1;33m(\u001b[0m\u001b[0mscores\u001b[0m \u001b[1;33m>\u001b[0m \u001b[1;36m0\u001b[0m\u001b[1;33m)\u001b[0m\u001b[1;33m.\u001b[0m\u001b[0mastype\u001b[0m\u001b[1;33m(\u001b[0m\u001b[0mnp\u001b[0m\u001b[1;33m.\u001b[0m\u001b[0mint\u001b[0m\u001b[1;33m)\u001b[0m\u001b[1;33m\u001b[0m\u001b[1;33m\u001b[0m\u001b[0m\n",
      "\u001b[1;32mC:\\ProgramData\\Anaconda3\\lib\\site-packages\\sklearn\\linear_model\\base.py\u001b[0m in \u001b[0;36mdecision_function\u001b[1;34m(self, X)\u001b[0m\n\u001b[0;32m    255\u001b[0m                                  \"yet\" % {'name': type(self).__name__})\n\u001b[0;32m    256\u001b[0m \u001b[1;33m\u001b[0m\u001b[0m\n\u001b[1;32m--> 257\u001b[1;33m         \u001b[0mX\u001b[0m \u001b[1;33m=\u001b[0m \u001b[0mcheck_array\u001b[0m\u001b[1;33m(\u001b[0m\u001b[0mX\u001b[0m\u001b[1;33m,\u001b[0m \u001b[0maccept_sparse\u001b[0m\u001b[1;33m=\u001b[0m\u001b[1;34m'csr'\u001b[0m\u001b[1;33m)\u001b[0m\u001b[1;33m\u001b[0m\u001b[1;33m\u001b[0m\u001b[0m\n\u001b[0m\u001b[0;32m    258\u001b[0m \u001b[1;33m\u001b[0m\u001b[0m\n\u001b[0;32m    259\u001b[0m         \u001b[0mn_features\u001b[0m \u001b[1;33m=\u001b[0m \u001b[0mself\u001b[0m\u001b[1;33m.\u001b[0m\u001b[0mcoef_\u001b[0m\u001b[1;33m.\u001b[0m\u001b[0mshape\u001b[0m\u001b[1;33m[\u001b[0m\u001b[1;36m1\u001b[0m\u001b[1;33m]\u001b[0m\u001b[1;33m\u001b[0m\u001b[1;33m\u001b[0m\u001b[0m\n",
      "\u001b[1;32mC:\\ProgramData\\Anaconda3\\lib\\site-packages\\sklearn\\utils\\validation.py\u001b[0m in \u001b[0;36mcheck_array\u001b[1;34m(array, accept_sparse, accept_large_sparse, dtype, order, copy, force_all_finite, ensure_2d, allow_nd, ensure_min_samples, ensure_min_features, warn_on_dtype, estimator)\u001b[0m\n\u001b[0;32m    550\u001b[0m                     \u001b[1;34m\"Reshape your data either using array.reshape(-1, 1) if \"\u001b[0m\u001b[1;33m\u001b[0m\u001b[1;33m\u001b[0m\u001b[0m\n\u001b[0;32m    551\u001b[0m                     \u001b[1;34m\"your data has a single feature or array.reshape(1, -1) \"\u001b[0m\u001b[1;33m\u001b[0m\u001b[1;33m\u001b[0m\u001b[0m\n\u001b[1;32m--> 552\u001b[1;33m                     \"if it contains a single sample.\".format(array))\n\u001b[0m\u001b[0;32m    553\u001b[0m \u001b[1;33m\u001b[0m\u001b[0m\n\u001b[0;32m    554\u001b[0m         \u001b[1;31m# in the future np.flexible dtypes will be handled like object dtypes\u001b[0m\u001b[1;33m\u001b[0m\u001b[1;33m\u001b[0m\u001b[1;33m\u001b[0m\u001b[0m\n",
      "\u001b[1;31mValueError\u001b[0m: Expected 2D array, got 1D array instead:\narray=[1 3 1 5 0 6 6 7 4 9 3 9 7 7 6 1 5 7 3 3 9 8 5 5 4 4 9 3 2 3 6 0 2 0 4 6 1\n 8 5 5 2 3 1 3 2 6 5 8 9 6 0 4 6 5 1 6 6 6 2 3 1 2 9 9 4 6 1 5 0 9 9 8 4 7\n 7 5 0 0 4 9 5 4 1 9 0 0 5 6 5 7 3 5 3 1 5 9 2 3 9 7 4 0 0 9 2 7 3 1 4 9 3\n 8 2 5 1 1 6 9 4 3 7 1 8 1 9 7 9 0 3 2 7 7 2 4 0 8 4 8 5 7 2 4 2 9 5 9 5 4\n 4 2 0 3 3 7 2 5 1 5 1 0 6 7 7 3 2 3 1 0 7 3 0 7 4 9 2 5 3 0 0 9 5 1 7 6 5\n 3 4 6 0 6 6 3 4 6 2 1 6 9 7 4 3 4 2 4 8 0 3 1 2 4 7 2 0 8 8 6 1 8 4 5 1 0\n 2 8 4 2 0 1 6 8 8 5 8 3 1 9 0 4 6 2 9 6 7 1 0 4 6 0 8 2 8 9 1 2 3 9 4 7 5\n 7 2 9 4 6 2 8 7 5 8 8 0 3 2 3 1 2 6 8 5 2 8 3 1 3 0 5 3 1 7 2 0 1 0 9 7 9\n 2 3 5 3 0 2 9 1 6 1 9 5 5 5 4 7 7 9 3 6 9 4 6 1 8 5 3 7 0 2 2 6 4 8 7 9 2\n 0 8 4 6 7 3 1 5 4 7 2 4 9 4 2 1 4 7 1 7 2 9 2 6 7 3 7 3 2 9 9 8 8 9 4 1 7\n 9 4 8 9 8 8 0 1 3 0 0 0 9 6 8 4 7 0 7 3 1 8 5 7 0 9 5 0 6 9 4 7 5 6 1 5 3\n 4 6 5 1 6 8 7 0 8 3 6 5 0 3 2 3 5 6 4 5 2 8 6 4 1 8 6 6 2 5 4 8 9 1 7 3 2\n 3 4 7 1 1 4 8 8 6 2 3 6 1 7 8 8 4 0 6 8 5 2 3 2 9 0 5 0 4 7 1 5 0 2 6 0 0\n 3 1 8 6 7 7 6 5 0 1 8 3 8 9 9 5 7 8 3 9 7 3 8 6 5 5 5 2 9 8 0 9 0 4 7 1 8\n 0 4 2 9 1 0 4 6 3 1 6 5 4 5 8 8 2 7 9 6 1 1].\nReshape your data either using array.reshape(-1, 1) if your data has a single feature or array.reshape(1, -1) if it contains a single sample."
     ]
    }
   ],
   "source": [
    "model.predict(y_test)"
   ]
  },
  {
   "cell_type": "code",
   "execution_count": null,
   "metadata": {},
   "outputs": [],
   "source": []
  }
 ],
 "metadata": {
  "kernelspec": {
   "display_name": "Python 3",
   "language": "python",
   "name": "python3"
  },
  "language_info": {
   "codemirror_mode": {
    "name": "ipython",
    "version": 3
   },
   "file_extension": ".py",
   "mimetype": "text/x-python",
   "name": "python",
   "nbconvert_exporter": "python",
   "pygments_lexer": "ipython3",
   "version": "3.7.3"
  }
 },
 "nbformat": 4,
 "nbformat_minor": 2
}
