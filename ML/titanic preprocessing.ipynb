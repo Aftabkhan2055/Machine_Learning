{
 "cells": [
  {
   "cell_type": "code",
   "execution_count": 161,
   "metadata": {},
   "outputs": [],
   "source": [
    "import numpy as np\n",
    "import pandas as pd\n",
    "import matplotlib.pyplot as plt\n",
    "from sklearn.utils import shuffle\n",
    "from sklearn.ensemble import RandomForestClassifier,GradientBoostingClassifier\n",
    "from sklearn.model_selection import train_test_split,cross_val_score,GridSearchCV\n",
    "from sklearn.preprocessing import StandardScaler\n",
    "from sklearn.pipeline import make_pipeline\n",
    "from sklearn.tree import DecisionTreeClassifier,DecisionTreeRegressor"
   ]
  },
  {
   "cell_type": "code",
   "execution_count": 162,
   "metadata": {},
   "outputs": [],
   "source": [
    "train = pd.read_csv('Downloads/titanic/train.csv')\n",
    "\n",
    "test = pd.read_csv('Downloads/titanic/test.csv')"
   ]
  },
  {
   "cell_type": "code",
   "execution_count": 163,
   "metadata": {},
   "outputs": [
    {
     "name": "stdout",
     "output_type": "stream",
     "text": [
      "<class 'pandas.core.frame.DataFrame'>\n",
      "RangeIndex: 891 entries, 0 to 890\n",
      "Data columns (total 12 columns):\n",
      "PassengerId    891 non-null int64\n",
      "Survived       891 non-null int64\n",
      "Pclass         891 non-null int64\n",
      "Name           891 non-null object\n",
      "Sex            891 non-null object\n",
      "Age            714 non-null float64\n",
      "SibSp          891 non-null int64\n",
      "Parch          891 non-null int64\n",
      "Ticket         891 non-null object\n",
      "Fare           891 non-null float64\n",
      "Cabin          204 non-null object\n",
      "Embarked       889 non-null object\n",
      "dtypes: float64(2), int64(5), object(5)\n",
      "memory usage: 83.6+ KB\n"
     ]
    }
   ],
   "source": [
    "train.info()"
   ]
  },
  {
   "cell_type": "code",
   "execution_count": 164,
   "metadata": {},
   "outputs": [
    {
     "name": "stdout",
     "output_type": "stream",
     "text": [
      "<class 'pandas.core.frame.DataFrame'>\n",
      "RangeIndex: 418 entries, 0 to 417\n",
      "Data columns (total 11 columns):\n",
      "PassengerId    418 non-null int64\n",
      "Pclass         418 non-null int64\n",
      "Name           418 non-null object\n",
      "Sex            418 non-null object\n",
      "Age            332 non-null float64\n",
      "SibSp          418 non-null int64\n",
      "Parch          418 non-null int64\n",
      "Ticket         418 non-null object\n",
      "Fare           417 non-null float64\n",
      "Cabin          91 non-null object\n",
      "Embarked       418 non-null object\n",
      "dtypes: float64(2), int64(4), object(5)\n",
      "memory usage: 36.0+ KB\n"
     ]
    }
   ],
   "source": [
    "test.info()"
   ]
  },
  {
   "cell_type": "code",
   "execution_count": 165,
   "metadata": {},
   "outputs": [],
   "source": [
    "train_cat=pd.get_dummies(train,columns=['Pclass','Sex','Embarked'])"
   ]
  },
  {
   "cell_type": "code",
   "execution_count": 166,
   "metadata": {},
   "outputs": [
    {
     "name": "stdout",
     "output_type": "stream",
     "text": [
      "<class 'pandas.core.frame.DataFrame'>\n",
      "RangeIndex: 891 entries, 0 to 890\n",
      "Data columns (total 17 columns):\n",
      "PassengerId    891 non-null int64\n",
      "Survived       891 non-null int64\n",
      "Name           891 non-null object\n",
      "Age            714 non-null float64\n",
      "SibSp          891 non-null int64\n",
      "Parch          891 non-null int64\n",
      "Ticket         891 non-null object\n",
      "Fare           891 non-null float64\n",
      "Cabin          204 non-null object\n",
      "Pclass_1       891 non-null uint8\n",
      "Pclass_2       891 non-null uint8\n",
      "Pclass_3       891 non-null uint8\n",
      "Sex_female     891 non-null uint8\n",
      "Sex_male       891 non-null uint8\n",
      "Embarked_C     891 non-null uint8\n",
      "Embarked_Q     891 non-null uint8\n",
      "Embarked_S     891 non-null uint8\n",
      "dtypes: float64(2), int64(4), object(3), uint8(8)\n",
      "memory usage: 69.7+ KB\n"
     ]
    }
   ],
   "source": [
    "train_cat.info()"
   ]
  },
  {
   "cell_type": "code",
   "execution_count": 167,
   "metadata": {},
   "outputs": [
    {
     "data": {
      "text/html": [
       "<div>\n",
       "<style scoped>\n",
       "    .dataframe tbody tr th:only-of-type {\n",
       "        vertical-align: middle;\n",
       "    }\n",
       "\n",
       "    .dataframe tbody tr th {\n",
       "        vertical-align: top;\n",
       "    }\n",
       "\n",
       "    .dataframe thead th {\n",
       "        text-align: right;\n",
       "    }\n",
       "</style>\n",
       "<table border=\"1\" class=\"dataframe\">\n",
       "  <thead>\n",
       "    <tr style=\"text-align: right;\">\n",
       "      <th></th>\n",
       "      <th>PassengerId</th>\n",
       "      <th>Survived</th>\n",
       "      <th>Pclass</th>\n",
       "      <th>Name</th>\n",
       "      <th>Sex</th>\n",
       "      <th>Age</th>\n",
       "      <th>SibSp</th>\n",
       "      <th>Parch</th>\n",
       "      <th>Ticket</th>\n",
       "      <th>Fare</th>\n",
       "      <th>Cabin</th>\n",
       "      <th>Embarked</th>\n",
       "    </tr>\n",
       "  </thead>\n",
       "  <tbody>\n",
       "    <tr>\n",
       "      <th>0</th>\n",
       "      <td>1</td>\n",
       "      <td>0</td>\n",
       "      <td>3</td>\n",
       "      <td>Braund, Mr. Owen Harris</td>\n",
       "      <td>male</td>\n",
       "      <td>22.0</td>\n",
       "      <td>1</td>\n",
       "      <td>0</td>\n",
       "      <td>A/5 21171</td>\n",
       "      <td>7.2500</td>\n",
       "      <td>NaN</td>\n",
       "      <td>S</td>\n",
       "    </tr>\n",
       "    <tr>\n",
       "      <th>1</th>\n",
       "      <td>2</td>\n",
       "      <td>1</td>\n",
       "      <td>1</td>\n",
       "      <td>Cumings, Mrs. John Bradley (Florence Briggs Th...</td>\n",
       "      <td>female</td>\n",
       "      <td>38.0</td>\n",
       "      <td>1</td>\n",
       "      <td>0</td>\n",
       "      <td>PC 17599</td>\n",
       "      <td>71.2833</td>\n",
       "      <td>C85</td>\n",
       "      <td>C</td>\n",
       "    </tr>\n",
       "    <tr>\n",
       "      <th>2</th>\n",
       "      <td>3</td>\n",
       "      <td>1</td>\n",
       "      <td>3</td>\n",
       "      <td>Heikkinen, Miss. Laina</td>\n",
       "      <td>female</td>\n",
       "      <td>26.0</td>\n",
       "      <td>0</td>\n",
       "      <td>0</td>\n",
       "      <td>STON/O2. 3101282</td>\n",
       "      <td>7.9250</td>\n",
       "      <td>NaN</td>\n",
       "      <td>S</td>\n",
       "    </tr>\n",
       "    <tr>\n",
       "      <th>3</th>\n",
       "      <td>4</td>\n",
       "      <td>1</td>\n",
       "      <td>1</td>\n",
       "      <td>Futrelle, Mrs. Jacques Heath (Lily May Peel)</td>\n",
       "      <td>female</td>\n",
       "      <td>35.0</td>\n",
       "      <td>1</td>\n",
       "      <td>0</td>\n",
       "      <td>113803</td>\n",
       "      <td>53.1000</td>\n",
       "      <td>C123</td>\n",
       "      <td>S</td>\n",
       "    </tr>\n",
       "    <tr>\n",
       "      <th>4</th>\n",
       "      <td>5</td>\n",
       "      <td>0</td>\n",
       "      <td>3</td>\n",
       "      <td>Allen, Mr. William Henry</td>\n",
       "      <td>male</td>\n",
       "      <td>35.0</td>\n",
       "      <td>0</td>\n",
       "      <td>0</td>\n",
       "      <td>373450</td>\n",
       "      <td>8.0500</td>\n",
       "      <td>NaN</td>\n",
       "      <td>S</td>\n",
       "    </tr>\n",
       "  </tbody>\n",
       "</table>\n",
       "</div>"
      ],
      "text/plain": [
       "   PassengerId  Survived  Pclass  \\\n",
       "0            1         0       3   \n",
       "1            2         1       1   \n",
       "2            3         1       3   \n",
       "3            4         1       1   \n",
       "4            5         0       3   \n",
       "\n",
       "                                                Name     Sex   Age  SibSp  \\\n",
       "0                            Braund, Mr. Owen Harris    male  22.0      1   \n",
       "1  Cumings, Mrs. John Bradley (Florence Briggs Th...  female  38.0      1   \n",
       "2                             Heikkinen, Miss. Laina  female  26.0      0   \n",
       "3       Futrelle, Mrs. Jacques Heath (Lily May Peel)  female  35.0      1   \n",
       "4                           Allen, Mr. William Henry    male  35.0      0   \n",
       "\n",
       "   Parch            Ticket     Fare Cabin Embarked  \n",
       "0      0         A/5 21171   7.2500   NaN        S  \n",
       "1      0          PC 17599  71.2833   C85        C  \n",
       "2      0  STON/O2. 3101282   7.9250   NaN        S  \n",
       "3      0            113803  53.1000  C123        S  \n",
       "4      0            373450   8.0500   NaN        S  "
      ]
     },
     "execution_count": 167,
     "metadata": {},
     "output_type": "execute_result"
    }
   ],
   "source": [
    "train.head()"
   ]
  },
  {
   "cell_type": "code",
   "execution_count": 168,
   "metadata": {},
   "outputs": [
    {
     "data": {
      "text/html": [
       "<div>\n",
       "<style scoped>\n",
       "    .dataframe tbody tr th:only-of-type {\n",
       "        vertical-align: middle;\n",
       "    }\n",
       "\n",
       "    .dataframe tbody tr th {\n",
       "        vertical-align: top;\n",
       "    }\n",
       "\n",
       "    .dataframe thead th {\n",
       "        text-align: right;\n",
       "    }\n",
       "</style>\n",
       "<table border=\"1\" class=\"dataframe\">\n",
       "  <thead>\n",
       "    <tr style=\"text-align: right;\">\n",
       "      <th></th>\n",
       "      <th>PassengerId</th>\n",
       "      <th>Pclass</th>\n",
       "      <th>Name</th>\n",
       "      <th>Sex</th>\n",
       "      <th>Age</th>\n",
       "      <th>SibSp</th>\n",
       "      <th>Parch</th>\n",
       "      <th>Ticket</th>\n",
       "      <th>Fare</th>\n",
       "      <th>Cabin</th>\n",
       "      <th>Embarked</th>\n",
       "    </tr>\n",
       "  </thead>\n",
       "  <tbody>\n",
       "    <tr>\n",
       "      <th>0</th>\n",
       "      <td>892</td>\n",
       "      <td>3</td>\n",
       "      <td>Kelly, Mr. James</td>\n",
       "      <td>male</td>\n",
       "      <td>34.5</td>\n",
       "      <td>0</td>\n",
       "      <td>0</td>\n",
       "      <td>330911</td>\n",
       "      <td>7.8292</td>\n",
       "      <td>NaN</td>\n",
       "      <td>Q</td>\n",
       "    </tr>\n",
       "    <tr>\n",
       "      <th>1</th>\n",
       "      <td>893</td>\n",
       "      <td>3</td>\n",
       "      <td>Wilkes, Mrs. James (Ellen Needs)</td>\n",
       "      <td>female</td>\n",
       "      <td>47.0</td>\n",
       "      <td>1</td>\n",
       "      <td>0</td>\n",
       "      <td>363272</td>\n",
       "      <td>7.0000</td>\n",
       "      <td>NaN</td>\n",
       "      <td>S</td>\n",
       "    </tr>\n",
       "    <tr>\n",
       "      <th>2</th>\n",
       "      <td>894</td>\n",
       "      <td>2</td>\n",
       "      <td>Myles, Mr. Thomas Francis</td>\n",
       "      <td>male</td>\n",
       "      <td>62.0</td>\n",
       "      <td>0</td>\n",
       "      <td>0</td>\n",
       "      <td>240276</td>\n",
       "      <td>9.6875</td>\n",
       "      <td>NaN</td>\n",
       "      <td>Q</td>\n",
       "    </tr>\n",
       "    <tr>\n",
       "      <th>3</th>\n",
       "      <td>895</td>\n",
       "      <td>3</td>\n",
       "      <td>Wirz, Mr. Albert</td>\n",
       "      <td>male</td>\n",
       "      <td>27.0</td>\n",
       "      <td>0</td>\n",
       "      <td>0</td>\n",
       "      <td>315154</td>\n",
       "      <td>8.6625</td>\n",
       "      <td>NaN</td>\n",
       "      <td>S</td>\n",
       "    </tr>\n",
       "    <tr>\n",
       "      <th>4</th>\n",
       "      <td>896</td>\n",
       "      <td>3</td>\n",
       "      <td>Hirvonen, Mrs. Alexander (Helga E Lindqvist)</td>\n",
       "      <td>female</td>\n",
       "      <td>22.0</td>\n",
       "      <td>1</td>\n",
       "      <td>1</td>\n",
       "      <td>3101298</td>\n",
       "      <td>12.2875</td>\n",
       "      <td>NaN</td>\n",
       "      <td>S</td>\n",
       "    </tr>\n",
       "  </tbody>\n",
       "</table>\n",
       "</div>"
      ],
      "text/plain": [
       "   PassengerId  Pclass                                          Name     Sex  \\\n",
       "0          892       3                              Kelly, Mr. James    male   \n",
       "1          893       3              Wilkes, Mrs. James (Ellen Needs)  female   \n",
       "2          894       2                     Myles, Mr. Thomas Francis    male   \n",
       "3          895       3                              Wirz, Mr. Albert    male   \n",
       "4          896       3  Hirvonen, Mrs. Alexander (Helga E Lindqvist)  female   \n",
       "\n",
       "    Age  SibSp  Parch   Ticket     Fare Cabin Embarked  \n",
       "0  34.5      0      0   330911   7.8292   NaN        Q  \n",
       "1  47.0      1      0   363272   7.0000   NaN        S  \n",
       "2  62.0      0      0   240276   9.6875   NaN        Q  \n",
       "3  27.0      0      0   315154   8.6625   NaN        S  \n",
       "4  22.0      1      1  3101298  12.2875   NaN        S  "
      ]
     },
     "execution_count": 168,
     "metadata": {},
     "output_type": "execute_result"
    }
   ],
   "source": [
    "test.head()"
   ]
  },
  {
   "cell_type": "code",
   "execution_count": 169,
   "metadata": {},
   "outputs": [],
   "source": [
    "test_cat=pd.get_dummies(test,columns=['Pclass','Sex','Embarked'])"
   ]
  },
  {
   "cell_type": "code",
   "execution_count": 170,
   "metadata": {},
   "outputs": [
    {
     "ename": "SyntaxError",
     "evalue": "invalid syntax (<ipython-input-170-a4bf76322ecf>, line 1)",
     "output_type": "error",
     "traceback": [
      "\u001b[1;36m  File \u001b[1;32m\"<ipython-input-170-a4bf76322ecf>\"\u001b[1;36m, line \u001b[1;32m1\u001b[0m\n\u001b[1;33m    pd.getDummies any other problems??\u001b[0m\n\u001b[1;37m                    ^\u001b[0m\n\u001b[1;31mSyntaxError\u001b[0m\u001b[1;31m:\u001b[0m invalid syntax\n"
     ]
    }
   ],
   "source": [
    "pd.getDummies any other problems?? \n",
    "\n",
    "train - 20 values\n",
    "test - 20 values\n",
    "\n",
    "train - 5 values which test doesnt have  - solution , create same columns in test with values being 0 \n",
    "test - 5 values which train doesnt have  - dont use these extra columns\n",
    "\n",
    "# if test has 1 in one of the extra columns, which we are not using. What will happen.\n",
    "\n",
    "A B C\n",
    "1 0 0 \n",
    "\n",
    "A B C D\n",
    "0 0 0 1\n",
    "\n",
    "\n",
    "# if test has extra columns dont drop any columns"
   ]
  },
  {
   "cell_type": "code",
   "execution_count": 171,
   "metadata": {},
   "outputs": [
    {
     "name": "stdout",
     "output_type": "stream",
     "text": [
      "<class 'pandas.core.frame.DataFrame'>\n",
      "RangeIndex: 418 entries, 0 to 417\n",
      "Data columns (total 16 columns):\n",
      "PassengerId    418 non-null int64\n",
      "Name           418 non-null object\n",
      "Age            332 non-null float64\n",
      "SibSp          418 non-null int64\n",
      "Parch          418 non-null int64\n",
      "Ticket         418 non-null object\n",
      "Fare           417 non-null float64\n",
      "Cabin          91 non-null object\n",
      "Pclass_1       418 non-null uint8\n",
      "Pclass_2       418 non-null uint8\n",
      "Pclass_3       418 non-null uint8\n",
      "Sex_female     418 non-null uint8\n",
      "Sex_male       418 non-null uint8\n",
      "Embarked_C     418 non-null uint8\n",
      "Embarked_Q     418 non-null uint8\n",
      "Embarked_S     418 non-null uint8\n",
      "dtypes: float64(2), int64(3), object(3), uint8(8)\n",
      "memory usage: 29.5+ KB\n"
     ]
    }
   ],
   "source": [
    "test_cat.info()"
   ]
  },
  {
   "cell_type": "code",
   "execution_count": 172,
   "metadata": {},
   "outputs": [
    {
     "data": {
      "text/plain": [
       "0                                Braund, Mr. Owen Harris\n",
       "1      Cumings, Mrs. John Bradley (Florence Briggs Th...\n",
       "2                                 Heikkinen, Miss. Laina\n",
       "3           Futrelle, Mrs. Jacques Heath (Lily May Peel)\n",
       "4                               Allen, Mr. William Henry\n",
       "5                                       Moran, Mr. James\n",
       "6                                McCarthy, Mr. Timothy J\n",
       "7                         Palsson, Master. Gosta Leonard\n",
       "8      Johnson, Mrs. Oscar W (Elisabeth Vilhelmina Berg)\n",
       "9                    Nasser, Mrs. Nicholas (Adele Achem)\n",
       "10                       Sandstrom, Miss. Marguerite Rut\n",
       "11                              Bonnell, Miss. Elizabeth\n",
       "12                        Saundercock, Mr. William Henry\n",
       "13                           Andersson, Mr. Anders Johan\n",
       "14                  Vestrom, Miss. Hulda Amanda Adolfina\n",
       "15                      Hewlett, Mrs. (Mary D Kingcome) \n",
       "16                                  Rice, Master. Eugene\n",
       "17                          Williams, Mr. Charles Eugene\n",
       "18     Vander Planke, Mrs. Julius (Emelia Maria Vande...\n",
       "19                               Masselmani, Mrs. Fatima\n",
       "20                                  Fynney, Mr. Joseph J\n",
       "21                                 Beesley, Mr. Lawrence\n",
       "22                           McGowan, Miss. Anna \"Annie\"\n",
       "23                          Sloper, Mr. William Thompson\n",
       "24                         Palsson, Miss. Torborg Danira\n",
       "25     Asplund, Mrs. Carl Oscar (Selma Augusta Emilia...\n",
       "26                               Emir, Mr. Farred Chehab\n",
       "27                        Fortune, Mr. Charles Alexander\n",
       "28                         O'Dwyer, Miss. Ellen \"Nellie\"\n",
       "29                                   Todoroff, Mr. Lalio\n",
       "                             ...                        \n",
       "861                          Giles, Mr. Frederick Edward\n",
       "862    Swift, Mrs. Frederick Joel (Margaret Welles Ba...\n",
       "863                    Sage, Miss. Dorothy Edith \"Dolly\"\n",
       "864                               Gill, Mr. John William\n",
       "865                             Bystrom, Mrs. (Karolina)\n",
       "866                         Duran y More, Miss. Asuncion\n",
       "867                 Roebling, Mr. Washington Augustus II\n",
       "868                          van Melkebeke, Mr. Philemon\n",
       "869                      Johnson, Master. Harold Theodor\n",
       "870                                    Balkic, Mr. Cerin\n",
       "871     Beckwith, Mrs. Richard Leonard (Sallie Monypeny)\n",
       "872                             Carlsson, Mr. Frans Olof\n",
       "873                          Vander Cruyssen, Mr. Victor\n",
       "874                Abelson, Mrs. Samuel (Hannah Wizosky)\n",
       "875                     Najib, Miss. Adele Kiamie \"Jane\"\n",
       "876                        Gustafsson, Mr. Alfred Ossian\n",
       "877                                 Petroff, Mr. Nedelio\n",
       "878                                   Laleff, Mr. Kristo\n",
       "879        Potter, Mrs. Thomas Jr (Lily Alexenia Wilson)\n",
       "880         Shelley, Mrs. William (Imanita Parrish Hall)\n",
       "881                                   Markun, Mr. Johann\n",
       "882                         Dahlberg, Miss. Gerda Ulrika\n",
       "883                        Banfield, Mr. Frederick James\n",
       "884                               Sutehall, Mr. Henry Jr\n",
       "885                 Rice, Mrs. William (Margaret Norton)\n",
       "886                                Montvila, Rev. Juozas\n",
       "887                         Graham, Miss. Margaret Edith\n",
       "888             Johnston, Miss. Catherine Helen \"Carrie\"\n",
       "889                                Behr, Mr. Karl Howell\n",
       "890                                  Dooley, Mr. Patrick\n",
       "Name: Name, Length: 891, dtype: object"
      ]
     },
     "execution_count": 172,
     "metadata": {},
     "output_type": "execute_result"
    }
   ],
   "source": [
    "train_cat['Name']"
   ]
  },
  {
   "cell_type": "code",
   "execution_count": 173,
   "metadata": {},
   "outputs": [
    {
     "data": {
      "text/plain": [
       "['Sutehall', ' Mr. Henry Jr']"
      ]
     },
     "execution_count": 173,
     "metadata": {},
     "output_type": "execute_result"
    }
   ],
   "source": [
    "name = \"Sutehall, Mr. Henry Jr\"\n",
    "name.split(',')"
   ]
  },
  {
   "cell_type": "code",
   "execution_count": 174,
   "metadata": {},
   "outputs": [
    {
     "data": {
      "text/plain": [
       "'Mr'"
      ]
     },
     "execution_count": 174,
     "metadata": {},
     "output_type": "execute_result"
    }
   ],
   "source": [
    "name.split(',')[1].split('.')[0].strip()"
   ]
  },
  {
   "cell_type": "code",
   "execution_count": 175,
   "metadata": {},
   "outputs": [
    {
     "data": {
      "text/plain": [
       "'Miss'"
      ]
     },
     "execution_count": 175,
     "metadata": {},
     "output_type": "execute_result"
    }
   ],
   "source": [
    "' Dahlberg, Miss. Gerda Ulrika'.split(',')[1].split('.')[0].strip()"
   ]
  },
  {
   "cell_type": "code",
   "execution_count": 176,
   "metadata": {},
   "outputs": [
    {
     "data": {
      "text/plain": [
       "'Mrs'"
      ]
     },
     "execution_count": 176,
     "metadata": {},
     "output_type": "execute_result"
    }
   ],
   "source": [
    "'Rice, Mrs. William (Margaret Norton)'.split(',')[1].split('.')[0].strip()"
   ]
  },
  {
   "cell_type": "code",
   "execution_count": 177,
   "metadata": {},
   "outputs": [],
   "source": [
    "getTitle = lambda x: x.split(',')[1].split('.')[0].strip()"
   ]
  },
  {
   "cell_type": "code",
   "execution_count": 178,
   "metadata": {},
   "outputs": [
    {
     "data": {
      "text/plain": [
       "'Miss'"
      ]
     },
     "execution_count": 178,
     "metadata": {},
     "output_type": "execute_result"
    }
   ],
   "source": [
    "getTitle(' Sage, Miss. Dorothy Edith \"Dolly\"')"
   ]
  },
  {
   "cell_type": "code",
   "execution_count": 179,
   "metadata": {},
   "outputs": [],
   "source": [
    "train_cat['Title']= train_cat['Name'].apply(getTitle)"
   ]
  },
  {
   "cell_type": "code",
   "execution_count": 180,
   "metadata": {},
   "outputs": [],
   "source": [
    "test_cat['Title']= test_cat['Name'].apply(getTitle)"
   ]
  },
  {
   "cell_type": "code",
   "execution_count": 181,
   "metadata": {},
   "outputs": [
    {
     "name": "stdout",
     "output_type": "stream",
     "text": [
      "<class 'pandas.core.frame.DataFrame'>\n",
      "RangeIndex: 891 entries, 0 to 890\n",
      "Data columns (total 18 columns):\n",
      "PassengerId    891 non-null int64\n",
      "Survived       891 non-null int64\n",
      "Name           891 non-null object\n",
      "Age            714 non-null float64\n",
      "SibSp          891 non-null int64\n",
      "Parch          891 non-null int64\n",
      "Ticket         891 non-null object\n",
      "Fare           891 non-null float64\n",
      "Cabin          204 non-null object\n",
      "Pclass_1       891 non-null uint8\n",
      "Pclass_2       891 non-null uint8\n",
      "Pclass_3       891 non-null uint8\n",
      "Sex_female     891 non-null uint8\n",
      "Sex_male       891 non-null uint8\n",
      "Embarked_C     891 non-null uint8\n",
      "Embarked_Q     891 non-null uint8\n",
      "Embarked_S     891 non-null uint8\n",
      "Title          891 non-null object\n",
      "dtypes: float64(2), int64(4), object(4), uint8(8)\n",
      "memory usage: 76.6+ KB\n"
     ]
    }
   ],
   "source": [
    "train_cat.info()"
   ]
  },
  {
   "cell_type": "code",
   "execution_count": 182,
   "metadata": {},
   "outputs": [
    {
     "name": "stdout",
     "output_type": "stream",
     "text": [
      "<class 'pandas.core.frame.DataFrame'>\n",
      "RangeIndex: 418 entries, 0 to 417\n",
      "Data columns (total 17 columns):\n",
      "PassengerId    418 non-null int64\n",
      "Name           418 non-null object\n",
      "Age            332 non-null float64\n",
      "SibSp          418 non-null int64\n",
      "Parch          418 non-null int64\n",
      "Ticket         418 non-null object\n",
      "Fare           417 non-null float64\n",
      "Cabin          91 non-null object\n",
      "Pclass_1       418 non-null uint8\n",
      "Pclass_2       418 non-null uint8\n",
      "Pclass_3       418 non-null uint8\n",
      "Sex_female     418 non-null uint8\n",
      "Sex_male       418 non-null uint8\n",
      "Embarked_C     418 non-null uint8\n",
      "Embarked_Q     418 non-null uint8\n",
      "Embarked_S     418 non-null uint8\n",
      "Title          418 non-null object\n",
      "dtypes: float64(2), int64(3), object(4), uint8(8)\n",
      "memory usage: 32.7+ KB\n"
     ]
    }
   ],
   "source": [
    "test_cat.info()"
   ]
  },
  {
   "cell_type": "code",
   "execution_count": 183,
   "metadata": {},
   "outputs": [],
   "source": [
    "title_train_set = set(train_cat['Title'].values)"
   ]
  },
  {
   "cell_type": "code",
   "execution_count": 184,
   "metadata": {},
   "outputs": [],
   "source": [
    "title_test_set = set(test_cat['Title'].values)"
   ]
  },
  {
   "cell_type": "code",
   "execution_count": 185,
   "metadata": {},
   "outputs": [
    {
     "data": {
      "text/plain": [
       "17"
      ]
     },
     "execution_count": 185,
     "metadata": {},
     "output_type": "execute_result"
    }
   ],
   "source": [
    "len(title_train_set)"
   ]
  },
  {
   "cell_type": "code",
   "execution_count": 186,
   "metadata": {},
   "outputs": [
    {
     "data": {
      "text/plain": [
       "9"
      ]
     },
     "execution_count": 186,
     "metadata": {},
     "output_type": "execute_result"
    }
   ],
   "source": [
    "len(title_test_set)"
   ]
  },
  {
   "cell_type": "code",
   "execution_count": 187,
   "metadata": {},
   "outputs": [
    {
     "data": {
      "text/plain": [
       "{'Dona'}"
      ]
     },
     "execution_count": 187,
     "metadata": {},
     "output_type": "execute_result"
    }
   ],
   "source": [
    "title_test_set - title_train_set"
   ]
  },
  {
   "cell_type": "code",
   "execution_count": 188,
   "metadata": {},
   "outputs": [
    {
     "data": {
      "text/plain": [
       "{'Capt',\n",
       " 'Don',\n",
       " 'Jonkheer',\n",
       " 'Lady',\n",
       " 'Major',\n",
       " 'Mlle',\n",
       " 'Mme',\n",
       " 'Sir',\n",
       " 'the Countess'}"
      ]
     },
     "execution_count": 188,
     "metadata": {},
     "output_type": "execute_result"
    }
   ],
   "source": [
    "title_train_set-title_test_set"
   ]
  },
  {
   "cell_type": "code",
   "execution_count": 189,
   "metadata": {},
   "outputs": [],
   "source": [
    "train_cat = pd.get_dummies(train_cat,columns=['Title'])"
   ]
  },
  {
   "cell_type": "code",
   "execution_count": 190,
   "metadata": {},
   "outputs": [],
   "source": [
    "test_cat = pd.get_dummies(test_cat,columns=['Title'])"
   ]
  },
  {
   "cell_type": "code",
   "execution_count": 191,
   "metadata": {},
   "outputs": [
    {
     "name": "stdout",
     "output_type": "stream",
     "text": [
      "<class 'pandas.core.frame.DataFrame'>\n",
      "RangeIndex: 891 entries, 0 to 890\n",
      "Data columns (total 34 columns):\n",
      "PassengerId           891 non-null int64\n",
      "Survived              891 non-null int64\n",
      "Name                  891 non-null object\n",
      "Age                   714 non-null float64\n",
      "SibSp                 891 non-null int64\n",
      "Parch                 891 non-null int64\n",
      "Ticket                891 non-null object\n",
      "Fare                  891 non-null float64\n",
      "Cabin                 204 non-null object\n",
      "Pclass_1              891 non-null uint8\n",
      "Pclass_2              891 non-null uint8\n",
      "Pclass_3              891 non-null uint8\n",
      "Sex_female            891 non-null uint8\n",
      "Sex_male              891 non-null uint8\n",
      "Embarked_C            891 non-null uint8\n",
      "Embarked_Q            891 non-null uint8\n",
      "Embarked_S            891 non-null uint8\n",
      "Title_Capt            891 non-null uint8\n",
      "Title_Col             891 non-null uint8\n",
      "Title_Don             891 non-null uint8\n",
      "Title_Dr              891 non-null uint8\n",
      "Title_Jonkheer        891 non-null uint8\n",
      "Title_Lady            891 non-null uint8\n",
      "Title_Major           891 non-null uint8\n",
      "Title_Master          891 non-null uint8\n",
      "Title_Miss            891 non-null uint8\n",
      "Title_Mlle            891 non-null uint8\n",
      "Title_Mme             891 non-null uint8\n",
      "Title_Mr              891 non-null uint8\n",
      "Title_Mrs             891 non-null uint8\n",
      "Title_Ms              891 non-null uint8\n",
      "Title_Rev             891 non-null uint8\n",
      "Title_Sir             891 non-null uint8\n",
      "Title_the Countess    891 non-null uint8\n",
      "dtypes: float64(2), int64(4), object(3), uint8(25)\n",
      "memory usage: 84.5+ KB\n"
     ]
    }
   ],
   "source": [
    "train_cat.info()"
   ]
  },
  {
   "cell_type": "code",
   "execution_count": 192,
   "metadata": {},
   "outputs": [
    {
     "name": "stdout",
     "output_type": "stream",
     "text": [
      "<class 'pandas.core.frame.DataFrame'>\n",
      "RangeIndex: 418 entries, 0 to 417\n",
      "Data columns (total 25 columns):\n",
      "PassengerId     418 non-null int64\n",
      "Name            418 non-null object\n",
      "Age             332 non-null float64\n",
      "SibSp           418 non-null int64\n",
      "Parch           418 non-null int64\n",
      "Ticket          418 non-null object\n",
      "Fare            417 non-null float64\n",
      "Cabin           91 non-null object\n",
      "Pclass_1        418 non-null uint8\n",
      "Pclass_2        418 non-null uint8\n",
      "Pclass_3        418 non-null uint8\n",
      "Sex_female      418 non-null uint8\n",
      "Sex_male        418 non-null uint8\n",
      "Embarked_C      418 non-null uint8\n",
      "Embarked_Q      418 non-null uint8\n",
      "Embarked_S      418 non-null uint8\n",
      "Title_Col       418 non-null uint8\n",
      "Title_Dona      418 non-null uint8\n",
      "Title_Dr        418 non-null uint8\n",
      "Title_Master    418 non-null uint8\n",
      "Title_Miss      418 non-null uint8\n",
      "Title_Mr        418 non-null uint8\n",
      "Title_Mrs       418 non-null uint8\n",
      "Title_Ms        418 non-null uint8\n",
      "Title_Rev       418 non-null uint8\n",
      "dtypes: float64(2), int64(3), object(3), uint8(17)\n",
      "memory usage: 33.1+ KB\n"
     ]
    }
   ],
   "source": [
    "test_cat.info()"
   ]
  },
  {
   "cell_type": "code",
   "execution_count": 193,
   "metadata": {},
   "outputs": [],
   "source": [
    "for value in title_train_set-title_test_set:\n",
    "    test_cat['Title_'+value] = 0"
   ]
  },
  {
   "cell_type": "code",
   "execution_count": 194,
   "metadata": {},
   "outputs": [
    {
     "name": "stdout",
     "output_type": "stream",
     "text": [
      "<class 'pandas.core.frame.DataFrame'>\n",
      "RangeIndex: 891 entries, 0 to 890\n",
      "Data columns (total 34 columns):\n",
      "PassengerId           891 non-null int64\n",
      "Survived              891 non-null int64\n",
      "Name                  891 non-null object\n",
      "Age                   714 non-null float64\n",
      "SibSp                 891 non-null int64\n",
      "Parch                 891 non-null int64\n",
      "Ticket                891 non-null object\n",
      "Fare                  891 non-null float64\n",
      "Cabin                 204 non-null object\n",
      "Pclass_1              891 non-null uint8\n",
      "Pclass_2              891 non-null uint8\n",
      "Pclass_3              891 non-null uint8\n",
      "Sex_female            891 non-null uint8\n",
      "Sex_male              891 non-null uint8\n",
      "Embarked_C            891 non-null uint8\n",
      "Embarked_Q            891 non-null uint8\n",
      "Embarked_S            891 non-null uint8\n",
      "Title_Capt            891 non-null uint8\n",
      "Title_Col             891 non-null uint8\n",
      "Title_Don             891 non-null uint8\n",
      "Title_Dr              891 non-null uint8\n",
      "Title_Jonkheer        891 non-null uint8\n",
      "Title_Lady            891 non-null uint8\n",
      "Title_Major           891 non-null uint8\n",
      "Title_Master          891 non-null uint8\n",
      "Title_Miss            891 non-null uint8\n",
      "Title_Mlle            891 non-null uint8\n",
      "Title_Mme             891 non-null uint8\n",
      "Title_Mr              891 non-null uint8\n",
      "Title_Mrs             891 non-null uint8\n",
      "Title_Ms              891 non-null uint8\n",
      "Title_Rev             891 non-null uint8\n",
      "Title_Sir             891 non-null uint8\n",
      "Title_the Countess    891 non-null uint8\n",
      "dtypes: float64(2), int64(4), object(3), uint8(25)\n",
      "memory usage: 84.5+ KB\n"
     ]
    }
   ],
   "source": [
    "train_cat.info()"
   ]
  },
  {
   "cell_type": "code",
   "execution_count": 195,
   "metadata": {},
   "outputs": [
    {
     "name": "stdout",
     "output_type": "stream",
     "text": [
      "<class 'pandas.core.frame.DataFrame'>\n",
      "RangeIndex: 418 entries, 0 to 417\n",
      "Data columns (total 34 columns):\n",
      "PassengerId           418 non-null int64\n",
      "Name                  418 non-null object\n",
      "Age                   332 non-null float64\n",
      "SibSp                 418 non-null int64\n",
      "Parch                 418 non-null int64\n",
      "Ticket                418 non-null object\n",
      "Fare                  417 non-null float64\n",
      "Cabin                 91 non-null object\n",
      "Pclass_1              418 non-null uint8\n",
      "Pclass_2              418 non-null uint8\n",
      "Pclass_3              418 non-null uint8\n",
      "Sex_female            418 non-null uint8\n",
      "Sex_male              418 non-null uint8\n",
      "Embarked_C            418 non-null uint8\n",
      "Embarked_Q            418 non-null uint8\n",
      "Embarked_S            418 non-null uint8\n",
      "Title_Col             418 non-null uint8\n",
      "Title_Dona            418 non-null uint8\n",
      "Title_Dr              418 non-null uint8\n",
      "Title_Master          418 non-null uint8\n",
      "Title_Miss            418 non-null uint8\n",
      "Title_Mr              418 non-null uint8\n",
      "Title_Mrs             418 non-null uint8\n",
      "Title_Ms              418 non-null uint8\n",
      "Title_Rev             418 non-null uint8\n",
      "Title_Sir             418 non-null int64\n",
      "Title_Don             418 non-null int64\n",
      "Title_Major           418 non-null int64\n",
      "Title_Jonkheer        418 non-null int64\n",
      "Title_Mme             418 non-null int64\n",
      "Title_Capt            418 non-null int64\n",
      "Title_Lady            418 non-null int64\n",
      "Title_the Countess    418 non-null int64\n",
      "Title_Mlle            418 non-null int64\n",
      "dtypes: float64(2), int64(12), object(3), uint8(17)\n",
      "memory usage: 62.5+ KB\n"
     ]
    }
   ],
   "source": [
    "test_cat.info()"
   ]
  },
  {
   "cell_type": "code",
   "execution_count": 196,
   "metadata": {},
   "outputs": [],
   "source": [
    "value = (train_cat['Age'][5])"
   ]
  },
  {
   "cell_type": "code",
   "execution_count": 197,
   "metadata": {},
   "outputs": [
    {
     "data": {
      "text/plain": [
       "False"
      ]
     },
     "execution_count": 197,
     "metadata": {},
     "output_type": "execute_result"
    }
   ],
   "source": [
    "value == np.NAN"
   ]
  },
  {
   "cell_type": "code",
   "execution_count": 198,
   "metadata": {},
   "outputs": [
    {
     "data": {
      "text/plain": [
       "False"
      ]
     },
     "execution_count": 198,
     "metadata": {},
     "output_type": "execute_result"
    }
   ],
   "source": [
    "value == np.NaN"
   ]
  },
  {
   "cell_type": "code",
   "execution_count": 199,
   "metadata": {},
   "outputs": [
    {
     "data": {
      "text/plain": [
       "True"
      ]
     },
     "execution_count": 199,
     "metadata": {},
     "output_type": "execute_result"
    }
   ],
   "source": [
    "np.isnan(value)"
   ]
  },
  {
   "cell_type": "code",
   "execution_count": 200,
   "metadata": {},
   "outputs": [],
   "source": [
    "for df in [train_cat,test_cat]:\n",
    "    df['Age_missing']=df['Age'].apply(lambda x: 1 if np.isnan(x) else 0)"
   ]
  },
  {
   "cell_type": "code",
   "execution_count": 201,
   "metadata": {},
   "outputs": [
    {
     "name": "stdout",
     "output_type": "stream",
     "text": [
      "<class 'pandas.core.frame.DataFrame'>\n",
      "RangeIndex: 891 entries, 0 to 890\n",
      "Data columns (total 35 columns):\n",
      "PassengerId           891 non-null int64\n",
      "Survived              891 non-null int64\n",
      "Name                  891 non-null object\n",
      "Age                   714 non-null float64\n",
      "SibSp                 891 non-null int64\n",
      "Parch                 891 non-null int64\n",
      "Ticket                891 non-null object\n",
      "Fare                  891 non-null float64\n",
      "Cabin                 204 non-null object\n",
      "Pclass_1              891 non-null uint8\n",
      "Pclass_2              891 non-null uint8\n",
      "Pclass_3              891 non-null uint8\n",
      "Sex_female            891 non-null uint8\n",
      "Sex_male              891 non-null uint8\n",
      "Embarked_C            891 non-null uint8\n",
      "Embarked_Q            891 non-null uint8\n",
      "Embarked_S            891 non-null uint8\n",
      "Title_Capt            891 non-null uint8\n",
      "Title_Col             891 non-null uint8\n",
      "Title_Don             891 non-null uint8\n",
      "Title_Dr              891 non-null uint8\n",
      "Title_Jonkheer        891 non-null uint8\n",
      "Title_Lady            891 non-null uint8\n",
      "Title_Major           891 non-null uint8\n",
      "Title_Master          891 non-null uint8\n",
      "Title_Miss            891 non-null uint8\n",
      "Title_Mlle            891 non-null uint8\n",
      "Title_Mme             891 non-null uint8\n",
      "Title_Mr              891 non-null uint8\n",
      "Title_Mrs             891 non-null uint8\n",
      "Title_Ms              891 non-null uint8\n",
      "Title_Rev             891 non-null uint8\n",
      "Title_Sir             891 non-null uint8\n",
      "Title_the Countess    891 non-null uint8\n",
      "Age_missing           891 non-null int64\n",
      "dtypes: float64(2), int64(5), object(3), uint8(25)\n",
      "memory usage: 91.4+ KB\n"
     ]
    }
   ],
   "source": [
    "train_cat.info()"
   ]
  },
  {
   "cell_type": "code",
   "execution_count": 202,
   "metadata": {},
   "outputs": [],
   "source": [
    "age_train_columns  = ['SibSp', 'Parch', \n",
    "       'Fare',  'Pclass_1', 'Pclass_2', 'Pclass_3', 'Embarked_C',\n",
    "       'Embarked_Q', 'Embarked_S', 'Sex_female', 'Sex_male', 'Title_Capt',\n",
    "       'Title_Col', 'Title_Don', 'Title_Dr', 'Title_Jonkheer', 'Title_Lady',\n",
    "       'Title_Major', 'Title_Master', 'Title_Miss', 'Title_Mlle', 'Title_Mme',\n",
    "       'Title_Mr', 'Title_Mrs', 'Title_Ms', 'Title_Rev', 'Title_Sir',\n",
    "       'Title_the Countess']"
   ]
  },
  {
   "cell_type": "code",
   "execution_count": 203,
   "metadata": {},
   "outputs": [],
   "source": [
    "age_column = ['Age']\n",
    "\n",
    "train_rows_Age = train_cat[np.isnan(train_cat['Age'])==False]\n",
    "prediction_rows = train_cat[np.isnan(train_cat['Age'])==True]"
   ]
  },
  {
   "cell_type": "code",
   "execution_count": 242,
   "metadata": {},
   "outputs": [
    {
     "name": "stdout",
     "output_type": "stream",
     "text": [
      "<class 'pandas.core.frame.DataFrame'>\n",
      "Int64Index: 714 entries, 0 to 890\n",
      "Data columns (total 35 columns):\n",
      "PassengerId           714 non-null int64\n",
      "Survived              714 non-null int64\n",
      "Name                  714 non-null object\n",
      "Age                   714 non-null float64\n",
      "SibSp                 714 non-null int64\n",
      "Parch                 714 non-null int64\n",
      "Ticket                714 non-null object\n",
      "Fare                  714 non-null float64\n",
      "Cabin                 185 non-null object\n",
      "Pclass_1              714 non-null uint8\n",
      "Pclass_2              714 non-null uint8\n",
      "Pclass_3              714 non-null uint8\n",
      "Sex_female            714 non-null uint8\n",
      "Sex_male              714 non-null uint8\n",
      "Embarked_C            714 non-null uint8\n",
      "Embarked_Q            714 non-null uint8\n",
      "Embarked_S            714 non-null uint8\n",
      "Title_Capt            714 non-null uint8\n",
      "Title_Col             714 non-null uint8\n",
      "Title_Don             714 non-null uint8\n",
      "Title_Dr              714 non-null uint8\n",
      "Title_Jonkheer        714 non-null uint8\n",
      "Title_Lady            714 non-null uint8\n",
      "Title_Major           714 non-null uint8\n",
      "Title_Master          714 non-null uint8\n",
      "Title_Miss            714 non-null uint8\n",
      "Title_Mlle            714 non-null uint8\n",
      "Title_Mme             714 non-null uint8\n",
      "Title_Mr              714 non-null uint8\n",
      "Title_Mrs             714 non-null uint8\n",
      "Title_Ms              714 non-null uint8\n",
      "Title_Rev             714 non-null uint8\n",
      "Title_Sir             714 non-null uint8\n",
      "Title_the Countess    714 non-null uint8\n",
      "Age_missing           714 non-null int64\n",
      "dtypes: float64(2), int64(5), object(3), uint8(25)\n",
      "memory usage: 98.8+ KB\n"
     ]
    }
   ],
   "source": [
    "train_rows_Age.info()"
   ]
  },
  {
   "cell_type": "code",
   "execution_count": null,
   "metadata": {},
   "outputs": [],
   "source": []
  },
  {
   "cell_type": "code",
   "execution_count": 205,
   "metadata": {},
   "outputs": [
    {
     "name": "stdout",
     "output_type": "stream",
     "text": [
      "<class 'pandas.core.frame.DataFrame'>\n",
      "Int64Index: 177 entries, 5 to 888\n",
      "Data columns (total 35 columns):\n",
      "PassengerId           177 non-null int64\n",
      "Survived              177 non-null int64\n",
      "Name                  177 non-null object\n",
      "Age                   0 non-null float64\n",
      "SibSp                 177 non-null int64\n",
      "Parch                 177 non-null int64\n",
      "Ticket                177 non-null object\n",
      "Fare                  177 non-null float64\n",
      "Cabin                 19 non-null object\n",
      "Pclass_1              177 non-null uint8\n",
      "Pclass_2              177 non-null uint8\n",
      "Pclass_3              177 non-null uint8\n",
      "Sex_female            177 non-null uint8\n",
      "Sex_male              177 non-null uint8\n",
      "Embarked_C            177 non-null uint8\n",
      "Embarked_Q            177 non-null uint8\n",
      "Embarked_S            177 non-null uint8\n",
      "Title_Capt            177 non-null uint8\n",
      "Title_Col             177 non-null uint8\n",
      "Title_Don             177 non-null uint8\n",
      "Title_Dr              177 non-null uint8\n",
      "Title_Jonkheer        177 non-null uint8\n",
      "Title_Lady            177 non-null uint8\n",
      "Title_Major           177 non-null uint8\n",
      "Title_Master          177 non-null uint8\n",
      "Title_Miss            177 non-null uint8\n",
      "Title_Mlle            177 non-null uint8\n",
      "Title_Mme             177 non-null uint8\n",
      "Title_Mr              177 non-null uint8\n",
      "Title_Mrs             177 non-null uint8\n",
      "Title_Ms              177 non-null uint8\n",
      "Title_Rev             177 non-null uint8\n",
      "Title_Sir             177 non-null uint8\n",
      "Title_the Countess    177 non-null uint8\n",
      "Age_missing           177 non-null int64\n",
      "dtypes: float64(2), int64(5), object(3), uint8(25)\n",
      "memory usage: 19.5+ KB\n"
     ]
    }
   ],
   "source": [
    "prediction_rows.info()"
   ]
  },
  {
   "cell_type": "code",
   "execution_count": 206,
   "metadata": {},
   "outputs": [],
   "source": [
    "dt = DecisionTreeRegressor(max_depth=2)"
   ]
  },
  {
   "cell_type": "code",
   "execution_count": 207,
   "metadata": {},
   "outputs": [
    {
     "data": {
      "text/plain": [
       "DecisionTreeRegressor(criterion='mse', max_depth=2, max_features=None,\n",
       "                      max_leaf_nodes=None, min_impurity_decrease=0.0,\n",
       "                      min_impurity_split=None, min_samples_leaf=1,\n",
       "                      min_samples_split=2, min_weight_fraction_leaf=0.0,\n",
       "                      presort=False, random_state=None, splitter='best')"
      ]
     },
     "execution_count": 207,
     "metadata": {},
     "output_type": "execute_result"
    }
   ],
   "source": [
    "dt.fit(train_rows_Age[age_train_columns],train_rows_Age['Age'])"
   ]
  },
  {
   "cell_type": "code",
   "execution_count": 208,
   "metadata": {},
   "outputs": [],
   "source": [
    "age_values = dt.predict(prediction_rows[age_train_columns])"
   ]
  },
  {
   "cell_type": "code",
   "execution_count": 209,
   "metadata": {},
   "outputs": [
    {
     "name": "stderr",
     "output_type": "stream",
     "text": [
      "C:\\Users\\User\\Anaconda3\\lib\\site-packages\\pandas\\core\\indexing.py:543: SettingWithCopyWarning: \n",
      "A value is trying to be set on a copy of a slice from a DataFrame.\n",
      "Try using .loc[row_indexer,col_indexer] = value instead\n",
      "\n",
      "See the caveats in the documentation: http://pandas.pydata.org/pandas-docs/stable/indexing.html#indexing-view-versus-copy\n",
      "  self.obj[item] = s\n"
     ]
    }
   ],
   "source": [
    "for i in range(len(age_values)):\n",
    "    prediction_rows.iloc[i,3] = age_values[i]"
   ]
  },
  {
   "cell_type": "code",
   "execution_count": 210,
   "metadata": {},
   "outputs": [
    {
     "name": "stdout",
     "output_type": "stream",
     "text": [
      "<class 'pandas.core.frame.DataFrame'>\n",
      "Int64Index: 177 entries, 5 to 888\n",
      "Data columns (total 35 columns):\n",
      "PassengerId           177 non-null int64\n",
      "Survived              177 non-null int64\n",
      "Name                  177 non-null object\n",
      "Age                   177 non-null float64\n",
      "SibSp                 177 non-null int64\n",
      "Parch                 177 non-null int64\n",
      "Ticket                177 non-null object\n",
      "Fare                  177 non-null float64\n",
      "Cabin                 19 non-null object\n",
      "Pclass_1              177 non-null uint8\n",
      "Pclass_2              177 non-null uint8\n",
      "Pclass_3              177 non-null uint8\n",
      "Sex_female            177 non-null uint8\n",
      "Sex_male              177 non-null uint8\n",
      "Embarked_C            177 non-null uint8\n",
      "Embarked_Q            177 non-null uint8\n",
      "Embarked_S            177 non-null uint8\n",
      "Title_Capt            177 non-null uint8\n",
      "Title_Col             177 non-null uint8\n",
      "Title_Don             177 non-null uint8\n",
      "Title_Dr              177 non-null uint8\n",
      "Title_Jonkheer        177 non-null uint8\n",
      "Title_Lady            177 non-null uint8\n",
      "Title_Major           177 non-null uint8\n",
      "Title_Master          177 non-null uint8\n",
      "Title_Miss            177 non-null uint8\n",
      "Title_Mlle            177 non-null uint8\n",
      "Title_Mme             177 non-null uint8\n",
      "Title_Mr              177 non-null uint8\n",
      "Title_Mrs             177 non-null uint8\n",
      "Title_Ms              177 non-null uint8\n",
      "Title_Rev             177 non-null uint8\n",
      "Title_Sir             177 non-null uint8\n",
      "Title_the Countess    177 non-null uint8\n",
      "Age_missing           177 non-null int64\n",
      "dtypes: float64(2), int64(5), object(3), uint8(25)\n",
      "memory usage: 19.5+ KB\n"
     ]
    }
   ],
   "source": [
    "prediction_rows.info()"
   ]
  },
  {
   "cell_type": "code",
   "execution_count": 211,
   "metadata": {},
   "outputs": [],
   "source": [
    "train_cat = train_rows_Age+prediction_rows"
   ]
  },
  {
   "cell_type": "code",
   "execution_count": 212,
   "metadata": {},
   "outputs": [
    {
     "name": "stdout",
     "output_type": "stream",
     "text": [
      "<class 'pandas.core.frame.DataFrame'>\n",
      "Int64Index: 891 entries, 0 to 890\n",
      "Data columns (total 35 columns):\n",
      "PassengerId           0 non-null float64\n",
      "Survived              0 non-null float64\n",
      "Name                  0 non-null object\n",
      "Age                   0 non-null float64\n",
      "SibSp                 0 non-null float64\n",
      "Parch                 0 non-null float64\n",
      "Ticket                0 non-null object\n",
      "Fare                  0 non-null float64\n",
      "Cabin                 0 non-null object\n",
      "Pclass_1              0 non-null float64\n",
      "Pclass_2              0 non-null float64\n",
      "Pclass_3              0 non-null float64\n",
      "Sex_female            0 non-null float64\n",
      "Sex_male              0 non-null float64\n",
      "Embarked_C            0 non-null float64\n",
      "Embarked_Q            0 non-null float64\n",
      "Embarked_S            0 non-null float64\n",
      "Title_Capt            0 non-null float64\n",
      "Title_Col             0 non-null float64\n",
      "Title_Don             0 non-null float64\n",
      "Title_Dr              0 non-null float64\n",
      "Title_Jonkheer        0 non-null float64\n",
      "Title_Lady            0 non-null float64\n",
      "Title_Major           0 non-null float64\n",
      "Title_Master          0 non-null float64\n",
      "Title_Miss            0 non-null float64\n",
      "Title_Mlle            0 non-null float64\n",
      "Title_Mme             0 non-null float64\n",
      "Title_Mr              0 non-null float64\n",
      "Title_Mrs             0 non-null float64\n",
      "Title_Ms              0 non-null float64\n",
      "Title_Rev             0 non-null float64\n",
      "Title_Sir             0 non-null float64\n",
      "Title_the Countess    0 non-null float64\n",
      "Age_missing           0 non-null float64\n",
      "dtypes: float64(32), object(3)\n",
      "memory usage: 250.6+ KB\n"
     ]
    }
   ],
   "source": [
    "train_cat.info()"
   ]
  },
  {
   "cell_type": "code",
   "execution_count": 214,
   "metadata": {},
   "outputs": [],
   "source": [
    "train_cat=train_rows_Age.append(prediction_rows)"
   ]
  },
  {
   "cell_type": "code",
   "execution_count": 215,
   "metadata": {},
   "outputs": [
    {
     "name": "stdout",
     "output_type": "stream",
     "text": [
      "<class 'pandas.core.frame.DataFrame'>\n",
      "Int64Index: 714 entries, 0 to 890\n",
      "Data columns (total 35 columns):\n",
      "PassengerId           714 non-null int64\n",
      "Survived              714 non-null int64\n",
      "Name                  714 non-null object\n",
      "Age                   714 non-null float64\n",
      "SibSp                 714 non-null int64\n",
      "Parch                 714 non-null int64\n",
      "Ticket                714 non-null object\n",
      "Fare                  714 non-null float64\n",
      "Cabin                 185 non-null object\n",
      "Pclass_1              714 non-null uint8\n",
      "Pclass_2              714 non-null uint8\n",
      "Pclass_3              714 non-null uint8\n",
      "Sex_female            714 non-null uint8\n",
      "Sex_male              714 non-null uint8\n",
      "Embarked_C            714 non-null uint8\n",
      "Embarked_Q            714 non-null uint8\n",
      "Embarked_S            714 non-null uint8\n",
      "Title_Capt            714 non-null uint8\n",
      "Title_Col             714 non-null uint8\n",
      "Title_Don             714 non-null uint8\n",
      "Title_Dr              714 non-null uint8\n",
      "Title_Jonkheer        714 non-null uint8\n",
      "Title_Lady            714 non-null uint8\n",
      "Title_Major           714 non-null uint8\n",
      "Title_Master          714 non-null uint8\n",
      "Title_Miss            714 non-null uint8\n",
      "Title_Mlle            714 non-null uint8\n",
      "Title_Mme             714 non-null uint8\n",
      "Title_Mr              714 non-null uint8\n",
      "Title_Mrs             714 non-null uint8\n",
      "Title_Ms              714 non-null uint8\n",
      "Title_Rev             714 non-null uint8\n",
      "Title_Sir             714 non-null uint8\n",
      "Title_the Countess    714 non-null uint8\n",
      "Age_missing           714 non-null int64\n",
      "dtypes: float64(2), int64(5), object(3), uint8(25)\n",
      "memory usage: 98.8+ KB\n"
     ]
    }
   ],
   "source": [
    "train_rows_Age.info()"
   ]
  },
  {
   "cell_type": "code",
   "execution_count": 216,
   "metadata": {},
   "outputs": [
    {
     "name": "stdout",
     "output_type": "stream",
     "text": [
      "<class 'pandas.core.frame.DataFrame'>\n",
      "Int64Index: 177 entries, 5 to 888\n",
      "Data columns (total 35 columns):\n",
      "PassengerId           177 non-null int64\n",
      "Survived              177 non-null int64\n",
      "Name                  177 non-null object\n",
      "Age                   177 non-null float64\n",
      "SibSp                 177 non-null int64\n",
      "Parch                 177 non-null int64\n",
      "Ticket                177 non-null object\n",
      "Fare                  177 non-null float64\n",
      "Cabin                 19 non-null object\n",
      "Pclass_1              177 non-null uint8\n",
      "Pclass_2              177 non-null uint8\n",
      "Pclass_3              177 non-null uint8\n",
      "Sex_female            177 non-null uint8\n",
      "Sex_male              177 non-null uint8\n",
      "Embarked_C            177 non-null uint8\n",
      "Embarked_Q            177 non-null uint8\n",
      "Embarked_S            177 non-null uint8\n",
      "Title_Capt            177 non-null uint8\n",
      "Title_Col             177 non-null uint8\n",
      "Title_Don             177 non-null uint8\n",
      "Title_Dr              177 non-null uint8\n",
      "Title_Jonkheer        177 non-null uint8\n",
      "Title_Lady            177 non-null uint8\n",
      "Title_Major           177 non-null uint8\n",
      "Title_Master          177 non-null uint8\n",
      "Title_Miss            177 non-null uint8\n",
      "Title_Mlle            177 non-null uint8\n",
      "Title_Mme             177 non-null uint8\n",
      "Title_Mr              177 non-null uint8\n",
      "Title_Mrs             177 non-null uint8\n",
      "Title_Ms              177 non-null uint8\n",
      "Title_Rev             177 non-null uint8\n",
      "Title_Sir             177 non-null uint8\n",
      "Title_the Countess    177 non-null uint8\n",
      "Age_missing           177 non-null int64\n",
      "dtypes: float64(2), int64(5), object(3), uint8(25)\n",
      "memory usage: 24.5+ KB\n"
     ]
    }
   ],
   "source": [
    "prediction_rows.info()"
   ]
  },
  {
   "cell_type": "code",
   "execution_count": 217,
   "metadata": {},
   "outputs": [
    {
     "name": "stdout",
     "output_type": "stream",
     "text": [
      "<class 'pandas.core.frame.DataFrame'>\n",
      "Int64Index: 891 entries, 0 to 888\n",
      "Data columns (total 35 columns):\n",
      "PassengerId           891 non-null int64\n",
      "Survived              891 non-null int64\n",
      "Name                  891 non-null object\n",
      "Age                   891 non-null float64\n",
      "SibSp                 891 non-null int64\n",
      "Parch                 891 non-null int64\n",
      "Ticket                891 non-null object\n",
      "Fare                  891 non-null float64\n",
      "Cabin                 204 non-null object\n",
      "Pclass_1              891 non-null uint8\n",
      "Pclass_2              891 non-null uint8\n",
      "Pclass_3              891 non-null uint8\n",
      "Sex_female            891 non-null uint8\n",
      "Sex_male              891 non-null uint8\n",
      "Embarked_C            891 non-null uint8\n",
      "Embarked_Q            891 non-null uint8\n",
      "Embarked_S            891 non-null uint8\n",
      "Title_Capt            891 non-null uint8\n",
      "Title_Col             891 non-null uint8\n",
      "Title_Don             891 non-null uint8\n",
      "Title_Dr              891 non-null uint8\n",
      "Title_Jonkheer        891 non-null uint8\n",
      "Title_Lady            891 non-null uint8\n",
      "Title_Major           891 non-null uint8\n",
      "Title_Master          891 non-null uint8\n",
      "Title_Miss            891 non-null uint8\n",
      "Title_Mlle            891 non-null uint8\n",
      "Title_Mme             891 non-null uint8\n",
      "Title_Mr              891 non-null uint8\n",
      "Title_Mrs             891 non-null uint8\n",
      "Title_Ms              891 non-null uint8\n",
      "Title_Rev             891 non-null uint8\n",
      "Title_Sir             891 non-null uint8\n",
      "Title_the Countess    891 non-null uint8\n",
      "Age_missing           891 non-null int64\n",
      "dtypes: float64(2), int64(5), object(3), uint8(25)\n",
      "memory usage: 98.3+ KB\n"
     ]
    }
   ],
   "source": [
    "train_cat.info()"
   ]
  },
  {
   "cell_type": "code",
   "execution_count": 218,
   "metadata": {},
   "outputs": [
    {
     "name": "stdout",
     "output_type": "stream",
     "text": [
      "<class 'pandas.core.frame.DataFrame'>\n",
      "RangeIndex: 418 entries, 0 to 417\n",
      "Data columns (total 35 columns):\n",
      "PassengerId           418 non-null int64\n",
      "Name                  418 non-null object\n",
      "Age                   332 non-null float64\n",
      "SibSp                 418 non-null int64\n",
      "Parch                 418 non-null int64\n",
      "Ticket                418 non-null object\n",
      "Fare                  417 non-null float64\n",
      "Cabin                 91 non-null object\n",
      "Pclass_1              418 non-null uint8\n",
      "Pclass_2              418 non-null uint8\n",
      "Pclass_3              418 non-null uint8\n",
      "Sex_female            418 non-null uint8\n",
      "Sex_male              418 non-null uint8\n",
      "Embarked_C            418 non-null uint8\n",
      "Embarked_Q            418 non-null uint8\n",
      "Embarked_S            418 non-null uint8\n",
      "Title_Col             418 non-null uint8\n",
      "Title_Dona            418 non-null uint8\n",
      "Title_Dr              418 non-null uint8\n",
      "Title_Master          418 non-null uint8\n",
      "Title_Miss            418 non-null uint8\n",
      "Title_Mr              418 non-null uint8\n",
      "Title_Mrs             418 non-null uint8\n",
      "Title_Ms              418 non-null uint8\n",
      "Title_Rev             418 non-null uint8\n",
      "Title_Sir             418 non-null int64\n",
      "Title_Don             418 non-null int64\n",
      "Title_Major           418 non-null int64\n",
      "Title_Jonkheer        418 non-null int64\n",
      "Title_Mme             418 non-null int64\n",
      "Title_Capt            418 non-null int64\n",
      "Title_Lady            418 non-null int64\n",
      "Title_the Countess    418 non-null int64\n",
      "Title_Mlle            418 non-null int64\n",
      "Age_missing           418 non-null int64\n",
      "dtypes: float64(2), int64(13), object(3), uint8(17)\n",
      "memory usage: 65.8+ KB\n"
     ]
    }
   ],
   "source": [
    "test_cat.info()"
   ]
  },
  {
   "cell_type": "code",
   "execution_count": 219,
   "metadata": {},
   "outputs": [],
   "source": [
    "test_cat['Fare']=test_cat['Fare'].fillna(np.mean(test_cat['Fare']))"
   ]
  },
  {
   "cell_type": "code",
   "execution_count": 220,
   "metadata": {},
   "outputs": [
    {
     "name": "stdout",
     "output_type": "stream",
     "text": [
      "<class 'pandas.core.frame.DataFrame'>\n",
      "RangeIndex: 418 entries, 0 to 417\n",
      "Data columns (total 35 columns):\n",
      "PassengerId           418 non-null int64\n",
      "Name                  418 non-null object\n",
      "Age                   332 non-null float64\n",
      "SibSp                 418 non-null int64\n",
      "Parch                 418 non-null int64\n",
      "Ticket                418 non-null object\n",
      "Fare                  418 non-null float64\n",
      "Cabin                 91 non-null object\n",
      "Pclass_1              418 non-null uint8\n",
      "Pclass_2              418 non-null uint8\n",
      "Pclass_3              418 non-null uint8\n",
      "Sex_female            418 non-null uint8\n",
      "Sex_male              418 non-null uint8\n",
      "Embarked_C            418 non-null uint8\n",
      "Embarked_Q            418 non-null uint8\n",
      "Embarked_S            418 non-null uint8\n",
      "Title_Col             418 non-null uint8\n",
      "Title_Dona            418 non-null uint8\n",
      "Title_Dr              418 non-null uint8\n",
      "Title_Master          418 non-null uint8\n",
      "Title_Miss            418 non-null uint8\n",
      "Title_Mr              418 non-null uint8\n",
      "Title_Mrs             418 non-null uint8\n",
      "Title_Ms              418 non-null uint8\n",
      "Title_Rev             418 non-null uint8\n",
      "Title_Sir             418 non-null int64\n",
      "Title_Don             418 non-null int64\n",
      "Title_Major           418 non-null int64\n",
      "Title_Jonkheer        418 non-null int64\n",
      "Title_Mme             418 non-null int64\n",
      "Title_Capt            418 non-null int64\n",
      "Title_Lady            418 non-null int64\n",
      "Title_the Countess    418 non-null int64\n",
      "Title_Mlle            418 non-null int64\n",
      "Age_missing           418 non-null int64\n",
      "dtypes: float64(2), int64(13), object(3), uint8(17)\n",
      "memory usage: 65.8+ KB\n"
     ]
    }
   ],
   "source": [
    "test_cat.info()"
   ]
  },
  {
   "cell_type": "code",
   "execution_count": 221,
   "metadata": {},
   "outputs": [],
   "source": [
    "test_cat_na = test_cat[np.isnan(test_cat['Age'])==True]\n",
    "test_cat_not_na = test_cat[np.isnan(test_cat['Age'])==False]"
   ]
  },
  {
   "cell_type": "code",
   "execution_count": 222,
   "metadata": {},
   "outputs": [
    {
     "name": "stdout",
     "output_type": "stream",
     "text": [
      "<class 'pandas.core.frame.DataFrame'>\n",
      "Int64Index: 86 entries, 10 to 417\n",
      "Data columns (total 35 columns):\n",
      "PassengerId           86 non-null int64\n",
      "Name                  86 non-null object\n",
      "Age                   0 non-null float64\n",
      "SibSp                 86 non-null int64\n",
      "Parch                 86 non-null int64\n",
      "Ticket                86 non-null object\n",
      "Fare                  86 non-null float64\n",
      "Cabin                 4 non-null object\n",
      "Pclass_1              86 non-null uint8\n",
      "Pclass_2              86 non-null uint8\n",
      "Pclass_3              86 non-null uint8\n",
      "Sex_female            86 non-null uint8\n",
      "Sex_male              86 non-null uint8\n",
      "Embarked_C            86 non-null uint8\n",
      "Embarked_Q            86 non-null uint8\n",
      "Embarked_S            86 non-null uint8\n",
      "Title_Col             86 non-null uint8\n",
      "Title_Dona            86 non-null uint8\n",
      "Title_Dr              86 non-null uint8\n",
      "Title_Master          86 non-null uint8\n",
      "Title_Miss            86 non-null uint8\n",
      "Title_Mr              86 non-null uint8\n",
      "Title_Mrs             86 non-null uint8\n",
      "Title_Ms              86 non-null uint8\n",
      "Title_Rev             86 non-null uint8\n",
      "Title_Sir             86 non-null int64\n",
      "Title_Don             86 non-null int64\n",
      "Title_Major           86 non-null int64\n",
      "Title_Jonkheer        86 non-null int64\n",
      "Title_Mme             86 non-null int64\n",
      "Title_Capt            86 non-null int64\n",
      "Title_Lady            86 non-null int64\n",
      "Title_the Countess    86 non-null int64\n",
      "Title_Mlle            86 non-null int64\n",
      "Age_missing           86 non-null int64\n",
      "dtypes: float64(2), int64(13), object(3), uint8(17)\n",
      "memory usage: 14.2+ KB\n"
     ]
    }
   ],
   "source": [
    "test_cat_na.info()"
   ]
  },
  {
   "cell_type": "code",
   "execution_count": 223,
   "metadata": {},
   "outputs": [],
   "source": [
    "values = dt.predict(test_cat_na[age_train_columns])"
   ]
  },
  {
   "cell_type": "code",
   "execution_count": 224,
   "metadata": {},
   "outputs": [
    {
     "name": "stderr",
     "output_type": "stream",
     "text": [
      "C:\\Users\\User\\Anaconda3\\lib\\site-packages\\pandas\\core\\indexing.py:543: SettingWithCopyWarning: \n",
      "A value is trying to be set on a copy of a slice from a DataFrame.\n",
      "Try using .loc[row_indexer,col_indexer] = value instead\n",
      "\n",
      "See the caveats in the documentation: http://pandas.pydata.org/pandas-docs/stable/indexing.html#indexing-view-versus-copy\n",
      "  self.obj[item] = s\n"
     ]
    }
   ],
   "source": [
    "for i in range(len(values)):\n",
    "    test_cat_na.iloc[i,2] = values[i]"
   ]
  },
  {
   "cell_type": "code",
   "execution_count": 225,
   "metadata": {},
   "outputs": [
    {
     "name": "stdout",
     "output_type": "stream",
     "text": [
      "<class 'pandas.core.frame.DataFrame'>\n",
      "Int64Index: 86 entries, 10 to 417\n",
      "Data columns (total 35 columns):\n",
      "PassengerId           86 non-null int64\n",
      "Name                  86 non-null object\n",
      "Age                   86 non-null float64\n",
      "SibSp                 86 non-null int64\n",
      "Parch                 86 non-null int64\n",
      "Ticket                86 non-null object\n",
      "Fare                  86 non-null float64\n",
      "Cabin                 4 non-null object\n",
      "Pclass_1              86 non-null uint8\n",
      "Pclass_2              86 non-null uint8\n",
      "Pclass_3              86 non-null uint8\n",
      "Sex_female            86 non-null uint8\n",
      "Sex_male              86 non-null uint8\n",
      "Embarked_C            86 non-null uint8\n",
      "Embarked_Q            86 non-null uint8\n",
      "Embarked_S            86 non-null uint8\n",
      "Title_Col             86 non-null uint8\n",
      "Title_Dona            86 non-null uint8\n",
      "Title_Dr              86 non-null uint8\n",
      "Title_Master          86 non-null uint8\n",
      "Title_Miss            86 non-null uint8\n",
      "Title_Mr              86 non-null uint8\n",
      "Title_Mrs             86 non-null uint8\n",
      "Title_Ms              86 non-null uint8\n",
      "Title_Rev             86 non-null uint8\n",
      "Title_Sir             86 non-null int64\n",
      "Title_Don             86 non-null int64\n",
      "Title_Major           86 non-null int64\n",
      "Title_Jonkheer        86 non-null int64\n",
      "Title_Mme             86 non-null int64\n",
      "Title_Capt            86 non-null int64\n",
      "Title_Lady            86 non-null int64\n",
      "Title_the Countess    86 non-null int64\n",
      "Title_Mlle            86 non-null int64\n",
      "Age_missing           86 non-null int64\n",
      "dtypes: float64(2), int64(13), object(3), uint8(17)\n",
      "memory usage: 14.2+ KB\n"
     ]
    }
   ],
   "source": [
    "test_cat_na.info()"
   ]
  },
  {
   "cell_type": "code",
   "execution_count": 226,
   "metadata": {},
   "outputs": [],
   "source": [
    "test_cat2 = test_cat_not_na.append(test_cat_na)"
   ]
  },
  {
   "cell_type": "code",
   "execution_count": 227,
   "metadata": {},
   "outputs": [
    {
     "name": "stdout",
     "output_type": "stream",
     "text": [
      "<class 'pandas.core.frame.DataFrame'>\n",
      "Int64Index: 418 entries, 0 to 417\n",
      "Data columns (total 35 columns):\n",
      "PassengerId           418 non-null int64\n",
      "Name                  418 non-null object\n",
      "Age                   418 non-null float64\n",
      "SibSp                 418 non-null int64\n",
      "Parch                 418 non-null int64\n",
      "Ticket                418 non-null object\n",
      "Fare                  418 non-null float64\n",
      "Cabin                 91 non-null object\n",
      "Pclass_1              418 non-null uint8\n",
      "Pclass_2              418 non-null uint8\n",
      "Pclass_3              418 non-null uint8\n",
      "Sex_female            418 non-null uint8\n",
      "Sex_male              418 non-null uint8\n",
      "Embarked_C            418 non-null uint8\n",
      "Embarked_Q            418 non-null uint8\n",
      "Embarked_S            418 non-null uint8\n",
      "Title_Col             418 non-null uint8\n",
      "Title_Dona            418 non-null uint8\n",
      "Title_Dr              418 non-null uint8\n",
      "Title_Master          418 non-null uint8\n",
      "Title_Miss            418 non-null uint8\n",
      "Title_Mr              418 non-null uint8\n",
      "Title_Mrs             418 non-null uint8\n",
      "Title_Ms              418 non-null uint8\n",
      "Title_Rev             418 non-null uint8\n",
      "Title_Sir             418 non-null int64\n",
      "Title_Don             418 non-null int64\n",
      "Title_Major           418 non-null int64\n",
      "Title_Jonkheer        418 non-null int64\n",
      "Title_Mme             418 non-null int64\n",
      "Title_Capt            418 non-null int64\n",
      "Title_Lady            418 non-null int64\n",
      "Title_the Countess    418 non-null int64\n",
      "Title_Mlle            418 non-null int64\n",
      "Age_missing           418 non-null int64\n",
      "dtypes: float64(2), int64(13), object(3), uint8(17)\n",
      "memory usage: 69.0+ KB\n"
     ]
    }
   ],
   "source": [
    "test_cat2.info()"
   ]
  },
  {
   "cell_type": "code",
   "execution_count": 228,
   "metadata": {},
   "outputs": [
    {
     "name": "stdout",
     "output_type": "stream",
     "text": [
      "<class 'pandas.core.frame.DataFrame'>\n",
      "Int64Index: 891 entries, 0 to 888\n",
      "Data columns (total 35 columns):\n",
      "PassengerId           891 non-null int64\n",
      "Survived              891 non-null int64\n",
      "Name                  891 non-null object\n",
      "Age                   891 non-null float64\n",
      "SibSp                 891 non-null int64\n",
      "Parch                 891 non-null int64\n",
      "Ticket                891 non-null object\n",
      "Fare                  891 non-null float64\n",
      "Cabin                 204 non-null object\n",
      "Pclass_1              891 non-null uint8\n",
      "Pclass_2              891 non-null uint8\n",
      "Pclass_3              891 non-null uint8\n",
      "Sex_female            891 non-null uint8\n",
      "Sex_male              891 non-null uint8\n",
      "Embarked_C            891 non-null uint8\n",
      "Embarked_Q            891 non-null uint8\n",
      "Embarked_S            891 non-null uint8\n",
      "Title_Capt            891 non-null uint8\n",
      "Title_Col             891 non-null uint8\n",
      "Title_Don             891 non-null uint8\n",
      "Title_Dr              891 non-null uint8\n",
      "Title_Jonkheer        891 non-null uint8\n",
      "Title_Lady            891 non-null uint8\n",
      "Title_Major           891 non-null uint8\n",
      "Title_Master          891 non-null uint8\n",
      "Title_Miss            891 non-null uint8\n",
      "Title_Mlle            891 non-null uint8\n",
      "Title_Mme             891 non-null uint8\n",
      "Title_Mr              891 non-null uint8\n",
      "Title_Mrs             891 non-null uint8\n",
      "Title_Ms              891 non-null uint8\n",
      "Title_Rev             891 non-null uint8\n",
      "Title_Sir             891 non-null uint8\n",
      "Title_the Countess    891 non-null uint8\n",
      "Age_missing           891 non-null int64\n",
      "dtypes: float64(2), int64(5), object(3), uint8(25)\n",
      "memory usage: 98.3+ KB\n"
     ]
    }
   ],
   "source": [
    "train_cat.info()"
   ]
  },
  {
   "cell_type": "code",
   "execution_count": 229,
   "metadata": {},
   "outputs": [
    {
     "data": {
      "text/plain": [
       "Index(['PassengerId', 'Survived', 'Name', 'Age', 'SibSp', 'Parch', 'Ticket',\n",
       "       'Fare', 'Cabin', 'Pclass_1', 'Pclass_2', 'Pclass_3', 'Sex_female',\n",
       "       'Sex_male', 'Embarked_C', 'Embarked_Q', 'Embarked_S', 'Title_Capt',\n",
       "       'Title_Col', 'Title_Don', 'Title_Dr', 'Title_Jonkheer', 'Title_Lady',\n",
       "       'Title_Major', 'Title_Master', 'Title_Miss', 'Title_Mlle', 'Title_Mme',\n",
       "       'Title_Mr', 'Title_Mrs', 'Title_Ms', 'Title_Rev', 'Title_Sir',\n",
       "       'Title_the Countess', 'Age_missing'],\n",
       "      dtype='object')"
      ]
     },
     "execution_count": 229,
     "metadata": {},
     "output_type": "execute_result"
    }
   ],
   "source": [
    "train_cat.columns"
   ]
  },
  {
   "cell_type": "code",
   "execution_count": 230,
   "metadata": {},
   "outputs": [],
   "source": [
    "X_columns = ['Age', 'SibSp', 'Parch', \n",
    "       'Fare',  'Pclass_1', 'Pclass_2', 'Pclass_3', 'Embarked_C',\n",
    "       'Embarked_Q', 'Embarked_S', 'Sex_female',  'Title_Capt',\n",
    "       'Title_Col', 'Title_Don', 'Title_Dr', 'Title_Jonkheer', 'Title_Lady',\n",
    "       'Title_Major', 'Title_Master', 'Title_Miss', 'Title_Mlle', 'Title_Mme',\n",
    "       'Title_Mr', 'Title_Mrs', 'Title_Ms', 'Title_Rev', 'Title_Sir',\n",
    "       'Title_the Countess', 'Age_missing']\n",
    "y_columns= ['Survived']"
   ]
  },
  {
   "cell_type": "code",
   "execution_count": 231,
   "metadata": {},
   "outputs": [],
   "source": [
    "X = train_cat[X_columns]\n",
    "y = train_cat[y_columns].values.flatten()"
   ]
  },
  {
   "cell_type": "code",
   "execution_count": 232,
   "metadata": {},
   "outputs": [],
   "source": [
    "X_train,X_test,y_train,y_test = train_test_split(X,y,random_state=42,stratify=y,test_size=0.3)"
   ]
  },
  {
   "cell_type": "code",
   "execution_count": 234,
   "metadata": {},
   "outputs": [
    {
     "name": "stdout",
     "output_type": "stream",
     "text": [
      "Wall time: 10.9 s\n"
     ]
    },
    {
     "data": {
      "text/plain": [
       "GridSearchCV(cv=5, error_score='raise-deprecating',\n",
       "             estimator=RandomForestClassifier(bootstrap=True, class_weight=None,\n",
       "                                              criterion='gini', max_depth=None,\n",
       "                                              max_features='auto',\n",
       "                                              max_leaf_nodes=None,\n",
       "                                              min_impurity_decrease=0.0,\n",
       "                                              min_impurity_split=None,\n",
       "                                              min_samples_leaf=1,\n",
       "                                              min_samples_split=2,\n",
       "                                              min_weight_fraction_leaf=0.0,\n",
       "                                              n_estimators=30, n_jobs=None,\n",
       "                                              oob_score=False, random_state=42,\n",
       "                                              verbose=0, warm_start=False),\n",
       "             iid='warn', n_jobs=-1,\n",
       "             param_grid={'criterion': ['entropy'], 'max_depth': [4],\n",
       "                         'max_features': [19], 'min_samples_leaf': [2]},\n",
       "             pre_dispatch='2*n_jobs', refit=True, return_train_score=False,\n",
       "             scoring=None, verbose=0)"
      ]
     },
     "execution_count": 234,
     "metadata": {},
     "output_type": "execute_result"
    }
   ],
   "source": [
    "%%time\n",
    "params_rf={\n",
    "    \n",
    "    'criterion':['entropy'],\n",
    "    'max_depth':[4],\n",
    "    'min_samples_leaf': [2],\n",
    "    'max_features': [19]\n",
    "    \n",
    "    \n",
    "    \n",
    "}\n",
    "model = GridSearchCV(RandomForestClassifier(n_estimators=30,random_state=42), params_rf,cv=5,n_jobs=-1)\n",
    "model.fit(X_train,y_train)\n"
   ]
  },
  {
   "cell_type": "code",
   "execution_count": 235,
   "metadata": {},
   "outputs": [
    {
     "name": "stdout",
     "output_type": "stream",
     "text": [
      "{'criterion': 'entropy', 'max_depth': 4, 'max_features': 19, 'min_samples_leaf': 2}\n",
      "0.8426966292134831\n",
      "0.8097014925373134\n"
     ]
    }
   ],
   "source": [
    "print(model.best_params_)\n",
    "print(model.best_score_)\n",
    "print(model.score(X_test,y_test))"
   ]
  },
  {
   "cell_type": "code",
   "execution_count": 236,
   "metadata": {},
   "outputs": [
    {
     "data": {
      "text/plain": [
       "(268, 29)"
      ]
     },
     "execution_count": 236,
     "metadata": {},
     "output_type": "execute_result"
    }
   ],
   "source": [
    "X_test.shape"
   ]
  },
  {
   "cell_type": "code",
   "execution_count": 237,
   "metadata": {},
   "outputs": [
    {
     "data": {
      "text/plain": [
       "RandomForestClassifier(bootstrap=True, class_weight=None, criterion='entropy',\n",
       "                       max_depth=4, max_features=19, max_leaf_nodes=None,\n",
       "                       min_impurity_decrease=0.0, min_impurity_split=None,\n",
       "                       min_samples_leaf=2, min_samples_split=2,\n",
       "                       min_weight_fraction_leaf=0.0, n_estimators=200,\n",
       "                       n_jobs=-1, oob_score=False, random_state=42, verbose=0,\n",
       "                       warm_start=False)"
      ]
     },
     "execution_count": 237,
     "metadata": {},
     "output_type": "execute_result"
    }
   ],
   "source": [
    "model = RandomForestClassifier(n_estimators=200,random_state=42,n_jobs=-1,max_depth=4,\n",
    "                               min_samples_leaf=2,max_features=19,criterion='entropy')\n",
    "model.fit(X,y)"
   ]
  },
  {
   "cell_type": "code",
   "execution_count": 238,
   "metadata": {},
   "outputs": [
    {
     "name": "stdout",
     "output_type": "stream",
     "text": [
      "<class 'pandas.core.frame.DataFrame'>\n",
      "Int64Index: 418 entries, 0 to 417\n",
      "Data columns (total 35 columns):\n",
      "PassengerId           418 non-null int64\n",
      "Name                  418 non-null object\n",
      "Age                   418 non-null float64\n",
      "SibSp                 418 non-null int64\n",
      "Parch                 418 non-null int64\n",
      "Ticket                418 non-null object\n",
      "Fare                  418 non-null float64\n",
      "Cabin                 91 non-null object\n",
      "Pclass_1              418 non-null uint8\n",
      "Pclass_2              418 non-null uint8\n",
      "Pclass_3              418 non-null uint8\n",
      "Sex_female            418 non-null uint8\n",
      "Sex_male              418 non-null uint8\n",
      "Embarked_C            418 non-null uint8\n",
      "Embarked_Q            418 non-null uint8\n",
      "Embarked_S            418 non-null uint8\n",
      "Title_Col             418 non-null uint8\n",
      "Title_Dona            418 non-null uint8\n",
      "Title_Dr              418 non-null uint8\n",
      "Title_Master          418 non-null uint8\n",
      "Title_Miss            418 non-null uint8\n",
      "Title_Mr              418 non-null uint8\n",
      "Title_Mrs             418 non-null uint8\n",
      "Title_Ms              418 non-null uint8\n",
      "Title_Rev             418 non-null uint8\n",
      "Title_Sir             418 non-null int64\n",
      "Title_Don             418 non-null int64\n",
      "Title_Major           418 non-null int64\n",
      "Title_Jonkheer        418 non-null int64\n",
      "Title_Mme             418 non-null int64\n",
      "Title_Capt            418 non-null int64\n",
      "Title_Lady            418 non-null int64\n",
      "Title_the Countess    418 non-null int64\n",
      "Title_Mlle            418 non-null int64\n",
      "Age_missing           418 non-null int64\n",
      "dtypes: float64(2), int64(13), object(3), uint8(17)\n",
      "memory usage: 69.0+ KB\n"
     ]
    }
   ],
   "source": [
    "test_cat2.info()"
   ]
  },
  {
   "cell_type": "code",
   "execution_count": 239,
   "metadata": {},
   "outputs": [],
   "source": [
    "values = model.predict(test_cat2[X_columns])"
   ]
  },
  {
   "cell_type": "code",
   "execution_count": 240,
   "metadata": {},
   "outputs": [
    {
     "data": {
      "text/plain": [
       "array([0, 0, 0, 0, 1, 0, 1, 0, 1, 0, 0, 1, 0, 1, 1, 0, 0, 1, 1, 0, 1, 0,\n",
       "       1, 0, 1, 0, 0, 0, 0, 1, 0, 0, 1, 0, 0, 0, 1, 1, 0, 0, 1, 1, 0, 0,\n",
       "       1, 1, 0, 0, 0, 1, 0, 0, 0, 1, 1, 1, 0, 0, 1, 1, 0, 1, 0, 1, 0, 1,\n",
       "       0, 1, 1, 0, 0, 1, 1, 1, 1, 1, 0, 0, 1, 0, 1, 0, 1, 0, 0, 1, 0, 0,\n",
       "       0, 0, 1, 1, 1, 0, 1, 0, 1, 1, 1, 0, 1, 0, 0, 0, 0, 1, 0, 0, 0, 0,\n",
       "       1, 0, 0, 1, 0, 0, 0, 0, 0, 0, 1, 0, 1, 0, 0, 1, 1, 0, 1, 1, 1, 0,\n",
       "       1, 0, 0, 1, 0, 0, 0, 1, 1, 0, 1, 1, 0, 0, 1, 1, 0, 1, 0, 0, 0, 1,\n",
       "       0, 1, 0, 1, 1, 0, 1, 1, 1, 0, 1, 0, 1, 0, 0, 0, 1, 0, 0, 0, 1, 1,\n",
       "       0, 1, 0, 1, 0, 0, 0, 0, 1, 0, 0, 0, 0, 0, 1, 1, 1, 1, 0, 0, 1, 0,\n",
       "       1, 1, 0, 0, 0, 0, 0, 1, 0, 0, 0, 1, 1, 0, 0, 0, 1, 1, 0, 0, 0, 0,\n",
       "       1, 1, 1, 1, 0, 0, 1, 1, 0, 0, 1, 0, 0, 0, 0, 0, 1, 0, 1, 0, 0, 0,\n",
       "       0, 1, 1, 1, 0, 0, 0, 0, 0, 0, 0, 0, 1, 0, 1, 0, 0, 0, 1, 0, 1, 0,\n",
       "       0, 0, 0, 0, 0, 0, 1, 1, 0, 1, 0, 1, 1, 0, 0, 0, 1, 0, 1, 1, 0, 1,\n",
       "       1, 0, 1, 0, 1, 0, 0, 1, 0, 0, 1, 1, 1, 0, 0, 0, 0, 1, 1, 0, 0, 0,\n",
       "       0, 0, 1, 1, 0, 0, 1, 0, 1, 0, 0, 1, 0, 1, 0, 0, 0, 0, 0, 1, 1, 1,\n",
       "       1, 0, 0, 1, 0, 0, 1, 0, 0, 0, 0, 0, 1, 0, 0, 0, 0, 1, 0, 0, 0, 0,\n",
       "       0, 1, 0, 0, 0, 1, 0, 0, 0, 0, 0, 1, 0, 1, 0, 0, 0, 0, 0, 1, 1, 0,\n",
       "       0, 1, 0, 1, 1, 0, 0, 1, 1, 0, 0, 0, 0, 0, 1, 0, 1, 0, 1, 0, 0, 0,\n",
       "       0, 0, 0, 0, 1, 0, 0, 1, 0, 1, 0, 0, 0, 0, 0, 1, 0, 1, 1, 0, 0, 1],\n",
       "      dtype=int64)"
      ]
     },
     "execution_count": 240,
     "metadata": {},
     "output_type": "execute_result"
    }
   ],
   "source": [
    "values"
   ]
  },
  {
   "cell_type": "code",
   "execution_count": 241,
   "metadata": {},
   "outputs": [],
   "source": [
    "submission = pd.DataFrame({'PassengerId': test_cat2['PassengerId'],\n",
    "                          'Survived': values})\n",
    "\n",
    "submission.to_csv('titanic20.csv',index=False)"
   ]
  },
  {
   "cell_type": "code",
   "execution_count": null,
   "metadata": {},
   "outputs": [],
   "source": []
  }
 ],
 "metadata": {
  "kernelspec": {
   "display_name": "Python 3",
   "language": "python",
   "name": "python3"
  },
  "language_info": {
   "codemirror_mode": {
    "name": "ipython",
    "version": 3
   },
   "file_extension": ".py",
   "mimetype": "text/x-python",
   "name": "python",
   "nbconvert_exporter": "python",
   "pygments_lexer": "ipython3",
   "version": "3.7.3"
  }
 },
 "nbformat": 4,
 "nbformat_minor": 2
}
