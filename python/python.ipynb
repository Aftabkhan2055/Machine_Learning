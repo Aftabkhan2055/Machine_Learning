{
 "cells": [
  {
   "cell_type": "code",
   "execution_count": 11,
   "metadata": {},
   "outputs": [],
   "source": [
    "arr1=[1,2,3,1,2,3]\n",
    "def total(array):\n",
    "    total1=1\n",
    "    for i in array:\n",
    "        total1=total1*i\n",
    "    return total1"
   ]
  },
  {
   "cell_type": "code",
   "execution_count": 12,
   "metadata": {},
   "outputs": [
    {
     "data": {
      "text/plain": [
       "36"
      ]
     },
     "execution_count": 12,
     "metadata": {},
     "output_type": "execute_result"
    }
   ],
   "source": [
    "total(arr1)"
   ]
  },
  {
   "cell_type": "code",
   "execution_count": 28,
   "metadata": {},
   "outputs": [],
   "source": [
    "def maximum(array):\n",
    "    max_value=array[0]\n",
    "    for i in array:\n",
    "        if i>max_value:\n",
    "            max_value=i\n",
    "    return max_value"
   ]
  },
  {
   "cell_type": "code",
   "execution_count": 29,
   "metadata": {},
   "outputs": [
    {
     "data": {
      "text/plain": [
       "4"
      ]
     },
     "execution_count": 29,
     "metadata": {},
     "output_type": "execute_result"
    }
   ],
   "source": [
    "maximum([1,2,3,4])"
   ]
  },
  {
   "cell_type": "code",
   "execution_count": 37,
   "metadata": {},
   "outputs": [],
   "source": [
    "def minimum(array):\n",
    "    min_value=array[0]\n",
    "    for i in array:\n",
    "        if i<min_value:\n",
    "            min_value=i\n",
    "    return min_value"
   ]
  },
  {
   "cell_type": "code",
   "execution_count": 38,
   "metadata": {},
   "outputs": [
    {
     "data": {
      "text/plain": [
       "1"
      ]
     },
     "execution_count": 38,
     "metadata": {},
     "output_type": "execute_result"
    }
   ],
   "source": [
    "minimum([1,2,3,4,5])"
   ]
  },
  {
   "cell_type": "code",
   "execution_count": 39,
   "metadata": {},
   "outputs": [
    {
     "data": {
      "text/plain": [
       "-3"
      ]
     },
     "execution_count": 39,
     "metadata": {},
     "output_type": "execute_result"
    }
   ],
   "source": [
    "minimum([-1,-2,-3])"
   ]
  },
  {
   "cell_type": "code",
   "execution_count": 40,
   "metadata": {},
   "outputs": [
    {
     "data": {
      "text/plain": [
       "-3"
      ]
     },
     "execution_count": 40,
     "metadata": {},
     "output_type": "execute_result"
    }
   ],
   "source": [
    "minimum([-1,-1,-3])"
   ]
  },
  {
   "cell_type": "code",
   "execution_count": 52,
   "metadata": {},
   "outputs": [],
   "source": [
    "def sumofsquares(array):\n",
    "    total=0\n",
    "    for i in array:\n",
    "        total=total+i*i\n",
    "    return total\n",
    "        "
   ]
  },
  {
   "cell_type": "code",
   "execution_count": 53,
   "metadata": {},
   "outputs": [
    {
     "data": {
      "text/plain": [
       "55"
      ]
     },
     "execution_count": 53,
     "metadata": {},
     "output_type": "execute_result"
    }
   ],
   "source": [
    "sumofsquares([1,2,3,4,5])"
   ]
  },
  {
   "cell_type": "code",
   "execution_count": 8,
   "metadata": {},
   "outputs": [],
   "source": [
    "array=[1,2,3,4,5,6,7]\n",
    "def square(array):\n",
    "    for i in range (0,len(array)):\n",
    "        array[i]=array[i]**2"
   ]
  },
  {
   "cell_type": "code",
   "execution_count": 9,
   "metadata": {},
   "outputs": [
    {
     "data": {
      "text/plain": [
       "[1, 2, 3, 4, 5, 6, 7]"
      ]
     },
     "execution_count": 9,
     "metadata": {},
     "output_type": "execute_result"
    }
   ],
   "source": [
    "array"
   ]
  },
  {
   "cell_type": "code",
   "execution_count": 10,
   "metadata": {},
   "outputs": [],
   "source": [
    "square(array)"
   ]
  },
  {
   "cell_type": "code",
   "execution_count": 11,
   "metadata": {},
   "outputs": [
    {
     "data": {
      "text/plain": [
       "[1, 4, 9, 16, 25, 36, 49]"
      ]
     },
     "execution_count": 11,
     "metadata": {},
     "output_type": "execute_result"
    }
   ],
   "source": [
    "array"
   ]
  },
  {
   "cell_type": "code",
   "execution_count": 1,
   "metadata": {},
   "outputs": [],
   "source": [
    "#double all elements in array\n",
    "#sum of cube f elements in array\n",
    "#get first half sub array in array"
   ]
  },
  {
   "cell_type": "code",
   "execution_count": 1,
   "metadata": {},
   "outputs": [],
   "source": [
    "def sumofcubes(array):\n",
    "    total=0\n",
    "    for i in array:\n",
    "        total=total+i*i*i\n",
    "    return total\n",
    "        "
   ]
  },
  {
   "cell_type": "code",
   "execution_count": 2,
   "metadata": {},
   "outputs": [
    {
     "data": {
      "text/plain": [
       "36"
      ]
     },
     "execution_count": 2,
     "metadata": {},
     "output_type": "execute_result"
    }
   ],
   "source": [
    "sumofcubes([1,2,3,])"
   ]
  },
  {
   "cell_type": "code",
   "execution_count": 4,
   "metadata": {},
   "outputs": [],
   "source": [
    "array=[1,2,3,4]"
   ]
  },
  {
   "cell_type": "code",
   "execution_count": 5,
   "metadata": {},
   "outputs": [],
   "source": [
    "def double(array):\n",
    "    for i in range(0,len(array)):\n",
    "        array[i]=((array[i])*2)\n",
    "    return (array)"
   ]
  },
  {
   "cell_type": "code",
   "execution_count": 6,
   "metadata": {},
   "outputs": [],
   "source": [
    "def double(array):\n",
    "    for i in range(0,len(array)):\n",
    "        array[i]=((array[i])//2)\n",
    "    return (array)"
   ]
  },
  {
   "cell_type": "code",
   "execution_count": 7,
   "metadata": {},
   "outputs": [
    {
     "data": {
      "text/plain": [
       "[0, 1, 1, 2]"
      ]
     },
     "execution_count": 7,
     "metadata": {},
     "output_type": "execute_result"
    }
   ],
   "source": [
    "double(array)"
   ]
  },
  {
   "cell_type": "code",
   "execution_count": 8,
   "metadata": {},
   "outputs": [],
   "source": [
    "world=\"helloworld \""
   ]
  },
  {
   "cell_type": "code",
   "execution_count": 9,
   "metadata": {},
   "outputs": [
    {
     "data": {
      "text/plain": [
       "'w'"
      ]
     },
     "execution_count": 9,
     "metadata": {},
     "output_type": "execute_result"
    }
   ],
   "source": [
    "world[5]"
   ]
  },
  {
   "cell_type": "code",
   "execution_count": 14,
   "metadata": {},
   "outputs": [],
   "source": [
    "#string immutable"
   ]
  },
  {
   "cell_type": "code",
   "execution_count": 17,
   "metadata": {},
   "outputs": [
    {
     "data": {
      "text/plain": [
       "['hello', 'world']"
      ]
     },
     "execution_count": 17,
     "metadata": {},
     "output_type": "execute_result"
    }
   ],
   "source": [
    "world=\"hello world\"\n",
    "world.split(\" \")"
   ]
  },
  {
   "cell_type": "code",
   "execution_count": 22,
   "metadata": {},
   "outputs": [
    {
     "name": "stdout",
     "output_type": "stream",
     "text": [
      "sum of 20 and 30 is 50\n"
     ]
    }
   ],
   "source": [
    "a=20\n",
    "b=30\n",
    "print(f\"sum of {a} and {b} is {a+b}\")"
   ]
  },
  {
   "cell_type": "code",
   "execution_count": 23,
   "metadata": {
    "collapsed": true
   },
   "outputs": [
    {
     "ename": "SyntaxError",
     "evalue": "invalid syntax (<ipython-input-23-93098bb6ddf2>, line 1)",
     "output_type": "error",
     "traceback": [
      "\u001b[1;36m  File \u001b[1;32m\"<ipython-input-23-93098bb6ddf2>\"\u001b[1;36m, line \u001b[1;32m1\u001b[0m\n\u001b[1;33m    print (\"sum of\" ,a \"and\", b ,\"is\", a+b)\u001b[0m\n\u001b[1;37m                           ^\u001b[0m\n\u001b[1;31mSyntaxError\u001b[0m\u001b[1;31m:\u001b[0m invalid syntax\n"
     ]
    }
   ],
   "source": [
    "print (\"sum of\" ,a \"and\", b ,\"is\", a+b)"
   ]
  },
  {
   "cell_type": "code",
   "execution_count": 84,
   "metadata": {},
   "outputs": [],
   "source": [
    "datestring=\"21/7/2019\"\n",
    "\n",
    "#=>Day is 21.month is 7.year is 201\n",
    "\n",
    "\n",
    "def printdate(date):\n",
    "    array=date.split(\"/\")\n",
    "    print(f\"Day is {array[0]}.month is {array[1]}.year. {array[2]}\")\n",
    "    \n",
    "    "
   ]
  },
  {
   "cell_type": "code",
   "execution_count": 95,
   "metadata": {},
   "outputs": [
    {
     "data": {
      "text/plain": [
       "['21', '7', '2019']"
      ]
     },
     "execution_count": 95,
     "metadata": {},
     "output_type": "execute_result"
    }
   ],
   "source": [
    "\"21/7/2019\".split('/')"
   ]
  },
  {
   "cell_type": "code",
   "execution_count": 85,
   "metadata": {},
   "outputs": [],
   "source": [
    "def product(*all):\n",
    "    total=1\n",
    "    for i in all:\n",
    "        total*=i\n",
    "    return total"
   ]
  },
  {
   "cell_type": "code",
   "execution_count": 86,
   "metadata": {},
   "outputs": [
    {
     "data": {
      "text/plain": [
       "24"
      ]
     },
     "execution_count": 86,
     "metadata": {},
     "output_type": "execute_result"
    }
   ],
   "source": [
    "product(2,3,4)"
   ]
  },
  {
   "cell_type": "code",
   "execution_count": 2,
   "metadata": {},
   "outputs": [],
   "source": [
    "import numpy as np"
   ]
  },
  {
   "cell_type": "code",
   "execution_count": 88,
   "metadata": {},
   "outputs": [
    {
     "data": {
      "text/plain": [
       "0.21905392263363854"
      ]
     },
     "execution_count": 88,
     "metadata": {},
     "output_type": "execute_result"
    }
   ],
   "source": [
    "np.random.random()"
   ]
  },
  {
   "cell_type": "code",
   "execution_count": 89,
   "metadata": {},
   "outputs": [
    {
     "name": "stdout",
     "output_type": "stream",
     "text": [
      "0.017020803802498707\n",
      "0.6983502261906388\n",
      "0.6932619483626925\n",
      "0.9334781184791247\n",
      "0.545134700271325\n",
      "0.3589045314308833\n",
      "0.700787032696237\n",
      "0.8126978029259538\n",
      "0.35455456510935934\n",
      "0.27916884640321504\n"
     ]
    }
   ],
   "source": [
    "for i in range(10):\n",
    "    print(np.random.random())"
   ]
  },
  {
   "cell_type": "code",
   "execution_count": 90,
   "metadata": {},
   "outputs": [
    {
     "data": {
      "text/plain": [
       "3"
      ]
     },
     "execution_count": 90,
     "metadata": {},
     "output_type": "execute_result"
    }
   ],
   "source": [
    "np.random.randint(1,7)"
   ]
  },
  {
   "cell_type": "code",
   "execution_count": 7,
   "metadata": {},
   "outputs": [],
   "source": [
    "#simpulation\n",
    "# what is probability sum of  two dice rollis 7"
   ]
  },
  {
   "cell_type": "code",
   "execution_count": 16,
   "metadata": {},
   "outputs": [
    {
     "name": "stdout",
     "output_type": "stream",
     "text": [
      "0.167199\n"
     ]
    }
   ],
   "source": [
    "no_simulations=1000000\n",
    "no_of_seven=0\n",
    "\n",
    "for i in range(no_simulations):\n",
    "    dice1=np.random.randint(1,7)\n",
    "    dice2=np.random.randint(1,7)\n",
    "    if dice1+dice2==7:\n",
    "        no_of_seven+=1\n",
    "print(no_of_seven/no_simulations)\n",
    "        "
   ]
  },
  {
   "cell_type": "code",
   "execution_count": 9,
   "metadata": {},
   "outputs": [
    {
     "name": "stdout",
     "output_type": "stream",
     "text": [
      "0.24909\n"
     ]
    }
   ],
   "source": [
    "import numpy as np\n",
    "no_simulations=100000\n",
    "no_of_both_head=0\n",
    "np.random.seed(10)\n",
    "for i in range(no_simulations):\n",
    "    coin1=np.random.randint(1,3)\n",
    "    coin2=np.random.randint(1,3)\n",
    "    if coin1==1 and coin2==1:\n",
    "        no_of_both_head+=1\n",
    "print(no_of_both_head/no_simulations)\n",
    "        "
   ]
  },
  {
   "cell_type": "code",
   "execution_count": 10,
   "metadata": {},
   "outputs": [
    {
     "name": "stdout",
     "output_type": "stream",
     "text": [
      "6\n",
      "2\n",
      "1\n",
      "3\n",
      "3\n",
      "3\n",
      "3\n",
      "6\n",
      "1\n",
      "1\n"
     ]
    }
   ],
   "source": [
    "np.random.seed(182)\n",
    "for i in range(10):\n",
    "    print(np.random.randint(1,7))"
   ]
  },
  {
   "cell_type": "code",
   "execution_count": 8,
   "metadata": {},
   "outputs": [],
   "source": [
    "import matplotlib.pyplot as plt"
   ]
  },
  {
   "cell_type": "code",
   "execution_count": 13,
   "metadata": {},
   "outputs": [
    {
     "data": {
      "image/png": "[encoded data removed]",
      "text/plain": [
       "<Figure size 432x288 with 1 Axes>"
      ]
     },
     "metadata": {
      "needs_background": "light"
     },
     "output_type": "display_data"
    }
   ],
   "source": [
    "plt.scatter([1,6,3,4,5],[1,2,7,4,8])\n",
    "plt.show()"
   ]
  },
  {
   "cell_type": "code",
   "execution_count": 14,
   "metadata": {},
   "outputs": [
    {
     "data": {
      "image/png": "[encoded data removed]",
      "text/plain": [
       "<Figure size 432x288 with 1 Axes>"
      ]
     },
     "metadata": {
      "needs_background": "light"
     },
     "output_type": "display_data"
    }
   ],
   "source": [
    "#plot the curve y is x from 1-10\n",
    "\n",
    "plt.plot(range(1,11),range(1,11))\n",
    "plt.show()"
   ]
  },
  {
   "cell_type": "code",
   "execution_count": 15,
   "metadata": {},
   "outputs": [],
   "source": [
    "def sumofsquares(array):\n",
    "    total=0\n",
    "    for i in array:\n",
    "        total=total+i*i\n",
    "    return total\n",
    "        "
   ]
  },
  {
   "cell_type": "code",
   "execution_count": 16,
   "metadata": {
    "collapsed": true
   },
   "outputs": [
    {
     "ename": "NameError",
     "evalue": "name 'sumofc' is not defined",
     "output_type": "error",
     "traceback": [
      "\u001b[1;31m---------------------------------------------------------------------------\u001b[0m",
      "\u001b[1;31mNameError\u001b[0m                                 Traceback (most recent call last)",
      "\u001b[1;32m<ipython-input-16-154b2e80306d>\u001b[0m in \u001b[0;36m<module>\u001b[1;34m\u001b[0m\n\u001b[1;32m----> 1\u001b[1;33m \u001b[0msumofc\u001b[0m\u001b[1;33m(\u001b[0m\u001b[1;33m[\u001b[0m\u001b[1;36m1\u001b[0m\u001b[1;33m,\u001b[0m\u001b[1;36m2\u001b[0m\u001b[1;33m,\u001b[0m\u001b[1;36m3\u001b[0m\u001b[1;33m,\u001b[0m\u001b[1;33m]\u001b[0m\u001b[1;33m)\u001b[0m\u001b[1;33m\u001b[0m\u001b[1;33m\u001b[0m\u001b[0m\n\u001b[0m",
      "\u001b[1;31mNameError\u001b[0m: name 'sumofc' is not defined"
     ]
    }
   ],
   "source": [
    "sumofc([1,2,3,])"
   ]
  },
  {
   "cell_type": "code",
   "execution_count": 17,
   "metadata": {},
   "outputs": [
    {
     "data": {
      "image/png": "[encoded data removed]",
      "text/plain": [
       "<Figure size 432x288 with 1 Axes>"
      ]
     },
     "metadata": {
      "needs_background": "light"
     },
     "output_type": "display_data"
    }
   ],
   "source": [
    "x_values =range(1,11)\n",
    "y_values= []\n",
    "\n",
    "for i in x_values:\n",
    "    y_values.append(i*i)\n",
    "plt.plot(x_values,y_values)\n",
    "plt.show()"
   ]
  },
  {
   "cell_type": "code",
   "execution_count": 19,
   "metadata": {},
   "outputs": [
    {
     "data": {
      "text/plain": [
       "[1, 4, 9, 16, 25, 36, 49, 64, 81, 100]"
      ]
     },
     "execution_count": 19,
     "metadata": {},
     "output_type": "execute_result"
    }
   ],
   "source": [
    "#list comprehesion\n",
    "\n",
    "y_values=[i*i for i in range(1,11)] #=>map\n",
    "y_values"
   ]
  },
  {
   "cell_type": "code",
   "execution_count": 22,
   "metadata": {},
   "outputs": [
    {
     "data": {
      "text/plain": [
       "[2, 4, 6, 8, 10]"
      ]
     },
     "execution_count": 22,
     "metadata": {},
     "output_type": "execute_result"
    }
   ],
   "source": [
    "y_values = [i for i in range(1,11) if i%2==0 ]    #=>filter\n",
    "y_values"
   ]
  },
  {
   "cell_type": "code",
   "execution_count": 23,
   "metadata": {
    "collapsed": true
   },
   "outputs": [
    {
     "ename": "NameError",
     "evalue": "name 'x' is not defined",
     "output_type": "error",
     "traceback": [
      "\u001b[1;31m---------------------------------------------------------------------------\u001b[0m",
      "\u001b[1;31mNameError\u001b[0m                                 Traceback (most recent call last)",
      "\u001b[1;32m<ipython-input-23-19ccaabcbb36>\u001b[0m in \u001b[0;36m<module>\u001b[1;34m\u001b[0m\n\u001b[0;32m      1\u001b[0m \u001b[1;31m#compare\u001b[0m\u001b[1;33m\u001b[0m\u001b[1;33m\u001b[0m\u001b[1;33m\u001b[0m\u001b[0m\n\u001b[0;32m      2\u001b[0m \u001b[1;33m\u001b[0m\u001b[0m\n\u001b[1;32m----> 3\u001b[1;33m \u001b[0my\u001b[0m\u001b[1;33m=\u001b[0m\u001b[0mx\u001b[0m\u001b[1;33m\u001b[0m\u001b[1;33m\u001b[0m\u001b[0m\n\u001b[0m\u001b[0;32m      4\u001b[0m \u001b[0my\u001b[0m\u001b[1;33m=\u001b[0m\u001b[0mx\u001b[0m\u001b[1;33m^\u001b[0m\u001b[1;36m2\u001b[0m\u001b[1;33m\u001b[0m\u001b[1;33m\u001b[0m\u001b[0m\n\u001b[0;32m      5\u001b[0m \u001b[0my\u001b[0m\u001b[1;33m=\u001b[0m\u001b[0mx\u001b[0m\u001b[1;33m^\u001b[0m\u001b[1;36m3\u001b[0m\u001b[1;33m\u001b[0m\u001b[1;33m\u001b[0m\u001b[0m\n",
      "\u001b[1;31mNameError\u001b[0m: name 'x' is not defined"
     ]
    }
   ],
   "source": [
    "#compare\n",
    "\n",
    "y=x\n",
    "y=x^2\n",
    "y=x^3"
   ]
  },
  {
   "cell_type": "code",
   "execution_count": 242,
   "metadata": {},
   "outputs": [
    {
     "data": {
      "image/png": "[encoded data removed]",
      "text/plain": [
       "<Figure size 432x288 with 1 Axes>"
      ]
     },
     "metadata": {
      "needs_background": "light"
     },
     "output_type": "display_data"
    }
   ],
   "source": [
    "plt.plot(range(1,11),range(1,11),'g.--',label=\"linear curve\")\n",
    "plt.plot(range(1,11),[i*i for i in range(1,11)],'b.--',label=\"square curve\")\n",
    "plt.plot(range(1,11),[i*i*i for i in range(1,11)],'y.--',label=\"cubic curve\")\n",
    "plt.title(\"comparision of fuction\")\n",
    "plt.title(\"input\")\n",
    "plt.title(\"fuction of values\")\n",
    "plt.xticks(range(1,11))\n",
    "plt.yticks(range(0,1001,100))\n",
    "plt.legend()\n",
    "plt.grid()\n",
    "plt.show()"
   ]
  },
  {
   "cell_type": "code",
   "execution_count": 30,
   "metadata": {},
   "outputs": [],
   "source": [
    "import numpy as np\n",
    "no_of_simulation = int(1e5)\n",
    "values=[]\n",
    "for i in range(no_of_simulation):\n",
    "    dice1=np.random.randint(1,7)\n",
    "    dice2=np.random.randint(1,7)\n",
    "    values.append(dice1+dice2)"
   ]
  },
  {
   "cell_type": "code",
   "execution_count": 33,
   "metadata": {},
   "outputs": [
    {
     "data": {
      "image/png": "[encoded data removed]",
      "text/plain": [
       "<Figure size 432x288 with 1 Axes>"
      ]
     },
     "metadata": {
      "needs_background": "light"
     },
     "output_type": "display_data"
    }
   ],
   "source": [
    "\n",
    "plt.hist(values,bins=11)\n",
    "plt.xticks(range(2,13))\n",
    "plt.show()"
   ]
  },
  {
   "cell_type": "code",
   "execution_count": 35,
   "metadata": {},
   "outputs": [
    {
     "data": {
      "image/png": "[encoded data removed]",
      "text/plain": [
       "<Figure size 432x288 with 1 Axes>"
      ]
     },
     "metadata": {
      "needs_background": "light"
     },
     "output_type": "display_data"
    }
   ],
   "source": [
    "plt.bar(range(2,13),[values.count(i) for i in range (2,13)])\n",
    "plt.xticks(range(2,13))\n",
    "plt.show()"
   ]
  },
  {
   "cell_type": "code",
   "execution_count": 49,
   "metadata": {},
   "outputs": [],
   "source": [
    "c =[10,20,30,40,50]\n",
    "F=[9/5*i+32 for i in c]\n",
    " "
   ]
  },
  {
   "cell_type": "code",
   "execution_count": 51,
   "metadata": {},
   "outputs": [
    {
     "data": {
      "text/plain": [
       "[50.0, 68.0, 86.0, 104.0, 122.0]"
      ]
     },
     "execution_count": 51,
     "metadata": {},
     "output_type": "execute_result"
    }
   ],
   "source": [
    "F"
   ]
  },
  {
   "cell_type": "code",
   "execution_count": 235,
   "metadata": {},
   "outputs": [
    {
     "data": {
      "text/plain": [
       "5050"
      ]
     },
     "execution_count": 235,
     "metadata": {},
     "output_type": "execute_result"
    }
   ],
   "source": [
    "sum_of_all=sum([i for i in range(1,101) if i%1==0])\n",
    "sum_of_all"
   ]
  },
  {
   "cell_type": "code",
   "execution_count": 233,
   "metadata": {},
   "outputs": [
    {
     "data": {
      "text/plain": [
       "385"
      ]
     },
     "execution_count": 233,
     "metadata": {},
     "output_type": "execute_result"
    }
   ],
   "source": [
    "sum_of_squares=sum([i*i for i in range(1,11)] )\n",
    "sum_of_squares\n"
   ]
  },
  {
   "cell_type": "code",
   "execution_count": 224,
   "metadata": {},
   "outputs": [
    {
     "data": {
      "text/plain": [
       "55"
      ]
     },
     "execution_count": 224,
     "metadata": {},
     "output_type": "execute_result"
    }
   ],
   "source": [
    "sum(range(1,11))"
   ]
  },
  {
   "cell_type": "code",
   "execution_count": 225,
   "metadata": {},
   "outputs": [
    {
     "data": {
      "text/plain": [
       "3025"
      ]
     },
     "execution_count": 225,
     "metadata": {},
     "output_type": "execute_result"
    }
   ],
   "source": [
    "sum_of_cubes=sum([i**3 for i in range(1,11)] )\n",
    "sum_of_cubes\n"
   ]
  },
  {
   "cell_type": "code",
   "execution_count": 16,
   "metadata": {},
   "outputs": [],
   "source": [
    "# Drunken man walk\n",
    "\n",
    "# Man is at origin\n",
    "# he has 50% change of 1 step forward\n",
    "# he has 20% change of 1 step backward\n",
    "# he has 25% change of 2 steps left\n",
    "# he has 5% chance of 1 step right"
   ]
  },
  {
   "cell_type": "code",
   "execution_count": 11,
   "metadata": {},
   "outputs": [],
   "source": [
    "import numpy as np\n",
    "import matplotlib.pyplot as plt\n",
    "x=0\n",
    "y=0\n",
    "x_values=[]\n",
    "y_values=[]\n",
    "\n",
    "np.random.seed(7)\n",
    "\n",
    "for i in range(100):\n",
    "    x_values.append(x)\n",
    "    y_values.append(y)\n",
    "    prob =np.random.random()\n",
    "    if prob<=0.5:\n",
    "        y+=1\n",
    "    elif prob<=0.7:\n",
    "        y-=1\n",
    "    elif prob<=0.95:\n",
    "        x+=2\n",
    "    else:\n",
    "        x+=1\n",
    "x_values.append(x)\n",
    "y_values.append(y)"
   ]
  },
  {
   "cell_type": "code",
   "execution_count": 12,
   "metadata": {},
   "outputs": [
    {
     "data": {
      "image/png": "[encoded data removed]",
      "text/plain": [
       "<Figure size 432x288 with 1 Axes>"
      ]
     },
     "metadata": {
      "needs_background": "light"
     },
     "output_type": "display_data"
    }
   ],
   "source": [
    "plt.plot(x_values,y_values)\n",
    "plt.show()"
   ]
  },
  {
   "cell_type": "code",
   "execution_count": null,
   "metadata": {},
   "outputs": [],
   "source": [
    "#body mass index"
   ]
  },
  {
   "cell_type": "code",
   "execution_count": 21,
   "metadata": {},
   "outputs": [],
   "source": [
    "weight =[65,48,56,78,33,22]\n",
    "height=[1.50,1.56,1.6,1.8,1.9,1.7]"
   ]
  },
  {
   "cell_type": "code",
   "execution_count": 22,
   "metadata": {},
   "outputs": [],
   "source": [
    "import numpy as np"
   ]
  },
  {
   "cell_type": "code",
   "execution_count": 23,
   "metadata": {},
   "outputs": [],
   "source": [
    "np_weight=np.array(weight)\n",
    "np_height=np.array(height)\n"
   ]
  },
  {
   "cell_type": "code",
   "execution_count": 24,
   "metadata": {},
   "outputs": [
    {
     "data": {
      "text/plain": [
       "array([28.88888889, 19.72386588, 21.875     , 24.07407407,  9.14127424,\n",
       "        7.61245675])"
      ]
     },
     "execution_count": 24,
     "metadata": {},
     "output_type": "execute_result"
    }
   ],
   "source": [
    "np_weight/np_height**2"
   ]
  },
  {
   "cell_type": "code",
   "execution_count": 25,
   "metadata": {},
   "outputs": [
    {
     "data": {
      "text/plain": [
       "array([65, 48, 56, 78, 33, 22])"
      ]
     },
     "execution_count": 25,
     "metadata": {},
     "output_type": "execute_result"
    }
   ],
   "source": [
    "np_weight"
   ]
  },
  {
   "cell_type": "code",
   "execution_count": 26,
   "metadata": {},
   "outputs": [
    {
     "data": {
      "text/plain": [
       "array([1.5 , 1.56, 1.6 , 1.8 , 1.9 , 1.7 ])"
      ]
     },
     "execution_count": 26,
     "metadata": {},
     "output_type": "execute_result"
    }
   ],
   "source": [
    "np_height"
   ]
  },
  {
   "cell_type": "code",
   "execution_count": 27,
   "metadata": {},
   "outputs": [
    {
     "data": {
      "text/plain": [
       "array([28.88888889, 19.72386588, 21.875     , 24.07407407,  9.14127424,\n",
       "        7.61245675])"
      ]
     },
     "execution_count": 27,
     "metadata": {},
     "output_type": "execute_result"
    }
   ],
   "source": [
    "bmi=np_weight/np_height**2\n",
    "bmi"
   ]
  },
  {
   "cell_type": "code",
   "execution_count": 28,
   "metadata": {},
   "outputs": [
    {
     "data": {
      "text/plain": [
       "array([ True, False,  True,  True, False, False])"
      ]
     },
     "execution_count": 28,
     "metadata": {},
     "output_type": "execute_result"
    }
   ],
   "source": [
    "bmi>20"
   ]
  },
  {
   "cell_type": "code",
   "execution_count": 29,
   "metadata": {},
   "outputs": [
    {
     "data": {
      "text/plain": [
       "array([28.88888889, 21.875     , 24.07407407])"
      ]
     },
     "execution_count": 29,
     "metadata": {},
     "output_type": "execute_result"
    }
   ],
   "source": [
    "bmi[bmi>20]"
   ]
  },
  {
   "cell_type": "code",
   "execution_count": 30,
   "metadata": {},
   "outputs": [
    {
     "data": {
      "text/plain": [
       "array([19.72386588,  9.14127424,  7.61245675])"
      ]
     },
     "execution_count": 30,
     "metadata": {},
     "output_type": "execute_result"
    }
   ],
   "source": [
    "bmi[bmi<20]"
   ]
  },
  {
   "cell_type": "code",
   "execution_count": 31,
   "metadata": {},
   "outputs": [],
   "source": [
    "array=np.array(range(1,101))"
   ]
  },
  {
   "cell_type": "code",
   "execution_count": 32,
   "metadata": {},
   "outputs": [
    {
     "data": {
      "text/plain": [
       "array([  1,   2,   3,   4,   5,   6,   7,   8,   9,  10,  11,  12,  13,\n",
       "        14,  15,  16,  17,  18,  19,  20,  21,  22,  23,  24,  25,  26,\n",
       "        27,  28,  29,  30,  31,  32,  33,  34,  35,  36,  37,  38,  39,\n",
       "        40,  41,  42,  43,  44,  45,  46,  47,  48,  49,  50,  51,  52,\n",
       "        53,  54,  55,  56,  57,  58,  59,  60,  61,  62,  63,  64,  65,\n",
       "        66,  67,  68,  69,  70,  71,  72,  73,  74,  75,  76,  77,  78,\n",
       "        79,  80,  81,  82,  83,  84,  85,  86,  87,  88,  89,  90,  91,\n",
       "        92,  93,  94,  95,  96,  97,  98,  99, 100])"
      ]
     },
     "execution_count": 32,
     "metadata": {},
     "output_type": "execute_result"
    }
   ],
   "source": [
    "array"
   ]
  },
  {
   "cell_type": "code",
   "execution_count": 33,
   "metadata": {},
   "outputs": [
    {
     "data": {
      "text/plain": [
       "array([[  1,   2,   3,   4,   5,   6,   7,   8,   9,  10],\n",
       "       [ 11,  12,  13,  14,  15,  16,  17,  18,  19,  20],\n",
       "       [ 21,  22,  23,  24,  25,  26,  27,  28,  29,  30],\n",
       "       [ 31,  32,  33,  34,  35,  36,  37,  38,  39,  40],\n",
       "       [ 41,  42,  43,  44,  45,  46,  47,  48,  49,  50],\n",
       "       [ 51,  52,  53,  54,  55,  56,  57,  58,  59,  60],\n",
       "       [ 61,  62,  63,  64,  65,  66,  67,  68,  69,  70],\n",
       "       [ 71,  72,  73,  74,  75,  76,  77,  78,  79,  80],\n",
       "       [ 81,  82,  83,  84,  85,  86,  87,  88,  89,  90],\n",
       "       [ 91,  92,  93,  94,  95,  96,  97,  98,  99, 100]])"
      ]
     },
     "execution_count": 33,
     "metadata": {},
     "output_type": "execute_result"
    }
   ],
   "source": [
    "array.reshape(10,10)"
   ]
  },
  {
   "cell_type": "code",
   "execution_count": 34,
   "metadata": {},
   "outputs": [
    {
     "data": {
      "text/plain": [
       "array([[  1,   2,   3,   4,   5],\n",
       "       [  6,   7,   8,   9,  10],\n",
       "       [ 11,  12,  13,  14,  15],\n",
       "       [ 16,  17,  18,  19,  20],\n",
       "       [ 21,  22,  23,  24,  25],\n",
       "       [ 26,  27,  28,  29,  30],\n",
       "       [ 31,  32,  33,  34,  35],\n",
       "       [ 36,  37,  38,  39,  40],\n",
       "       [ 41,  42,  43,  44,  45],\n",
       "       [ 46,  47,  48,  49,  50],\n",
       "       [ 51,  52,  53,  54,  55],\n",
       "       [ 56,  57,  58,  59,  60],\n",
       "       [ 61,  62,  63,  64,  65],\n",
       "       [ 66,  67,  68,  69,  70],\n",
       "       [ 71,  72,  73,  74,  75],\n",
       "       [ 76,  77,  78,  79,  80],\n",
       "       [ 81,  82,  83,  84,  85],\n",
       "       [ 86,  87,  88,  89,  90],\n",
       "       [ 91,  92,  93,  94,  95],\n",
       "       [ 96,  97,  98,  99, 100]])"
      ]
     },
     "execution_count": 34,
     "metadata": {},
     "output_type": "execute_result"
    }
   ],
   "source": [
    "array.reshape(-1,5)"
   ]
  },
  {
   "cell_type": "code",
   "execution_count": 35,
   "metadata": {},
   "outputs": [],
   "source": [
    "array1=array.reshape(5,5,4)"
   ]
  },
  {
   "cell_type": "code",
   "execution_count": 36,
   "metadata": {},
   "outputs": [
    {
     "data": {
      "text/plain": [
       "array([[[  1,   2,   3,   4],\n",
       "        [  5,   6,   7,   8],\n",
       "        [  9,  10,  11,  12],\n",
       "        [ 13,  14,  15,  16],\n",
       "        [ 17,  18,  19,  20]],\n",
       "\n",
       "       [[ 21,  22,  23,  24],\n",
       "        [ 25,  26,  27,  28],\n",
       "        [ 29,  30,  31,  32],\n",
       "        [ 33,  34,  35,  36],\n",
       "        [ 37,  38,  39,  40]],\n",
       "\n",
       "       [[ 41,  42,  43,  44],\n",
       "        [ 45,  46,  47,  48],\n",
       "        [ 49,  50,  51,  52],\n",
       "        [ 53,  54,  55,  56],\n",
       "        [ 57,  58,  59,  60]],\n",
       "\n",
       "       [[ 61,  62,  63,  64],\n",
       "        [ 65,  66,  67,  68],\n",
       "        [ 69,  70,  71,  72],\n",
       "        [ 73,  74,  75,  76],\n",
       "        [ 77,  78,  79,  80]],\n",
       "\n",
       "       [[ 81,  82,  83,  84],\n",
       "        [ 85,  86,  87,  88],\n",
       "        [ 89,  90,  91,  92],\n",
       "        [ 93,  94,  95,  96],\n",
       "        [ 97,  98,  99, 100]]])"
      ]
     },
     "execution_count": 36,
     "metadata": {},
     "output_type": "execute_result"
    }
   ],
   "source": [
    "array1"
   ]
  },
  {
   "cell_type": "code",
   "execution_count": 37,
   "metadata": {},
   "outputs": [
    {
     "data": {
      "text/plain": [
       "array([  1,   2,   3,   4,   5,   6,   7,   8,   9,  10,  11,  12,  13,\n",
       "        14,  15,  16,  17,  18,  19,  20,  21,  22,  23,  24,  25,  26,\n",
       "        27,  28,  29,  30,  31,  32,  33,  34,  35,  36,  37,  38,  39,\n",
       "        40,  41,  42,  43,  44,  45,  46,  47,  48,  49,  50,  51,  52,\n",
       "        53,  54,  55,  56,  57,  58,  59,  60,  61,  62,  63,  64,  65,\n",
       "        66,  67,  68,  69,  70,  71,  72,  73,  74,  75,  76,  77,  78,\n",
       "        79,  80,  81,  82,  83,  84,  85,  86,  87,  88,  89,  90,  91,\n",
       "        92,  93,  94,  95,  96,  97,  98,  99, 100])"
      ]
     },
     "execution_count": 37,
     "metadata": {},
     "output_type": "execute_result"
    }
   ],
   "source": [
    "array1.flatten()"
   ]
  },
  {
   "cell_type": "code",
   "execution_count": 38,
   "metadata": {},
   "outputs": [],
   "source": [
    "array2=array1.reshape(20,5)"
   ]
  },
  {
   "cell_type": "code",
   "execution_count": 39,
   "metadata": {},
   "outputs": [
    {
     "data": {
      "text/plain": [
       "array([[  1,   2,   3,   4,   5],\n",
       "       [  6,   7,   8,   9,  10],\n",
       "       [ 11,  12,  13,  14,  15],\n",
       "       [ 16,  17,  18,  19,  20],\n",
       "       [ 21,  22,  23,  24,  25],\n",
       "       [ 26,  27,  28,  29,  30],\n",
       "       [ 31,  32,  33,  34,  35],\n",
       "       [ 36,  37,  38,  39,  40],\n",
       "       [ 41,  42,  43,  44,  45],\n",
       "       [ 46,  47,  48,  49,  50],\n",
       "       [ 51,  52,  53,  54,  55],\n",
       "       [ 56,  57,  58,  59,  60],\n",
       "       [ 61,  62,  63,  64,  65],\n",
       "       [ 66,  67,  68,  69,  70],\n",
       "       [ 71,  72,  73,  74,  75],\n",
       "       [ 76,  77,  78,  79,  80],\n",
       "       [ 81,  82,  83,  84,  85],\n",
       "       [ 86,  87,  88,  89,  90],\n",
       "       [ 91,  92,  93,  94,  95],\n",
       "       [ 96,  97,  98,  99, 100]])"
      ]
     },
     "execution_count": 39,
     "metadata": {},
     "output_type": "execute_result"
    }
   ],
   "source": [
    "array2"
   ]
  },
  {
   "cell_type": "code",
   "execution_count": 40,
   "metadata": {},
   "outputs": [
    {
     "data": {
      "text/plain": [
       "24"
      ]
     },
     "execution_count": 40,
     "metadata": {},
     "output_type": "execute_result"
    }
   ],
   "source": [
    "array2[4][3]"
   ]
  },
  {
   "cell_type": "code",
   "execution_count": 41,
   "metadata": {},
   "outputs": [
    {
     "data": {
      "text/plain": [
       "24"
      ]
     },
     "execution_count": 41,
     "metadata": {},
     "output_type": "execute_result"
    }
   ],
   "source": [
    "array2[4,3]"
   ]
  },
  {
   "cell_type": "code",
   "execution_count": 42,
   "metadata": {},
   "outputs": [
    {
     "data": {
      "text/plain": [
       "array([[11, 12, 13, 14, 15],\n",
       "       [16, 17, 18, 19, 20]])"
      ]
     },
     "execution_count": 42,
     "metadata": {},
     "output_type": "execute_result"
    }
   ],
   "source": [
    "array2[2:4,:]"
   ]
  },
  {
   "cell_type": "code",
   "execution_count": 43,
   "metadata": {},
   "outputs": [
    {
     "data": {
      "text/plain": [
       "array([[20]])"
      ]
     },
     "execution_count": 43,
     "metadata": {},
     "output_type": "execute_result"
    }
   ],
   "source": [
    "array2[3:4,4:8]"
   ]
  },
  {
   "cell_type": "code",
   "execution_count": 44,
   "metadata": {},
   "outputs": [
    {
     "data": {
      "text/plain": [
       "array([[17, 19, 20],\n",
       "       [22, 24, 25],\n",
       "       [27, 29, 30],\n",
       "       [32, 34, 35],\n",
       "       [37, 39, 40],\n",
       "       [42, 44, 45]])"
      ]
     },
     "execution_count": 44,
     "metadata": {},
     "output_type": "execute_result"
    }
   ],
   "source": [
    "array2[3:9,[1,3,4]]"
   ]
  },
  {
   "cell_type": "code",
   "execution_count": 146,
   "metadata": {},
   "outputs": [],
   "source": [
    "import numpy as np\n",
    "import matplotlib.pyplot as plt\n",
    "import pandas as pd"
   ]
  },
  {
   "cell_type": "code",
   "execution_count": 129,
   "metadata": {},
   "outputs": [],
   "source": [
    "image=np.array(plt.imread('Desktop/bird.jpg'))"
   ]
  },
  {
   "cell_type": "code",
   "execution_count": 130,
   "metadata": {},
   "outputs": [
    {
     "data": {
      "image/png": "[encoded data removed]",
      "text/plain": [
       "<Figure size 432x288 with 1 Axes>"
      ]
     },
     "metadata": {
      "needs_background": "light"
     },
     "output_type": "display_data"
    }
   ],
   "source": [
    "plt.imshow(image)\n",
    "plt.show()\n"
   ]
  },
  {
   "cell_type": "code",
   "execution_count": 69,
   "metadata": {},
   "outputs": [
    {
     "data": {
      "text/plain": [
       "(640, 1024, 3)"
      ]
     },
     "execution_count": 69,
     "metadata": {},
     "output_type": "execute_result"
    }
   ],
   "source": [
    "#red blue green\n",
    "image.shape   "
   ]
  },
  {
   "cell_type": "code",
   "execution_count": 70,
   "metadata": {},
   "outputs": [
    {
     "data": {
      "text/plain": [
       "array([136, 139,  68], dtype=uint8)"
      ]
     },
     "execution_count": 70,
     "metadata": {},
     "output_type": "execute_result"
    }
   ],
   "source": [
    "image[0,0]"
   ]
  },
  {
   "cell_type": "code",
   "execution_count": 133,
   "metadata": {},
   "outputs": [],
   "source": [
    "image[:,:,0]=0"
   ]
  },
  {
   "cell_type": "code",
   "execution_count": 124,
   "metadata": {},
   "outputs": [],
   "source": [
    "for i in range(image.shape[0]):\n",
    "    for j in range(image.shape[1]):\n",
    "        image[i,j]=max(image[i,j])"
   ]
  },
  {
   "cell_type": "code",
   "execution_count": 76,
   "metadata": {},
   "outputs": [
    {
     "data": {
      "image/png": "[encoded data removed]",
      "text/plain": [
       "<Figure size 432x288 with 1 Axes>"
      ]
     },
     "metadata": {
      "needs_background": "light"
     },
     "output_type": "display_data"
    }
   ],
   "source": [
    "plt.imshow(image)\n",
    "plt.show()"
   ]
  },
  {
   "cell_type": "code",
   "execution_count": 77,
   "metadata": {},
   "outputs": [
    {
     "data": {
      "text/plain": [
       "(640, 1024, 3)"
      ]
     },
     "execution_count": 77,
     "metadata": {},
     "output_type": "execute_result"
    }
   ],
   "source": [
    "image.shape"
   ]
  },
  {
   "cell_type": "code",
   "execution_count": 78,
   "metadata": {},
   "outputs": [
    {
     "data": {
      "text/plain": [
       "array([139, 139, 139], dtype=uint8)"
      ]
     },
     "execution_count": 78,
     "metadata": {},
     "output_type": "execute_result"
    }
   ],
   "source": [
    "image[0,0]"
   ]
  },
  {
   "cell_type": "code",
   "execution_count": 138,
   "metadata": {},
   "outputs": [],
   "source": [
    "image[100:500,300:800]=[1,1,1]"
   ]
  },
  {
   "cell_type": "code",
   "execution_count": 139,
   "metadata": {},
   "outputs": [
    {
     "data": {
      "image/png": "[encoded data removed]",
      "text/plain": [
       "<Figure size 432x288 with 1 Axes>"
      ]
     },
     "metadata": {
      "needs_background": "light"
     },
     "output_type": "display_data"
    }
   ],
   "source": [
    "plt.imshow(image)\n",
    "plt.show()"
   ]
  },
  {
   "cell_type": "code",
   "execution_count": 140,
   "metadata": {},
   "outputs": [
    {
     "data": {
      "text/plain": [
       "array([ 1,  2,  3,  4,  5,  6,  7,  8,  9, 10])"
      ]
     },
     "execution_count": 140,
     "metadata": {},
     "output_type": "execute_result"
    }
   ],
   "source": [
    "array=np.array(range(1,11))\n",
    "array"
   ]
  },
  {
   "cell_type": "code",
   "execution_count": 141,
   "metadata": {},
   "outputs": [
    {
     "data": {
      "text/plain": [
       "5.5"
      ]
     },
     "execution_count": 141,
     "metadata": {},
     "output_type": "execute_result"
    }
   ],
   "source": [
    "np.mean(array)"
   ]
  },
  {
   "cell_type": "code",
   "execution_count": 143,
   "metadata": {},
   "outputs": [
    {
     "data": {
      "text/plain": [
       "5.5"
      ]
     },
     "execution_count": 143,
     "metadata": {},
     "output_type": "execute_result"
    }
   ],
   "source": [
    "np.median(array)"
   ]
  },
  {
   "cell_type": "code",
   "execution_count": 144,
   "metadata": {},
   "outputs": [
    {
     "data": {
      "text/plain": [
       "2.8722813232690143"
      ]
     },
     "execution_count": 144,
     "metadata": {},
     "output_type": "execute_result"
    }
   ],
   "source": [
    "np.std(array)"
   ]
  },
  {
   "cell_type": "code",
   "execution_count": 213,
   "metadata": {},
   "outputs": [],
   "source": [
    "df=pd.read_excel('Desktop/Employe.xlsx')"
   ]
  },
  {
   "cell_type": "code",
   "execution_count": 214,
   "metadata": {
    "scrolled": true
   },
   "outputs": [
    {
     "data": {
      "text/html": [
       "<div>\n",
       "<style scoped>\n",
       "    .dataframe tbody tr th:only-of-type {\n",
       "        vertical-align: middle;\n",
       "    }\n",
       "\n",
       "    .dataframe tbody tr th {\n",
       "        vertical-align: top;\n",
       "    }\n",
       "\n",
       "    .dataframe thead th {\n",
       "        text-align: right;\n",
       "    }\n",
       "</style>\n",
       "<table border=\"1\" class=\"dataframe\">\n",
       "  <thead>\n",
       "    <tr style=\"text-align: right;\">\n",
       "      <th></th>\n",
       "      <th>Unnamed: 0</th>\n",
       "      <th>Sr. No.</th>\n",
       "      <th>Employee ID</th>\n",
       "      <th>Employee Name</th>\n",
       "      <th>Department</th>\n",
       "      <th>Designation</th>\n",
       "      <th>Start Date</th>\n",
       "      <th>End Date</th>\n",
       "      <th>Days</th>\n",
       "      <th>Start Date.1</th>\n",
       "      <th>End Date.1</th>\n",
       "      <th>Re-Training</th>\n",
       "      <th>Skills To Upgrade</th>\n",
       "      <th>Type</th>\n",
       "    </tr>\n",
       "  </thead>\n",
       "  <tbody>\n",
       "    <tr>\n",
       "      <th>0</th>\n",
       "      <td>NaN</td>\n",
       "      <td>NaN</td>\n",
       "      <td>NaN</td>\n",
       "      <td>NaN</td>\n",
       "      <td>NaN</td>\n",
       "      <td>NaN</td>\n",
       "      <td>from</td>\n",
       "      <td>until</td>\n",
       "      <td>from</td>\n",
       "      <td>from</td>\n",
       "      <td>until</td>\n",
       "      <td>Days</td>\n",
       "      <td>NaN</td>\n",
       "      <td>NaN</td>\n",
       "    </tr>\n",
       "    <tr>\n",
       "      <th>1</th>\n",
       "      <td>NaN</td>\n",
       "      <td>1.0</td>\n",
       "      <td>BAC12345</td>\n",
       "      <td>Raj Sharma</td>\n",
       "      <td>Administration</td>\n",
       "      <td>Admin Assist.</td>\n",
       "      <td>2019-05-02 00:00:00</td>\n",
       "      <td>2019-05-05 00:00:00</td>\n",
       "      <td>15</td>\n",
       "      <td>2019-05-11 00:00:00</td>\n",
       "      <td>2019-05-12 00:00:00</td>\n",
       "      <td>4</td>\n",
       "      <td>Call Management</td>\n",
       "      <td>Indoor</td>\n",
       "    </tr>\n",
       "    <tr>\n",
       "      <th>2</th>\n",
       "      <td>NaN</td>\n",
       "      <td>2.0</td>\n",
       "      <td>BAC12346</td>\n",
       "      <td>Ravi Gupta</td>\n",
       "      <td>Marketing</td>\n",
       "      <td>Telecaller</td>\n",
       "      <td>2019-05-03 00:00:00</td>\n",
       "      <td>2019-05-16 00:00:00</td>\n",
       "      <td>2</td>\n",
       "      <td>2019-05-24 00:00:00</td>\n",
       "      <td>2019-05-27 00:00:00</td>\n",
       "      <td>1</td>\n",
       "      <td>Customer Support</td>\n",
       "      <td>Indoor</td>\n",
       "    </tr>\n",
       "    <tr>\n",
       "      <th>3</th>\n",
       "      <td>NaN</td>\n",
       "      <td>3.0</td>\n",
       "      <td>BAC12347</td>\n",
       "      <td>Ashi Pura</td>\n",
       "      <td>Marketing</td>\n",
       "      <td>Telecaller</td>\n",
       "      <td>2019-05-04 00:00:00</td>\n",
       "      <td>2019-05-04 00:00:00</td>\n",
       "      <td>5</td>\n",
       "      <td>2019-05-08 00:00:00</td>\n",
       "      <td>2019-05-08 00:00:00</td>\n",
       "      <td>1</td>\n",
       "      <td>Customer Support</td>\n",
       "      <td>Indoor</td>\n",
       "    </tr>\n",
       "    <tr>\n",
       "      <th>4</th>\n",
       "      <td>NaN</td>\n",
       "      <td>4.0</td>\n",
       "      <td>BAC12348</td>\n",
       "      <td>Ankita</td>\n",
       "      <td>Sales</td>\n",
       "      <td>Team Leader</td>\n",
       "      <td>2019-05-05 00:00:00</td>\n",
       "      <td>2019-05-08 00:00:00</td>\n",
       "      <td>5</td>\n",
       "      <td>2019-05-09 00:00:00</td>\n",
       "      <td>2019-05-09 00:00:00</td>\n",
       "      <td>3</td>\n",
       "      <td>Team Spirit</td>\n",
       "      <td>Outdoor</td>\n",
       "    </tr>\n",
       "    <tr>\n",
       "      <th>5</th>\n",
       "      <td>NaN</td>\n",
       "      <td>5.0</td>\n",
       "      <td>BAC12349</td>\n",
       "      <td>Sujeet</td>\n",
       "      <td>Sales</td>\n",
       "      <td>Sales Rep</td>\n",
       "      <td>2019-05-06 00:00:00</td>\n",
       "      <td>2019-05-09 00:00:00</td>\n",
       "      <td>5</td>\n",
       "      <td>NaN</td>\n",
       "      <td>NaN</td>\n",
       "      <td>7</td>\n",
       "      <td>Sales Pitch</td>\n",
       "      <td>Outdoor</td>\n",
       "    </tr>\n",
       "    <tr>\n",
       "      <th>6</th>\n",
       "      <td>NaN</td>\n",
       "      <td>6.0</td>\n",
       "      <td>BAC12350</td>\n",
       "      <td>Abhinandan</td>\n",
       "      <td>Marketing</td>\n",
       "      <td>Telecaller</td>\n",
       "      <td>2019-05-07 00:00:00</td>\n",
       "      <td>2019-05-10 00:00:00</td>\n",
       "      <td>5</td>\n",
       "      <td>NaN</td>\n",
       "      <td>NaN</td>\n",
       "      <td>4</td>\n",
       "      <td>Customer Support</td>\n",
       "      <td>Indoor</td>\n",
       "    </tr>\n",
       "    <tr>\n",
       "      <th>7</th>\n",
       "      <td>NaN</td>\n",
       "      <td>7.0</td>\n",
       "      <td>BAC12351</td>\n",
       "      <td>Gurukrupa</td>\n",
       "      <td>Sales</td>\n",
       "      <td>Sales Rep</td>\n",
       "      <td>NaN</td>\n",
       "      <td>2019-05-11 00:00:00</td>\n",
       "      <td>NaN</td>\n",
       "      <td>NaN</td>\n",
       "      <td>NaN</td>\n",
       "      <td>NaN</td>\n",
       "      <td>Sales Pitch</td>\n",
       "      <td>Outdoor</td>\n",
       "    </tr>\n",
       "    <tr>\n",
       "      <th>8</th>\n",
       "      <td>NaN</td>\n",
       "      <td>8.0</td>\n",
       "      <td>NaN</td>\n",
       "      <td>NaN</td>\n",
       "      <td>NaN</td>\n",
       "      <td>NaN</td>\n",
       "      <td>NaN</td>\n",
       "      <td>NaN</td>\n",
       "      <td>NaN</td>\n",
       "      <td>NaN</td>\n",
       "      <td>NaN</td>\n",
       "      <td>NaN</td>\n",
       "      <td>NaN</td>\n",
       "      <td>NaN</td>\n",
       "    </tr>\n",
       "    <tr>\n",
       "      <th>9</th>\n",
       "      <td>NaN</td>\n",
       "      <td>9.0</td>\n",
       "      <td>NaN</td>\n",
       "      <td>NaN</td>\n",
       "      <td>NaN</td>\n",
       "      <td>NaN</td>\n",
       "      <td>NaN</td>\n",
       "      <td>NaN</td>\n",
       "      <td>NaN</td>\n",
       "      <td>NaN</td>\n",
       "      <td>NaN</td>\n",
       "      <td>NaN</td>\n",
       "      <td>NaN</td>\n",
       "      <td>NaN</td>\n",
       "    </tr>\n",
       "    <tr>\n",
       "      <th>10</th>\n",
       "      <td>NaN</td>\n",
       "      <td>10.0</td>\n",
       "      <td>NaN</td>\n",
       "      <td>NaN</td>\n",
       "      <td>NaN</td>\n",
       "      <td>NaN</td>\n",
       "      <td>NaN</td>\n",
       "      <td>NaN</td>\n",
       "      <td>NaN</td>\n",
       "      <td>NaN</td>\n",
       "      <td>NaN</td>\n",
       "      <td>NaN</td>\n",
       "      <td>NaN</td>\n",
       "      <td>NaN</td>\n",
       "    </tr>\n",
       "    <tr>\n",
       "      <th>11</th>\n",
       "      <td>NaN</td>\n",
       "      <td>11.0</td>\n",
       "      <td>NaN</td>\n",
       "      <td>NaN</td>\n",
       "      <td>NaN</td>\n",
       "      <td>NaN</td>\n",
       "      <td>NaN</td>\n",
       "      <td>NaN</td>\n",
       "      <td>NaN</td>\n",
       "      <td>NaN</td>\n",
       "      <td>NaN</td>\n",
       "      <td>NaN</td>\n",
       "      <td>NaN</td>\n",
       "      <td>NaN</td>\n",
       "    </tr>\n",
       "    <tr>\n",
       "      <th>12</th>\n",
       "      <td>NaN</td>\n",
       "      <td>12.0</td>\n",
       "      <td>NaN</td>\n",
       "      <td>NaN</td>\n",
       "      <td>NaN</td>\n",
       "      <td>NaN</td>\n",
       "      <td>NaN</td>\n",
       "      <td>NaN</td>\n",
       "      <td>NaN</td>\n",
       "      <td>NaN</td>\n",
       "      <td>NaN</td>\n",
       "      <td>NaN</td>\n",
       "      <td>NaN</td>\n",
       "      <td>NaN</td>\n",
       "    </tr>\n",
       "    <tr>\n",
       "      <th>13</th>\n",
       "      <td>NaN</td>\n",
       "      <td>13.0</td>\n",
       "      <td>NaN</td>\n",
       "      <td>NaN</td>\n",
       "      <td>NaN</td>\n",
       "      <td>NaN</td>\n",
       "      <td>NaN</td>\n",
       "      <td>NaN</td>\n",
       "      <td>NaN</td>\n",
       "      <td>NaN</td>\n",
       "      <td>NaN</td>\n",
       "      <td>NaN</td>\n",
       "      <td>NaN</td>\n",
       "      <td>NaN</td>\n",
       "    </tr>\n",
       "    <tr>\n",
       "      <th>14</th>\n",
       "      <td>NaN</td>\n",
       "      <td>14.0</td>\n",
       "      <td>NaN</td>\n",
       "      <td>NaN</td>\n",
       "      <td>NaN</td>\n",
       "      <td>NaN</td>\n",
       "      <td>NaN</td>\n",
       "      <td>NaN</td>\n",
       "      <td>NaN</td>\n",
       "      <td>NaN</td>\n",
       "      <td>NaN</td>\n",
       "      <td>NaN</td>\n",
       "      <td>NaN</td>\n",
       "      <td>NaN</td>\n",
       "    </tr>\n",
       "    <tr>\n",
       "      <th>15</th>\n",
       "      <td>NaN</td>\n",
       "      <td>15.0</td>\n",
       "      <td>NaN</td>\n",
       "      <td>NaN</td>\n",
       "      <td>NaN</td>\n",
       "      <td>NaN</td>\n",
       "      <td>NaN</td>\n",
       "      <td>NaN</td>\n",
       "      <td>NaN</td>\n",
       "      <td>NaN</td>\n",
       "      <td>NaN</td>\n",
       "      <td>NaN</td>\n",
       "      <td>NaN</td>\n",
       "      <td>NaN</td>\n",
       "    </tr>\n",
       "    <tr>\n",
       "      <th>16</th>\n",
       "      <td>NaN</td>\n",
       "      <td>16.0</td>\n",
       "      <td>NaN</td>\n",
       "      <td>NaN</td>\n",
       "      <td>NaN</td>\n",
       "      <td>NaN</td>\n",
       "      <td>NaN</td>\n",
       "      <td>NaN</td>\n",
       "      <td>NaN</td>\n",
       "      <td>NaN</td>\n",
       "      <td>NaN</td>\n",
       "      <td>NaN</td>\n",
       "      <td>NaN</td>\n",
       "      <td>NaN</td>\n",
       "    </tr>\n",
       "    <tr>\n",
       "      <th>17</th>\n",
       "      <td>NaN</td>\n",
       "      <td>17.0</td>\n",
       "      <td>NaN</td>\n",
       "      <td>NaN</td>\n",
       "      <td>NaN</td>\n",
       "      <td>NaN</td>\n",
       "      <td>NaN</td>\n",
       "      <td>NaN</td>\n",
       "      <td>NaN</td>\n",
       "      <td>NaN</td>\n",
       "      <td>NaN</td>\n",
       "      <td>NaN</td>\n",
       "      <td>NaN</td>\n",
       "      <td>NaN</td>\n",
       "    </tr>\n",
       "    <tr>\n",
       "      <th>18</th>\n",
       "      <td>NaN</td>\n",
       "      <td>18.0</td>\n",
       "      <td>NaN</td>\n",
       "      <td>NaN</td>\n",
       "      <td>NaN</td>\n",
       "      <td>NaN</td>\n",
       "      <td>NaN</td>\n",
       "      <td>NaN</td>\n",
       "      <td>NaN</td>\n",
       "      <td>NaN</td>\n",
       "      <td>NaN</td>\n",
       "      <td>NaN</td>\n",
       "      <td>NaN</td>\n",
       "      <td>NaN</td>\n",
       "    </tr>\n",
       "    <tr>\n",
       "      <th>19</th>\n",
       "      <td>NaN</td>\n",
       "      <td>19.0</td>\n",
       "      <td>NaN</td>\n",
       "      <td>NaN</td>\n",
       "      <td>NaN</td>\n",
       "      <td>NaN</td>\n",
       "      <td>NaN</td>\n",
       "      <td>NaN</td>\n",
       "      <td>NaN</td>\n",
       "      <td>NaN</td>\n",
       "      <td>NaN</td>\n",
       "      <td>NaN</td>\n",
       "      <td>NaN</td>\n",
       "      <td>NaN</td>\n",
       "    </tr>\n",
       "    <tr>\n",
       "      <th>20</th>\n",
       "      <td>NaN</td>\n",
       "      <td>20.0</td>\n",
       "      <td>NaN</td>\n",
       "      <td>NaN</td>\n",
       "      <td>NaN</td>\n",
       "      <td>NaN</td>\n",
       "      <td>NaN</td>\n",
       "      <td>NaN</td>\n",
       "      <td>NaN</td>\n",
       "      <td>NaN</td>\n",
       "      <td>NaN</td>\n",
       "      <td>NaN</td>\n",
       "      <td>NaN</td>\n",
       "      <td>NaN</td>\n",
       "    </tr>\n",
       "    <tr>\n",
       "      <th>21</th>\n",
       "      <td>NaN</td>\n",
       "      <td>21.0</td>\n",
       "      <td>NaN</td>\n",
       "      <td>NaN</td>\n",
       "      <td>NaN</td>\n",
       "      <td>NaN</td>\n",
       "      <td>NaN</td>\n",
       "      <td>NaN</td>\n",
       "      <td>NaN</td>\n",
       "      <td>NaN</td>\n",
       "      <td>NaN</td>\n",
       "      <td>NaN</td>\n",
       "      <td>NaN</td>\n",
       "      <td>NaN</td>\n",
       "    </tr>\n",
       "    <tr>\n",
       "      <th>22</th>\n",
       "      <td>NaN</td>\n",
       "      <td>22.0</td>\n",
       "      <td>NaN</td>\n",
       "      <td>NaN</td>\n",
       "      <td>NaN</td>\n",
       "      <td>NaN</td>\n",
       "      <td>NaN</td>\n",
       "      <td>NaN</td>\n",
       "      <td>NaN</td>\n",
       "      <td>NaN</td>\n",
       "      <td>NaN</td>\n",
       "      <td>NaN</td>\n",
       "      <td>NaN</td>\n",
       "      <td>NaN</td>\n",
       "    </tr>\n",
       "    <tr>\n",
       "      <th>23</th>\n",
       "      <td>NaN</td>\n",
       "      <td>23.0</td>\n",
       "      <td>NaN</td>\n",
       "      <td>NaN</td>\n",
       "      <td>NaN</td>\n",
       "      <td>NaN</td>\n",
       "      <td>NaN</td>\n",
       "      <td>NaN</td>\n",
       "      <td>NaN</td>\n",
       "      <td>NaN</td>\n",
       "      <td>NaN</td>\n",
       "      <td>NaN</td>\n",
       "      <td>NaN</td>\n",
       "      <td>NaN</td>\n",
       "    </tr>\n",
       "    <tr>\n",
       "      <th>24</th>\n",
       "      <td>NaN</td>\n",
       "      <td>24.0</td>\n",
       "      <td>NaN</td>\n",
       "      <td>NaN</td>\n",
       "      <td>NaN</td>\n",
       "      <td>NaN</td>\n",
       "      <td>NaN</td>\n",
       "      <td>NaN</td>\n",
       "      <td>NaN</td>\n",
       "      <td>NaN</td>\n",
       "      <td>NaN</td>\n",
       "      <td>NaN</td>\n",
       "      <td>NaN</td>\n",
       "      <td>NaN</td>\n",
       "    </tr>\n",
       "    <tr>\n",
       "      <th>25</th>\n",
       "      <td>NaN</td>\n",
       "      <td>25.0</td>\n",
       "      <td>NaN</td>\n",
       "      <td>NaN</td>\n",
       "      <td>NaN</td>\n",
       "      <td>NaN</td>\n",
       "      <td>NaN</td>\n",
       "      <td>NaN</td>\n",
       "      <td>NaN</td>\n",
       "      <td>NaN</td>\n",
       "      <td>NaN</td>\n",
       "      <td>NaN</td>\n",
       "      <td>NaN</td>\n",
       "      <td>NaN</td>\n",
       "    </tr>\n",
       "    <tr>\n",
       "      <th>26</th>\n",
       "      <td>NaN</td>\n",
       "      <td>26.0</td>\n",
       "      <td>NaN</td>\n",
       "      <td>NaN</td>\n",
       "      <td>NaN</td>\n",
       "      <td>NaN</td>\n",
       "      <td>NaN</td>\n",
       "      <td>NaN</td>\n",
       "      <td>NaN</td>\n",
       "      <td>NaN</td>\n",
       "      <td>NaN</td>\n",
       "      <td>NaN</td>\n",
       "      <td>NaN</td>\n",
       "      <td>NaN</td>\n",
       "    </tr>\n",
       "    <tr>\n",
       "      <th>27</th>\n",
       "      <td>NaN</td>\n",
       "      <td>27.0</td>\n",
       "      <td>NaN</td>\n",
       "      <td>NaN</td>\n",
       "      <td>NaN</td>\n",
       "      <td>NaN</td>\n",
       "      <td>NaN</td>\n",
       "      <td>NaN</td>\n",
       "      <td>NaN</td>\n",
       "      <td>NaN</td>\n",
       "      <td>NaN</td>\n",
       "      <td>NaN</td>\n",
       "      <td>NaN</td>\n",
       "      <td>NaN</td>\n",
       "    </tr>\n",
       "    <tr>\n",
       "      <th>28</th>\n",
       "      <td>NaN</td>\n",
       "      <td>28.0</td>\n",
       "      <td>NaN</td>\n",
       "      <td>NaN</td>\n",
       "      <td>NaN</td>\n",
       "      <td>NaN</td>\n",
       "      <td>NaN</td>\n",
       "      <td>NaN</td>\n",
       "      <td>NaN</td>\n",
       "      <td>NaN</td>\n",
       "      <td>NaN</td>\n",
       "      <td>NaN</td>\n",
       "      <td>NaN</td>\n",
       "      <td>NaN</td>\n",
       "    </tr>\n",
       "    <tr>\n",
       "      <th>29</th>\n",
       "      <td>NaN</td>\n",
       "      <td>29.0</td>\n",
       "      <td>NaN</td>\n",
       "      <td>NaN</td>\n",
       "      <td>NaN</td>\n",
       "      <td>NaN</td>\n",
       "      <td>NaN</td>\n",
       "      <td>NaN</td>\n",
       "      <td>NaN</td>\n",
       "      <td>NaN</td>\n",
       "      <td>NaN</td>\n",
       "      <td>NaN</td>\n",
       "      <td>NaN</td>\n",
       "      <td>NaN</td>\n",
       "    </tr>\n",
       "    <tr>\n",
       "      <th>30</th>\n",
       "      <td>NaN</td>\n",
       "      <td>30.0</td>\n",
       "      <td>NaN</td>\n",
       "      <td>NaN</td>\n",
       "      <td>NaN</td>\n",
       "      <td>NaN</td>\n",
       "      <td>NaN</td>\n",
       "      <td>NaN</td>\n",
       "      <td>NaN</td>\n",
       "      <td>NaN</td>\n",
       "      <td>NaN</td>\n",
       "      <td>NaN</td>\n",
       "      <td>NaN</td>\n",
       "      <td>NaN</td>\n",
       "    </tr>\n",
       "    <tr>\n",
       "      <th>31</th>\n",
       "      <td>NaN</td>\n",
       "      <td>NaN</td>\n",
       "      <td>7</td>\n",
       "      <td>Employees Under Training</td>\n",
       "      <td>NaN</td>\n",
       "      <td>NaN</td>\n",
       "      <td>NaN</td>\n",
       "      <td>NaN</td>\n",
       "      <td>NaN</td>\n",
       "      <td>NaN</td>\n",
       "      <td>NaN</td>\n",
       "      <td>NaN</td>\n",
       "      <td>NaN</td>\n",
       "      <td>NaN</td>\n",
       "    </tr>\n",
       "  </tbody>\n",
       "</table>\n",
       "</div>"
      ],
      "text/plain": [
       "    Unnamed: 0  Sr. No. Employee ID             Employee Name      Department  \\\n",
       "0          NaN      NaN         NaN                       NaN             NaN   \n",
       "1          NaN      1.0    BAC12345                Raj Sharma  Administration   \n",
       "2          NaN      2.0    BAC12346                Ravi Gupta       Marketing   \n",
       "3          NaN      3.0    BAC12347                 Ashi Pura       Marketing   \n",
       "4          NaN      4.0    BAC12348                    Ankita           Sales   \n",
       "5          NaN      5.0    BAC12349                    Sujeet           Sales   \n",
       "6          NaN      6.0    BAC12350                Abhinandan       Marketing   \n",
       "7          NaN      7.0    BAC12351                 Gurukrupa           Sales   \n",
       "8          NaN      8.0         NaN                       NaN             NaN   \n",
       "9          NaN      9.0         NaN                       NaN             NaN   \n",
       "10         NaN     10.0         NaN                       NaN             NaN   \n",
       "11         NaN     11.0         NaN                       NaN             NaN   \n",
       "12         NaN     12.0         NaN                       NaN             NaN   \n",
       "13         NaN     13.0         NaN                       NaN             NaN   \n",
       "14         NaN     14.0         NaN                       NaN             NaN   \n",
       "15         NaN     15.0         NaN                       NaN             NaN   \n",
       "16         NaN     16.0         NaN                       NaN             NaN   \n",
       "17         NaN     17.0         NaN                       NaN             NaN   \n",
       "18         NaN     18.0         NaN                       NaN             NaN   \n",
       "19         NaN     19.0         NaN                       NaN             NaN   \n",
       "20         NaN     20.0         NaN                       NaN             NaN   \n",
       "21         NaN     21.0         NaN                       NaN             NaN   \n",
       "22         NaN     22.0         NaN                       NaN             NaN   \n",
       "23         NaN     23.0         NaN                       NaN             NaN   \n",
       "24         NaN     24.0         NaN                       NaN             NaN   \n",
       "25         NaN     25.0         NaN                       NaN             NaN   \n",
       "26         NaN     26.0         NaN                       NaN             NaN   \n",
       "27         NaN     27.0         NaN                       NaN             NaN   \n",
       "28         NaN     28.0         NaN                       NaN             NaN   \n",
       "29         NaN     29.0         NaN                       NaN             NaN   \n",
       "30         NaN     30.0         NaN                       NaN             NaN   \n",
       "31         NaN      NaN           7  Employees Under Training             NaN   \n",
       "\n",
       "      Designation           Start Date             End Date  Days  \\\n",
       "0             NaN                 from                until  from   \n",
       "1   Admin Assist.  2019-05-02 00:00:00  2019-05-05 00:00:00    15   \n",
       "2      Telecaller  2019-05-03 00:00:00  2019-05-16 00:00:00     2   \n",
       "3      Telecaller  2019-05-04 00:00:00  2019-05-04 00:00:00     5   \n",
       "4     Team Leader  2019-05-05 00:00:00  2019-05-08 00:00:00     5   \n",
       "5       Sales Rep  2019-05-06 00:00:00  2019-05-09 00:00:00     5   \n",
       "6      Telecaller  2019-05-07 00:00:00  2019-05-10 00:00:00     5   \n",
       "7       Sales Rep                  NaN  2019-05-11 00:00:00   NaN   \n",
       "8             NaN                  NaN                  NaN   NaN   \n",
       "9             NaN                  NaN                  NaN   NaN   \n",
       "10            NaN                  NaN                  NaN   NaN   \n",
       "11            NaN                  NaN                  NaN   NaN   \n",
       "12            NaN                  NaN                  NaN   NaN   \n",
       "13            NaN                  NaN                  NaN   NaN   \n",
       "14            NaN                  NaN                  NaN   NaN   \n",
       "15            NaN                  NaN                  NaN   NaN   \n",
       "16            NaN                  NaN                  NaN   NaN   \n",
       "17            NaN                  NaN                  NaN   NaN   \n",
       "18            NaN                  NaN                  NaN   NaN   \n",
       "19            NaN                  NaN                  NaN   NaN   \n",
       "20            NaN                  NaN                  NaN   NaN   \n",
       "21            NaN                  NaN                  NaN   NaN   \n",
       "22            NaN                  NaN                  NaN   NaN   \n",
       "23            NaN                  NaN                  NaN   NaN   \n",
       "24            NaN                  NaN                  NaN   NaN   \n",
       "25            NaN                  NaN                  NaN   NaN   \n",
       "26            NaN                  NaN                  NaN   NaN   \n",
       "27            NaN                  NaN                  NaN   NaN   \n",
       "28            NaN                  NaN                  NaN   NaN   \n",
       "29            NaN                  NaN                  NaN   NaN   \n",
       "30            NaN                  NaN                  NaN   NaN   \n",
       "31            NaN                  NaN                  NaN   NaN   \n",
       "\n",
       "           Start Date.1           End Date.1 Re-Training Skills To Upgrade  \\\n",
       "0                  from                until        Days               NaN   \n",
       "1   2019-05-11 00:00:00  2019-05-12 00:00:00           4   Call Management   \n",
       "2   2019-05-24 00:00:00  2019-05-27 00:00:00           1  Customer Support   \n",
       "3   2019-05-08 00:00:00  2019-05-08 00:00:00           1  Customer Support   \n",
       "4   2019-05-09 00:00:00  2019-05-09 00:00:00           3       Team Spirit   \n",
       "5                   NaN                  NaN           7       Sales Pitch   \n",
       "6                   NaN                  NaN           4  Customer Support   \n",
       "7                   NaN                  NaN         NaN       Sales Pitch   \n",
       "8                   NaN                  NaN         NaN               NaN   \n",
       "9                   NaN                  NaN         NaN               NaN   \n",
       "10                  NaN                  NaN         NaN               NaN   \n",
       "11                  NaN                  NaN         NaN               NaN   \n",
       "12                  NaN                  NaN         NaN               NaN   \n",
       "13                  NaN                  NaN         NaN               NaN   \n",
       "14                  NaN                  NaN         NaN               NaN   \n",
       "15                  NaN                  NaN         NaN               NaN   \n",
       "16                  NaN                  NaN         NaN               NaN   \n",
       "17                  NaN                  NaN         NaN               NaN   \n",
       "18                  NaN                  NaN         NaN               NaN   \n",
       "19                  NaN                  NaN         NaN               NaN   \n",
       "20                  NaN                  NaN         NaN               NaN   \n",
       "21                  NaN                  NaN         NaN               NaN   \n",
       "22                  NaN                  NaN         NaN               NaN   \n",
       "23                  NaN                  NaN         NaN               NaN   \n",
       "24                  NaN                  NaN         NaN               NaN   \n",
       "25                  NaN                  NaN         NaN               NaN   \n",
       "26                  NaN                  NaN         NaN               NaN   \n",
       "27                  NaN                  NaN         NaN               NaN   \n",
       "28                  NaN                  NaN         NaN               NaN   \n",
       "29                  NaN                  NaN         NaN               NaN   \n",
       "30                  NaN                  NaN         NaN               NaN   \n",
       "31                  NaN                  NaN         NaN               NaN   \n",
       "\n",
       "       Type  \n",
       "0       NaN  \n",
       "1    Indoor  \n",
       "2    Indoor  \n",
       "3    Indoor  \n",
       "4   Outdoor  \n",
       "5   Outdoor  \n",
       "6    Indoor  \n",
       "7   Outdoor  \n",
       "8       NaN  \n",
       "9       NaN  \n",
       "10      NaN  \n",
       "11      NaN  \n",
       "12      NaN  \n",
       "13      NaN  \n",
       "14      NaN  \n",
       "15      NaN  \n",
       "16      NaN  \n",
       "17      NaN  \n",
       "18      NaN  \n",
       "19      NaN  \n",
       "20      NaN  \n",
       "21      NaN  \n",
       "22      NaN  \n",
       "23      NaN  \n",
       "24      NaN  \n",
       "25      NaN  \n",
       "26      NaN  \n",
       "27      NaN  \n",
       "28      NaN  \n",
       "29      NaN  \n",
       "30      NaN  \n",
       "31      NaN  "
      ]
     },
     "execution_count": 214,
     "metadata": {},
     "output_type": "execute_result"
    }
   ],
   "source": [
    "df"
   ]
  },
  {
   "cell_type": "code",
   "execution_count": 215,
   "metadata": {},
   "outputs": [
    {
     "data": {
      "text/plain": [
       "(32, 14)"
      ]
     },
     "execution_count": 215,
     "metadata": {},
     "output_type": "execute_result"
    }
   ],
   "source": [
    "df.shape"
   ]
  },
  {
   "cell_type": "code",
   "execution_count": 216,
   "metadata": {},
   "outputs": [
    {
     "data": {
      "text/html": [
       "<div>\n",
       "<style scoped>\n",
       "    .dataframe tbody tr th:only-of-type {\n",
       "        vertical-align: middle;\n",
       "    }\n",
       "\n",
       "    .dataframe tbody tr th {\n",
       "        vertical-align: top;\n",
       "    }\n",
       "\n",
       "    .dataframe thead th {\n",
       "        text-align: right;\n",
       "    }\n",
       "</style>\n",
       "<table border=\"1\" class=\"dataframe\">\n",
       "  <thead>\n",
       "    <tr style=\"text-align: right;\">\n",
       "      <th></th>\n",
       "      <th>Unnamed: 0</th>\n",
       "      <th>Sr. No.</th>\n",
       "      <th>Employee ID</th>\n",
       "      <th>Employee Name</th>\n",
       "      <th>Department</th>\n",
       "      <th>Designation</th>\n",
       "      <th>Start Date</th>\n",
       "      <th>End Date</th>\n",
       "      <th>Days</th>\n",
       "      <th>Start Date.1</th>\n",
       "      <th>End Date.1</th>\n",
       "      <th>Re-Training</th>\n",
       "      <th>Skills To Upgrade</th>\n",
       "      <th>Type</th>\n",
       "    </tr>\n",
       "  </thead>\n",
       "  <tbody>\n",
       "    <tr>\n",
       "      <th>0</th>\n",
       "      <td>NaN</td>\n",
       "      <td>NaN</td>\n",
       "      <td>NaN</td>\n",
       "      <td>NaN</td>\n",
       "      <td>NaN</td>\n",
       "      <td>NaN</td>\n",
       "      <td>from</td>\n",
       "      <td>until</td>\n",
       "      <td>from</td>\n",
       "      <td>from</td>\n",
       "      <td>until</td>\n",
       "      <td>Days</td>\n",
       "      <td>NaN</td>\n",
       "      <td>NaN</td>\n",
       "    </tr>\n",
       "    <tr>\n",
       "      <th>1</th>\n",
       "      <td>NaN</td>\n",
       "      <td>1.0</td>\n",
       "      <td>BAC12345</td>\n",
       "      <td>Raj Sharma</td>\n",
       "      <td>Administration</td>\n",
       "      <td>Admin Assist.</td>\n",
       "      <td>2019-05-02 00:00:00</td>\n",
       "      <td>2019-05-05 00:00:00</td>\n",
       "      <td>15</td>\n",
       "      <td>2019-05-11 00:00:00</td>\n",
       "      <td>2019-05-12 00:00:00</td>\n",
       "      <td>4</td>\n",
       "      <td>Call Management</td>\n",
       "      <td>Indoor</td>\n",
       "    </tr>\n",
       "    <tr>\n",
       "      <th>2</th>\n",
       "      <td>NaN</td>\n",
       "      <td>2.0</td>\n",
       "      <td>BAC12346</td>\n",
       "      <td>Ravi Gupta</td>\n",
       "      <td>Marketing</td>\n",
       "      <td>Telecaller</td>\n",
       "      <td>2019-05-03 00:00:00</td>\n",
       "      <td>2019-05-16 00:00:00</td>\n",
       "      <td>2</td>\n",
       "      <td>2019-05-24 00:00:00</td>\n",
       "      <td>2019-05-27 00:00:00</td>\n",
       "      <td>1</td>\n",
       "      <td>Customer Support</td>\n",
       "      <td>Indoor</td>\n",
       "    </tr>\n",
       "    <tr>\n",
       "      <th>3</th>\n",
       "      <td>NaN</td>\n",
       "      <td>3.0</td>\n",
       "      <td>BAC12347</td>\n",
       "      <td>Ashi Pura</td>\n",
       "      <td>Marketing</td>\n",
       "      <td>Telecaller</td>\n",
       "      <td>2019-05-04 00:00:00</td>\n",
       "      <td>2019-05-04 00:00:00</td>\n",
       "      <td>5</td>\n",
       "      <td>2019-05-08 00:00:00</td>\n",
       "      <td>2019-05-08 00:00:00</td>\n",
       "      <td>1</td>\n",
       "      <td>Customer Support</td>\n",
       "      <td>Indoor</td>\n",
       "    </tr>\n",
       "    <tr>\n",
       "      <th>4</th>\n",
       "      <td>NaN</td>\n",
       "      <td>4.0</td>\n",
       "      <td>BAC12348</td>\n",
       "      <td>Ankita</td>\n",
       "      <td>Sales</td>\n",
       "      <td>Team Leader</td>\n",
       "      <td>2019-05-05 00:00:00</td>\n",
       "      <td>2019-05-08 00:00:00</td>\n",
       "      <td>5</td>\n",
       "      <td>2019-05-09 00:00:00</td>\n",
       "      <td>2019-05-09 00:00:00</td>\n",
       "      <td>3</td>\n",
       "      <td>Team Spirit</td>\n",
       "      <td>Outdoor</td>\n",
       "    </tr>\n",
       "    <tr>\n",
       "      <th>5</th>\n",
       "      <td>NaN</td>\n",
       "      <td>5.0</td>\n",
       "      <td>BAC12349</td>\n",
       "      <td>Sujeet</td>\n",
       "      <td>Sales</td>\n",
       "      <td>Sales Rep</td>\n",
       "      <td>2019-05-06 00:00:00</td>\n",
       "      <td>2019-05-09 00:00:00</td>\n",
       "      <td>5</td>\n",
       "      <td>NaN</td>\n",
       "      <td>NaN</td>\n",
       "      <td>7</td>\n",
       "      <td>Sales Pitch</td>\n",
       "      <td>Outdoor</td>\n",
       "    </tr>\n",
       "    <tr>\n",
       "      <th>6</th>\n",
       "      <td>NaN</td>\n",
       "      <td>6.0</td>\n",
       "      <td>BAC12350</td>\n",
       "      <td>Abhinandan</td>\n",
       "      <td>Marketing</td>\n",
       "      <td>Telecaller</td>\n",
       "      <td>2019-05-07 00:00:00</td>\n",
       "      <td>2019-05-10 00:00:00</td>\n",
       "      <td>5</td>\n",
       "      <td>NaN</td>\n",
       "      <td>NaN</td>\n",
       "      <td>4</td>\n",
       "      <td>Customer Support</td>\n",
       "      <td>Indoor</td>\n",
       "    </tr>\n",
       "    <tr>\n",
       "      <th>7</th>\n",
       "      <td>NaN</td>\n",
       "      <td>7.0</td>\n",
       "      <td>BAC12351</td>\n",
       "      <td>Gurukrupa</td>\n",
       "      <td>Sales</td>\n",
       "      <td>Sales Rep</td>\n",
       "      <td>NaN</td>\n",
       "      <td>2019-05-11 00:00:00</td>\n",
       "      <td>NaN</td>\n",
       "      <td>NaN</td>\n",
       "      <td>NaN</td>\n",
       "      <td>NaN</td>\n",
       "      <td>Sales Pitch</td>\n",
       "      <td>Outdoor</td>\n",
       "    </tr>\n",
       "  </tbody>\n",
       "</table>\n",
       "</div>"
      ],
      "text/plain": [
       "   Unnamed: 0  Sr. No. Employee ID Employee Name      Department  \\\n",
       "0         NaN      NaN         NaN           NaN             NaN   \n",
       "1         NaN      1.0    BAC12345    Raj Sharma  Administration   \n",
       "2         NaN      2.0    BAC12346    Ravi Gupta       Marketing   \n",
       "3         NaN      3.0    BAC12347     Ashi Pura       Marketing   \n",
       "4         NaN      4.0    BAC12348        Ankita           Sales   \n",
       "5         NaN      5.0    BAC12349        Sujeet           Sales   \n",
       "6         NaN      6.0    BAC12350    Abhinandan       Marketing   \n",
       "7         NaN      7.0    BAC12351     Gurukrupa           Sales   \n",
       "\n",
       "     Designation           Start Date             End Date  Days  \\\n",
       "0            NaN                 from                until  from   \n",
       "1  Admin Assist.  2019-05-02 00:00:00  2019-05-05 00:00:00    15   \n",
       "2     Telecaller  2019-05-03 00:00:00  2019-05-16 00:00:00     2   \n",
       "3     Telecaller  2019-05-04 00:00:00  2019-05-04 00:00:00     5   \n",
       "4    Team Leader  2019-05-05 00:00:00  2019-05-08 00:00:00     5   \n",
       "5      Sales Rep  2019-05-06 00:00:00  2019-05-09 00:00:00     5   \n",
       "6     Telecaller  2019-05-07 00:00:00  2019-05-10 00:00:00     5   \n",
       "7      Sales Rep                  NaN  2019-05-11 00:00:00   NaN   \n",
       "\n",
       "          Start Date.1           End Date.1 Re-Training Skills To Upgrade  \\\n",
       "0                 from                until        Days               NaN   \n",
       "1  2019-05-11 00:00:00  2019-05-12 00:00:00           4   Call Management   \n",
       "2  2019-05-24 00:00:00  2019-05-27 00:00:00           1  Customer Support   \n",
       "3  2019-05-08 00:00:00  2019-05-08 00:00:00           1  Customer Support   \n",
       "4  2019-05-09 00:00:00  2019-05-09 00:00:00           3       Team Spirit   \n",
       "5                  NaN                  NaN           7       Sales Pitch   \n",
       "6                  NaN                  NaN           4  Customer Support   \n",
       "7                  NaN                  NaN         NaN       Sales Pitch   \n",
       "\n",
       "      Type  \n",
       "0      NaN  \n",
       "1   Indoor  \n",
       "2   Indoor  \n",
       "3   Indoor  \n",
       "4  Outdoor  \n",
       "5  Outdoor  \n",
       "6   Indoor  \n",
       "7  Outdoor  "
      ]
     },
     "execution_count": 216,
     "metadata": {},
     "output_type": "execute_result"
    }
   ],
   "source": [
    "df.head(8)"
   ]
  },
  {
   "cell_type": "code",
   "execution_count": 217,
   "metadata": {
    "collapsed": true
   },
   "outputs": [
    {
     "data": {
      "text/plain": [
       "0                          NaN\n",
       "1                   Raj Sharma\n",
       "2                   Ravi Gupta\n",
       "3                    Ashi Pura\n",
       "4                       Ankita\n",
       "5                       Sujeet\n",
       "6                   Abhinandan\n",
       "7                    Gurukrupa\n",
       "8                          NaN\n",
       "9                          NaN\n",
       "10                         NaN\n",
       "11                         NaN\n",
       "12                         NaN\n",
       "13                         NaN\n",
       "14                         NaN\n",
       "15                         NaN\n",
       "16                         NaN\n",
       "17                         NaN\n",
       "18                         NaN\n",
       "19                         NaN\n",
       "20                         NaN\n",
       "21                         NaN\n",
       "22                         NaN\n",
       "23                         NaN\n",
       "24                         NaN\n",
       "25                         NaN\n",
       "26                         NaN\n",
       "27                         NaN\n",
       "28                         NaN\n",
       "29                         NaN\n",
       "30                         NaN\n",
       "31    Employees Under Training\n",
       "Name: Employee Name, dtype: object"
      ]
     },
     "execution_count": 217,
     "metadata": {},
     "output_type": "execute_result"
    }
   ],
   "source": [
    "df['Employee Name']"
   ]
  },
  {
   "cell_type": "code",
   "execution_count": 191,
   "metadata": {
    "collapsed": true
   },
   "outputs": [
    {
     "data": {
      "text/plain": [
       "array([nan, 'Raj Sharma', 'Ravi Gupta', 'Ashi Pura', 'Ankita', 'Sujeet',\n",
       "       'Abhinandan', 'Gurukrupa', nan, nan, nan, nan, nan, nan, nan, nan,\n",
       "       nan, nan, nan, nan, nan, nan, nan, nan, nan, nan, nan, nan, nan,\n",
       "       nan, nan, 'Employees Under Training'], dtype=object)"
      ]
     },
     "execution_count": 191,
     "metadata": {},
     "output_type": "execute_result"
    }
   ],
   "source": [
    "df['Employee Name'].values"
   ]
  },
  {
   "cell_type": "code",
   "execution_count": 218,
   "metadata": {},
   "outputs": [
    {
     "data": {
      "text/html": [
       "<div>\n",
       "<style scoped>\n",
       "    .dataframe tbody tr th:only-of-type {\n",
       "        vertical-align: middle;\n",
       "    }\n",
       "\n",
       "    .dataframe tbody tr th {\n",
       "        vertical-align: top;\n",
       "    }\n",
       "\n",
       "    .dataframe thead th {\n",
       "        text-align: right;\n",
       "    }\n",
       "</style>\n",
       "<table border=\"1\" class=\"dataframe\">\n",
       "  <thead>\n",
       "    <tr style=\"text-align: right;\">\n",
       "      <th></th>\n",
       "      <th>Employee ID</th>\n",
       "      <th>Department</th>\n",
       "    </tr>\n",
       "  </thead>\n",
       "  <tbody>\n",
       "    <tr>\n",
       "      <th>1</th>\n",
       "      <td>BAC12345</td>\n",
       "      <td>Administration</td>\n",
       "    </tr>\n",
       "    <tr>\n",
       "      <th>2</th>\n",
       "      <td>BAC12346</td>\n",
       "      <td>Marketing</td>\n",
       "    </tr>\n",
       "  </tbody>\n",
       "</table>\n",
       "</div>"
      ],
      "text/plain": [
       "  Employee ID      Department\n",
       "1    BAC12345  Administration\n",
       "2    BAC12346       Marketing"
      ]
     },
     "execution_count": 218,
     "metadata": {},
     "output_type": "execute_result"
    }
   ],
   "source": [
    "df.loc[[1,2],[\"Employee ID\",\"Department\"]]"
   ]
  },
  {
   "cell_type": "code",
   "execution_count": 219,
   "metadata": {},
   "outputs": [
    {
     "data": {
      "text/html": [
       "<div>\n",
       "<style scoped>\n",
       "    .dataframe tbody tr th:only-of-type {\n",
       "        vertical-align: middle;\n",
       "    }\n",
       "\n",
       "    .dataframe tbody tr th {\n",
       "        vertical-align: top;\n",
       "    }\n",
       "\n",
       "    .dataframe thead th {\n",
       "        text-align: right;\n",
       "    }\n",
       "</style>\n",
       "<table border=\"1\" class=\"dataframe\">\n",
       "  <thead>\n",
       "    <tr style=\"text-align: right;\">\n",
       "      <th></th>\n",
       "      <th>Employee Name</th>\n",
       "      <th>Department</th>\n",
       "    </tr>\n",
       "  </thead>\n",
       "  <tbody>\n",
       "    <tr>\n",
       "      <th>1</th>\n",
       "      <td>Raj Sharma</td>\n",
       "      <td>Administration</td>\n",
       "    </tr>\n",
       "    <tr>\n",
       "      <th>2</th>\n",
       "      <td>Ravi Gupta</td>\n",
       "      <td>Marketing</td>\n",
       "    </tr>\n",
       "  </tbody>\n",
       "</table>\n",
       "</div>"
      ],
      "text/plain": [
       "  Employee Name      Department\n",
       "1    Raj Sharma  Administration\n",
       "2    Ravi Gupta       Marketing"
      ]
     },
     "execution_count": 219,
     "metadata": {},
     "output_type": "execute_result"
    }
   ],
   "source": [
    "df.iloc[[1,2],[3,4]]"
   ]
  },
  {
   "cell_type": "code",
   "execution_count": 220,
   "metadata": {
    "collapsed": true
   },
   "outputs": [
    {
     "data": {
      "text/html": [
       "<div>\n",
       "<style scoped>\n",
       "    .dataframe tbody tr th:only-of-type {\n",
       "        vertical-align: middle;\n",
       "    }\n",
       "\n",
       "    .dataframe tbody tr th {\n",
       "        vertical-align: top;\n",
       "    }\n",
       "\n",
       "    .dataframe thead th {\n",
       "        text-align: right;\n",
       "    }\n",
       "</style>\n",
       "<table border=\"1\" class=\"dataframe\">\n",
       "  <thead>\n",
       "    <tr style=\"text-align: right;\">\n",
       "      <th></th>\n",
       "      <th>Sr. No.</th>\n",
       "      <th>Employee ID</th>\n",
       "      <th>Employee Name</th>\n",
       "    </tr>\n",
       "  </thead>\n",
       "  <tbody>\n",
       "    <tr>\n",
       "      <th>0</th>\n",
       "      <td>NaN</td>\n",
       "      <td>NaN</td>\n",
       "      <td>NaN</td>\n",
       "    </tr>\n",
       "    <tr>\n",
       "      <th>1</th>\n",
       "      <td>1.0</td>\n",
       "      <td>BAC12345</td>\n",
       "      <td>Raj Sharma</td>\n",
       "    </tr>\n",
       "    <tr>\n",
       "      <th>2</th>\n",
       "      <td>2.0</td>\n",
       "      <td>BAC12346</td>\n",
       "      <td>Ravi Gupta</td>\n",
       "    </tr>\n",
       "    <tr>\n",
       "      <th>3</th>\n",
       "      <td>3.0</td>\n",
       "      <td>BAC12347</td>\n",
       "      <td>Ashi Pura</td>\n",
       "    </tr>\n",
       "    <tr>\n",
       "      <th>4</th>\n",
       "      <td>4.0</td>\n",
       "      <td>BAC12348</td>\n",
       "      <td>Ankita</td>\n",
       "    </tr>\n",
       "    <tr>\n",
       "      <th>5</th>\n",
       "      <td>5.0</td>\n",
       "      <td>BAC12349</td>\n",
       "      <td>Sujeet</td>\n",
       "    </tr>\n",
       "    <tr>\n",
       "      <th>6</th>\n",
       "      <td>6.0</td>\n",
       "      <td>BAC12350</td>\n",
       "      <td>Abhinandan</td>\n",
       "    </tr>\n",
       "    <tr>\n",
       "      <th>7</th>\n",
       "      <td>7.0</td>\n",
       "      <td>BAC12351</td>\n",
       "      <td>Gurukrupa</td>\n",
       "    </tr>\n",
       "    <tr>\n",
       "      <th>8</th>\n",
       "      <td>8.0</td>\n",
       "      <td>NaN</td>\n",
       "      <td>NaN</td>\n",
       "    </tr>\n",
       "    <tr>\n",
       "      <th>9</th>\n",
       "      <td>9.0</td>\n",
       "      <td>NaN</td>\n",
       "      <td>NaN</td>\n",
       "    </tr>\n",
       "    <tr>\n",
       "      <th>10</th>\n",
       "      <td>10.0</td>\n",
       "      <td>NaN</td>\n",
       "      <td>NaN</td>\n",
       "    </tr>\n",
       "    <tr>\n",
       "      <th>11</th>\n",
       "      <td>11.0</td>\n",
       "      <td>NaN</td>\n",
       "      <td>NaN</td>\n",
       "    </tr>\n",
       "    <tr>\n",
       "      <th>12</th>\n",
       "      <td>12.0</td>\n",
       "      <td>NaN</td>\n",
       "      <td>NaN</td>\n",
       "    </tr>\n",
       "    <tr>\n",
       "      <th>13</th>\n",
       "      <td>13.0</td>\n",
       "      <td>NaN</td>\n",
       "      <td>NaN</td>\n",
       "    </tr>\n",
       "    <tr>\n",
       "      <th>14</th>\n",
       "      <td>14.0</td>\n",
       "      <td>NaN</td>\n",
       "      <td>NaN</td>\n",
       "    </tr>\n",
       "    <tr>\n",
       "      <th>15</th>\n",
       "      <td>15.0</td>\n",
       "      <td>NaN</td>\n",
       "      <td>NaN</td>\n",
       "    </tr>\n",
       "    <tr>\n",
       "      <th>16</th>\n",
       "      <td>16.0</td>\n",
       "      <td>NaN</td>\n",
       "      <td>NaN</td>\n",
       "    </tr>\n",
       "    <tr>\n",
       "      <th>17</th>\n",
       "      <td>17.0</td>\n",
       "      <td>NaN</td>\n",
       "      <td>NaN</td>\n",
       "    </tr>\n",
       "    <tr>\n",
       "      <th>18</th>\n",
       "      <td>18.0</td>\n",
       "      <td>NaN</td>\n",
       "      <td>NaN</td>\n",
       "    </tr>\n",
       "    <tr>\n",
       "      <th>19</th>\n",
       "      <td>19.0</td>\n",
       "      <td>NaN</td>\n",
       "      <td>NaN</td>\n",
       "    </tr>\n",
       "    <tr>\n",
       "      <th>20</th>\n",
       "      <td>20.0</td>\n",
       "      <td>NaN</td>\n",
       "      <td>NaN</td>\n",
       "    </tr>\n",
       "    <tr>\n",
       "      <th>21</th>\n",
       "      <td>21.0</td>\n",
       "      <td>NaN</td>\n",
       "      <td>NaN</td>\n",
       "    </tr>\n",
       "    <tr>\n",
       "      <th>22</th>\n",
       "      <td>22.0</td>\n",
       "      <td>NaN</td>\n",
       "      <td>NaN</td>\n",
       "    </tr>\n",
       "    <tr>\n",
       "      <th>23</th>\n",
       "      <td>23.0</td>\n",
       "      <td>NaN</td>\n",
       "      <td>NaN</td>\n",
       "    </tr>\n",
       "    <tr>\n",
       "      <th>24</th>\n",
       "      <td>24.0</td>\n",
       "      <td>NaN</td>\n",
       "      <td>NaN</td>\n",
       "    </tr>\n",
       "    <tr>\n",
       "      <th>25</th>\n",
       "      <td>25.0</td>\n",
       "      <td>NaN</td>\n",
       "      <td>NaN</td>\n",
       "    </tr>\n",
       "    <tr>\n",
       "      <th>26</th>\n",
       "      <td>26.0</td>\n",
       "      <td>NaN</td>\n",
       "      <td>NaN</td>\n",
       "    </tr>\n",
       "    <tr>\n",
       "      <th>27</th>\n",
       "      <td>27.0</td>\n",
       "      <td>NaN</td>\n",
       "      <td>NaN</td>\n",
       "    </tr>\n",
       "    <tr>\n",
       "      <th>28</th>\n",
       "      <td>28.0</td>\n",
       "      <td>NaN</td>\n",
       "      <td>NaN</td>\n",
       "    </tr>\n",
       "    <tr>\n",
       "      <th>29</th>\n",
       "      <td>29.0</td>\n",
       "      <td>NaN</td>\n",
       "      <td>NaN</td>\n",
       "    </tr>\n",
       "    <tr>\n",
       "      <th>30</th>\n",
       "      <td>30.0</td>\n",
       "      <td>NaN</td>\n",
       "      <td>NaN</td>\n",
       "    </tr>\n",
       "    <tr>\n",
       "      <th>31</th>\n",
       "      <td>NaN</td>\n",
       "      <td>7</td>\n",
       "      <td>Employees Under Training</td>\n",
       "    </tr>\n",
       "  </tbody>\n",
       "</table>\n",
       "</div>"
      ],
      "text/plain": [
       "    Sr. No. Employee ID             Employee Name\n",
       "0       NaN         NaN                       NaN\n",
       "1       1.0    BAC12345                Raj Sharma\n",
       "2       2.0    BAC12346                Ravi Gupta\n",
       "3       3.0    BAC12347                 Ashi Pura\n",
       "4       4.0    BAC12348                    Ankita\n",
       "5       5.0    BAC12349                    Sujeet\n",
       "6       6.0    BAC12350                Abhinandan\n",
       "7       7.0    BAC12351                 Gurukrupa\n",
       "8       8.0         NaN                       NaN\n",
       "9       9.0         NaN                       NaN\n",
       "10     10.0         NaN                       NaN\n",
       "11     11.0         NaN                       NaN\n",
       "12     12.0         NaN                       NaN\n",
       "13     13.0         NaN                       NaN\n",
       "14     14.0         NaN                       NaN\n",
       "15     15.0         NaN                       NaN\n",
       "16     16.0         NaN                       NaN\n",
       "17     17.0         NaN                       NaN\n",
       "18     18.0         NaN                       NaN\n",
       "19     19.0         NaN                       NaN\n",
       "20     20.0         NaN                       NaN\n",
       "21     21.0         NaN                       NaN\n",
       "22     22.0         NaN                       NaN\n",
       "23     23.0         NaN                       NaN\n",
       "24     24.0         NaN                       NaN\n",
       "25     25.0         NaN                       NaN\n",
       "26     26.0         NaN                       NaN\n",
       "27     27.0         NaN                       NaN\n",
       "28     28.0         NaN                       NaN\n",
       "29     29.0         NaN                       NaN\n",
       "30     30.0         NaN                       NaN\n",
       "31      NaN           7  Employees Under Training"
      ]
     },
     "execution_count": 220,
     "metadata": {},
     "output_type": "execute_result"
    }
   ],
   "source": [
    "df.iloc[:,1:4]"
   ]
  },
  {
   "cell_type": "code",
   "execution_count": 222,
   "metadata": {
    "collapsed": true
   },
   "outputs": [
    {
     "data": {
      "text/html": [
       "<div>\n",
       "<style scoped>\n",
       "    .dataframe tbody tr th:only-of-type {\n",
       "        vertical-align: middle;\n",
       "    }\n",
       "\n",
       "    .dataframe tbody tr th {\n",
       "        vertical-align: top;\n",
       "    }\n",
       "\n",
       "    .dataframe thead th {\n",
       "        text-align: right;\n",
       "    }\n",
       "</style>\n",
       "<table border=\"1\" class=\"dataframe\">\n",
       "  <thead>\n",
       "    <tr style=\"text-align: right;\">\n",
       "      <th></th>\n",
       "      <th>Sr. No.</th>\n",
       "      <th>Employee ID</th>\n",
       "      <th>Employee Name</th>\n",
       "      <th>Department</th>\n",
       "      <th>Designation</th>\n",
       "      <th>Start Date</th>\n",
       "      <th>End Date</th>\n",
       "      <th>Days</th>\n",
       "      <th>Start Date.1</th>\n",
       "      <th>End Date.1</th>\n",
       "      <th>Re-Training</th>\n",
       "      <th>Skills To Upgrade</th>\n",
       "      <th>Type</th>\n",
       "    </tr>\n",
       "  </thead>\n",
       "  <tbody>\n",
       "    <tr>\n",
       "      <th>1</th>\n",
       "      <td>1.0</td>\n",
       "      <td>BAC12345</td>\n",
       "      <td>Raj Sharma</td>\n",
       "      <td>Administration</td>\n",
       "      <td>Admin Assist.</td>\n",
       "      <td>2019-05-02 00:00:00</td>\n",
       "      <td>2019-05-05 00:00:00</td>\n",
       "      <td>15</td>\n",
       "      <td>2019-05-11 00:00:00</td>\n",
       "      <td>2019-05-12 00:00:00</td>\n",
       "      <td>4</td>\n",
       "      <td>Call Management</td>\n",
       "      <td>Indoor</td>\n",
       "    </tr>\n",
       "    <tr>\n",
       "      <th>2</th>\n",
       "      <td>2.0</td>\n",
       "      <td>BAC12346</td>\n",
       "      <td>Ravi Gupta</td>\n",
       "      <td>Marketing</td>\n",
       "      <td>Telecaller</td>\n",
       "      <td>2019-05-03 00:00:00</td>\n",
       "      <td>2019-05-16 00:00:00</td>\n",
       "      <td>2</td>\n",
       "      <td>2019-05-24 00:00:00</td>\n",
       "      <td>2019-05-27 00:00:00</td>\n",
       "      <td>1</td>\n",
       "      <td>Customer Support</td>\n",
       "      <td>Indoor</td>\n",
       "    </tr>\n",
       "    <tr>\n",
       "      <th>3</th>\n",
       "      <td>3.0</td>\n",
       "      <td>BAC12347</td>\n",
       "      <td>Ashi Pura</td>\n",
       "      <td>Marketing</td>\n",
       "      <td>Telecaller</td>\n",
       "      <td>2019-05-04 00:00:00</td>\n",
       "      <td>2019-05-04 00:00:00</td>\n",
       "      <td>5</td>\n",
       "      <td>2019-05-08 00:00:00</td>\n",
       "      <td>2019-05-08 00:00:00</td>\n",
       "      <td>1</td>\n",
       "      <td>Customer Support</td>\n",
       "      <td>Indoor</td>\n",
       "    </tr>\n",
       "    <tr>\n",
       "      <th>4</th>\n",
       "      <td>4.0</td>\n",
       "      <td>BAC12348</td>\n",
       "      <td>Ankita</td>\n",
       "      <td>Sales</td>\n",
       "      <td>Team Leader</td>\n",
       "      <td>2019-05-05 00:00:00</td>\n",
       "      <td>2019-05-08 00:00:00</td>\n",
       "      <td>5</td>\n",
       "      <td>2019-05-09 00:00:00</td>\n",
       "      <td>2019-05-09 00:00:00</td>\n",
       "      <td>3</td>\n",
       "      <td>Team Spirit</td>\n",
       "      <td>Outdoor</td>\n",
       "    </tr>\n",
       "  </tbody>\n",
       "</table>\n",
       "</div>"
      ],
      "text/plain": [
       "   Sr. No. Employee ID Employee Name      Department    Designation  \\\n",
       "1      1.0    BAC12345    Raj Sharma  Administration  Admin Assist.   \n",
       "2      2.0    BAC12346    Ravi Gupta       Marketing     Telecaller   \n",
       "3      3.0    BAC12347     Ashi Pura       Marketing     Telecaller   \n",
       "4      4.0    BAC12348        Ankita           Sales    Team Leader   \n",
       "\n",
       "            Start Date             End Date Days         Start Date.1  \\\n",
       "1  2019-05-02 00:00:00  2019-05-05 00:00:00   15  2019-05-11 00:00:00   \n",
       "2  2019-05-03 00:00:00  2019-05-16 00:00:00    2  2019-05-24 00:00:00   \n",
       "3  2019-05-04 00:00:00  2019-05-04 00:00:00    5  2019-05-08 00:00:00   \n",
       "4  2019-05-05 00:00:00  2019-05-08 00:00:00    5  2019-05-09 00:00:00   \n",
       "\n",
       "            End Date.1 Re-Training Skills To Upgrade     Type  \n",
       "1  2019-05-12 00:00:00           4   Call Management   Indoor  \n",
       "2  2019-05-27 00:00:00           1  Customer Support   Indoor  \n",
       "3  2019-05-08 00:00:00           1  Customer Support   Indoor  \n",
       "4  2019-05-09 00:00:00           3       Team Spirit  Outdoor  "
      ]
     },
     "execution_count": 222,
     "metadata": {},
     "output_type": "execute_result"
    }
   ],
   "source": [
    "df.iloc[1:5,1:14]"
   ]
  },
  {
   "cell_type": "code",
   "execution_count": null,
   "metadata": {},
   "outputs": [],
   "source": []
  }
 ],
 "metadata": {
  "kernelspec": {
   "display_name": "Python 3",
   "language": "python",
   "name": "python3"
  },
  "language_info": {
   "codemirror_mode": {
    "name": "ipython",
    "version": 3
   },
   "file_extension": ".py",
   "mimetype": "text/x-python",
   "name": "python",
   "nbconvert_exporter": "python",
   "pygments_lexer": "ipython3",
   "version": "3.7.3"
  }
 },
 "nbformat": 4,
 "nbformat_minor": 2
}
